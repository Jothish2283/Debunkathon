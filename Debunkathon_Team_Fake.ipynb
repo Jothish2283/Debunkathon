{
  "cells": [
    {
      "cell_type": "markdown",
      "metadata": {
        "id": "view-in-github",
        "colab_type": "text"
      },
      "source": [
        "<a href=\"https://colab.research.google.com/github/Jothish2283/Debunkathon/blob/main/Debunkathon_Team_Fake.ipynb\" target=\"_parent\"><img src=\"https://colab.research.google.com/assets/colab-badge.svg\" alt=\"Open In Colab\"/></a>"
      ]
    },
    {
      "cell_type": "markdown",
      "metadata": {
        "id": "sO0SZoLBxt5t"
      },
      "source": [
        "#**Getting the data**"
      ]
    },
    {
      "cell_type": "code",
      "execution_count": null,
      "metadata": {
        "colab": {
          "base_uri": "https://localhost:8080/"
        },
        "id": "VthKRFYxOxQQ",
        "outputId": "8ee7ee34-d516-44a9-aa1d-f19d8d27250c"
      },
      "outputs": [
        {
          "output_type": "stream",
          "name": "stdout",
          "text": [
            "--2023-02-15 14:16:25--  https://zenodo.org/record/4561253/files/WELFake_Dataset.csv?download=1\n",
            "Resolving zenodo.org (zenodo.org)... 188.185.124.72\n",
            "Connecting to zenodo.org (zenodo.org)|188.185.124.72|:443... connected.\n",
            "HTTP request sent, awaiting response... 200 OK\n",
            "Length: 245086152 (234M) [text/plain]\n",
            "Saving to: ‘WELFake_Dataset.csv?download=1’\n",
            "\n",
            "WELFake_Dataset.csv 100%[===================>] 233.73M   534KB/s    in 7m 45s  \n",
            "\n",
            "2023-02-15 14:24:11 (515 KB/s) - ‘WELFake_Dataset.csv?download=1’ saved [245086152/245086152]\n",
            "\n"
          ]
        }
      ],
      "source": [
        "!wget https://zenodo.org/record/4561253/files/WELFake_Dataset.csv?download=1"
      ]
    },
    {
      "cell_type": "code",
      "execution_count": null,
      "metadata": {
        "colab": {
          "base_uri": "https://localhost:8080/",
          "height": 302
        },
        "id": "Ipxq_wqha13i",
        "outputId": "8055b9f4-8938-4618-e9dd-ec7fc52aad80"
      },
      "outputs": [
        {
          "output_type": "execute_result",
          "data": {
            "text/plain": [
              "   Unnamed: 0                                              title  \\\n",
              "0           0  LAW ENFORCEMENT ON HIGH ALERT Following Threat...   \n",
              "1           1                                                NaN   \n",
              "2           2  UNBELIEVABLE! OBAMA’S ATTORNEY GENERAL SAYS MO...   \n",
              "3           3  Bobby Jindal, raised Hindu, uses story of Chri...   \n",
              "4           4  SATAN 2: Russia unvelis an image of its terrif...   \n",
              "\n",
              "                                                text  label  \n",
              "0  No comment is expected from Barack Obama Membe...      1  \n",
              "1     Did they post their votes for Hillary already?      1  \n",
              "2   Now, most of the demonstrators gathered last ...      1  \n",
              "3  A dozen politically active pastors came here f...      0  \n",
              "4  The RS-28 Sarmat missile, dubbed Satan 2, will...      1  "
            ],
            "text/html": [
              "\n",
              "  <div id=\"df-9176945b-aba4-49e7-a07c-a642b7c2ff96\">\n",
              "    <div class=\"colab-df-container\">\n",
              "      <div>\n",
              "<style scoped>\n",
              "    .dataframe tbody tr th:only-of-type {\n",
              "        vertical-align: middle;\n",
              "    }\n",
              "\n",
              "    .dataframe tbody tr th {\n",
              "        vertical-align: top;\n",
              "    }\n",
              "\n",
              "    .dataframe thead th {\n",
              "        text-align: right;\n",
              "    }\n",
              "</style>\n",
              "<table border=\"1\" class=\"dataframe\">\n",
              "  <thead>\n",
              "    <tr style=\"text-align: right;\">\n",
              "      <th></th>\n",
              "      <th>Unnamed: 0</th>\n",
              "      <th>title</th>\n",
              "      <th>text</th>\n",
              "      <th>label</th>\n",
              "    </tr>\n",
              "  </thead>\n",
              "  <tbody>\n",
              "    <tr>\n",
              "      <th>0</th>\n",
              "      <td>0</td>\n",
              "      <td>LAW ENFORCEMENT ON HIGH ALERT Following Threat...</td>\n",
              "      <td>No comment is expected from Barack Obama Membe...</td>\n",
              "      <td>1</td>\n",
              "    </tr>\n",
              "    <tr>\n",
              "      <th>1</th>\n",
              "      <td>1</td>\n",
              "      <td>NaN</td>\n",
              "      <td>Did they post their votes for Hillary already?</td>\n",
              "      <td>1</td>\n",
              "    </tr>\n",
              "    <tr>\n",
              "      <th>2</th>\n",
              "      <td>2</td>\n",
              "      <td>UNBELIEVABLE! OBAMA’S ATTORNEY GENERAL SAYS MO...</td>\n",
              "      <td>Now, most of the demonstrators gathered last ...</td>\n",
              "      <td>1</td>\n",
              "    </tr>\n",
              "    <tr>\n",
              "      <th>3</th>\n",
              "      <td>3</td>\n",
              "      <td>Bobby Jindal, raised Hindu, uses story of Chri...</td>\n",
              "      <td>A dozen politically active pastors came here f...</td>\n",
              "      <td>0</td>\n",
              "    </tr>\n",
              "    <tr>\n",
              "      <th>4</th>\n",
              "      <td>4</td>\n",
              "      <td>SATAN 2: Russia unvelis an image of its terrif...</td>\n",
              "      <td>The RS-28 Sarmat missile, dubbed Satan 2, will...</td>\n",
              "      <td>1</td>\n",
              "    </tr>\n",
              "  </tbody>\n",
              "</table>\n",
              "</div>\n",
              "      <button class=\"colab-df-convert\" onclick=\"convertToInteractive('df-9176945b-aba4-49e7-a07c-a642b7c2ff96')\"\n",
              "              title=\"Convert this dataframe to an interactive table.\"\n",
              "              style=\"display:none;\">\n",
              "        \n",
              "  <svg xmlns=\"http://www.w3.org/2000/svg\" height=\"24px\"viewBox=\"0 0 24 24\"\n",
              "       width=\"24px\">\n",
              "    <path d=\"M0 0h24v24H0V0z\" fill=\"none\"/>\n",
              "    <path d=\"M18.56 5.44l.94 2.06.94-2.06 2.06-.94-2.06-.94-.94-2.06-.94 2.06-2.06.94zm-11 1L8.5 8.5l.94-2.06 2.06-.94-2.06-.94L8.5 2.5l-.94 2.06-2.06.94zm10 10l.94 2.06.94-2.06 2.06-.94-2.06-.94-.94-2.06-.94 2.06-2.06.94z\"/><path d=\"M17.41 7.96l-1.37-1.37c-.4-.4-.92-.59-1.43-.59-.52 0-1.04.2-1.43.59L10.3 9.45l-7.72 7.72c-.78.78-.78 2.05 0 2.83L4 21.41c.39.39.9.59 1.41.59.51 0 1.02-.2 1.41-.59l7.78-7.78 2.81-2.81c.8-.78.8-2.07 0-2.86zM5.41 20L4 18.59l7.72-7.72 1.47 1.35L5.41 20z\"/>\n",
              "  </svg>\n",
              "      </button>\n",
              "      \n",
              "  <style>\n",
              "    .colab-df-container {\n",
              "      display:flex;\n",
              "      flex-wrap:wrap;\n",
              "      gap: 12px;\n",
              "    }\n",
              "\n",
              "    .colab-df-convert {\n",
              "      background-color: #E8F0FE;\n",
              "      border: none;\n",
              "      border-radius: 50%;\n",
              "      cursor: pointer;\n",
              "      display: none;\n",
              "      fill: #1967D2;\n",
              "      height: 32px;\n",
              "      padding: 0 0 0 0;\n",
              "      width: 32px;\n",
              "    }\n",
              "\n",
              "    .colab-df-convert:hover {\n",
              "      background-color: #E2EBFA;\n",
              "      box-shadow: 0px 1px 2px rgba(60, 64, 67, 0.3), 0px 1px 3px 1px rgba(60, 64, 67, 0.15);\n",
              "      fill: #174EA6;\n",
              "    }\n",
              "\n",
              "    [theme=dark] .colab-df-convert {\n",
              "      background-color: #3B4455;\n",
              "      fill: #D2E3FC;\n",
              "    }\n",
              "\n",
              "    [theme=dark] .colab-df-convert:hover {\n",
              "      background-color: #434B5C;\n",
              "      box-shadow: 0px 1px 3px 1px rgba(0, 0, 0, 0.15);\n",
              "      filter: drop-shadow(0px 1px 2px rgba(0, 0, 0, 0.3));\n",
              "      fill: #FFFFFF;\n",
              "    }\n",
              "  </style>\n",
              "\n",
              "      <script>\n",
              "        const buttonEl =\n",
              "          document.querySelector('#df-9176945b-aba4-49e7-a07c-a642b7c2ff96 button.colab-df-convert');\n",
              "        buttonEl.style.display =\n",
              "          google.colab.kernel.accessAllowed ? 'block' : 'none';\n",
              "\n",
              "        async function convertToInteractive(key) {\n",
              "          const element = document.querySelector('#df-9176945b-aba4-49e7-a07c-a642b7c2ff96');\n",
              "          const dataTable =\n",
              "            await google.colab.kernel.invokeFunction('convertToInteractive',\n",
              "                                                     [key], {});\n",
              "          if (!dataTable) return;\n",
              "\n",
              "          const docLinkHtml = 'Like what you see? Visit the ' +\n",
              "            '<a target=\"_blank\" href=https://colab.research.google.com/notebooks/data_table.ipynb>data table notebook</a>'\n",
              "            + ' to learn more about interactive tables.';\n",
              "          element.innerHTML = '';\n",
              "          dataTable['output_type'] = 'display_data';\n",
              "          await google.colab.output.renderOutput(dataTable, element);\n",
              "          const docLink = document.createElement('div');\n",
              "          docLink.innerHTML = docLinkHtml;\n",
              "          element.appendChild(docLink);\n",
              "        }\n",
              "      </script>\n",
              "    </div>\n",
              "  </div>\n",
              "  "
            ]
          },
          "metadata": {},
          "execution_count": 2
        }
      ],
      "source": [
        "import pandas as pd\n",
        "\n",
        "# loading the dataset to a pandas DataFrame\n",
        "news_dataset = pd.read_csv('/content/WELFake_Dataset.csv?download=1')\n",
        "# the first 5 rows of the dataframe\n",
        "news_dataset.head()"
      ]
    },
    {
      "cell_type": "code",
      "execution_count": null,
      "metadata": {
        "colab": {
          "base_uri": "https://localhost:8080/"
        },
        "id": "1Z5Blm0zc_KN",
        "outputId": "702f2d7f-7145-4bf0-f551-75af3c398e1a"
      },
      "outputs": [
        {
          "output_type": "execute_result",
          "data": {
            "text/plain": [
              "Unnamed: 0      0\n",
              "title         558\n",
              "text           39\n",
              "label           0\n",
              "dtype: int64"
            ]
          },
          "metadata": {},
          "execution_count": 3
        }
      ],
      "source": [
        "# counting the number of missing values in the dataset\n",
        "news_dataset.isnull().sum()#count no.of missing value in each column"
      ]
    },
    {
      "cell_type": "code",
      "execution_count": null,
      "metadata": {
        "id": "uJcMPcTndYZJ"
      },
      "outputs": [],
      "source": [
        "# replacing the null values with empty string\n",
        "news_dataset = news_dataset.fillna('')#fillna fills with whatever we mention"
      ]
    },
    {
      "cell_type": "markdown",
      "metadata": {
        "id": "2VmNKdBm6Pcn"
      },
      "source": [
        "#**Helper functions**"
      ]
    },
    {
      "cell_type": "code",
      "execution_count": null,
      "metadata": {
        "id": "zO-WHIib6Sxa"
      },
      "outputs": [],
      "source": [
        "from sklearn.metrics import accuracy_score, f1_score, recall_score, precision_score\n",
        "def calculate_metrics(y_true, y_preds):\n",
        "  model_results={\"Accuracy\": accuracy_score(y_true, y_preds),\n",
        "                 \"Precision\": precision_score(y_true, y_preds),\n",
        "                 \"Recall\": recall_score(y_true, y_preds),\n",
        "                 \"f1_score\": f1_score(y_true, y_preds),\n",
        "                 }\n",
        "  return model_results"
      ]
    },
    {
      "cell_type": "markdown",
      "metadata": {
        "id": "yZsA8CuMbr0e"
      },
      "source": [
        "#**ML_Approach**"
      ]
    },
    {
      "cell_type": "markdown",
      "metadata": {
        "id": "X-0uRKNTb16l"
      },
      "source": [
        "**Importing dependencies**"
      ]
    },
    {
      "cell_type": "code",
      "execution_count": null,
      "metadata": {
        "id": "RPYmhyfpbxSb"
      },
      "outputs": [],
      "source": [
        "import numpy as np\n",
        "import pandas as pd\n",
        "import re#useful for searching the text in the document\n",
        "from nltk.corpus import stopwords# corpus: body of the particular text,nltk natural language tool kit,the text we are going to work,stopwords are those words which doesnt add value to our paragraph or text(the,an,a,..)\n",
        "from nltk.stem.porter import PorterStemmer#stemming takes the word removes prefix and suffix of the word and returns the root of the word/root word\n",
        "from sklearn.feature_extraction.text import TfidfVectorizer# TfidfVectorizer convert text into feature vectors\n",
        "from sklearn.model_selection import train_test_split # splits train and test data\n",
        "from sklearn.linear_model import LogisticRegression\n",
        "from sklearn.neighbors import KNeighborsClassifier\n",
        "from sklearn import svm\n",
        "from sklearn import tree\n",
        "from xgboost import XGBClassifier\n",
        "from sklearn.naive_bayes import GaussianNB\n",
        "import lightgbm\n",
        "from lightgbm import LGBMClassifier\n",
        "from sklearn.ensemble import RandomForestClassifier \n",
        "from sklearn.ensemble import VotingClassifier\n",
        "from sklearn.metrics import accuracy_score"
      ]
    },
    {
      "cell_type": "code",
      "execution_count": null,
      "metadata": {
        "colab": {
          "base_uri": "https://localhost:8080/"
        },
        "id": "enNN3gIocClO",
        "outputId": "98f41fc6-fcfa-4609-82af-c419a625756a"
      },
      "outputs": [
        {
          "output_type": "stream",
          "name": "stderr",
          "text": [
            "[nltk_data] Downloading package stopwords to /root/nltk_data...\n",
            "[nltk_data]   Unzipping corpora/stopwords.zip.\n"
          ]
        },
        {
          "output_type": "execute_result",
          "data": {
            "text/plain": [
              "True"
            ]
          },
          "metadata": {},
          "execution_count": 7
        }
      ],
      "source": [
        "import nltk\n",
        "nltk.download('stopwords')"
      ]
    },
    {
      "cell_type": "code",
      "execution_count": null,
      "metadata": {
        "id": "G8qxV5gXcDUE"
      },
      "outputs": [],
      "source": [
        "# separating the data & label\n",
        "X = news_dataset.drop(columns='label', axis=1)# axis = 1 represents columns\n",
        "Y = news_dataset['label']"
      ]
    },
    {
      "cell_type": "markdown",
      "metadata": {
        "id": "ymhyv6WCeHgm"
      },
      "source": [
        "Stemming:\n",
        "stemming is the process of reducing a word to its rootword\n",
        "example:\n",
        "actor,actress,acting-->act(rootword)\n",
        "\n",
        "we do this for increasing performance"
      ]
    },
    {
      "cell_type": "code",
      "execution_count": null,
      "metadata": {
        "id": "F1VvHKe5eJaf"
      },
      "outputs": [],
      "source": [
        "port_stem = PorterStemmer()"
      ]
    },
    {
      "cell_type": "code",
      "execution_count": null,
      "metadata": {
        "id": "JcSUKOKrrdCw"
      },
      "outputs": [],
      "source": [
        "cachedStopWords = stopwords.words('english')"
      ]
    },
    {
      "cell_type": "code",
      "execution_count": null,
      "metadata": {
        "id": "p7WQFQrFeQ4x"
      },
      "outputs": [],
      "source": [
        "def stemming(content):\n",
        "    stemmed_content = re.sub('[^a-zA-Z]',' ',content)# re :searching paragraph or text, sub :substitute certain values,˄:exclusion (we are taking only alphabets ,excluding other than the  thing which is present in the set) other than alphabets are written as ' '(space)\n",
        "    stemmed_content = stemmed_content.lower()# converting all letters to lower case\n",
        "    stemmed_content = stemmed_content.split()# splitting to converted to list\n",
        "    stemmed_content = [port_stem.stem(word) for word in stemmed_content if not word in cachedStopWords] # returning only the rootwords for the words which are not present in the stopwords lib from stemmed content\n",
        "    stemmed_content = ' '.join(stemmed_content)# joining the words\n",
        "    return stemmed_content"
      ]
    },
    {
      "cell_type": "code",
      "execution_count": null,
      "metadata": {
        "id": "0BP0kC_HjhXC"
      },
      "outputs": [],
      "source": [
        "news_dataset['content'] = news_dataset['title']+' '+news_dataset['text']#creating new column called content"
      ]
    },
    {
      "cell_type": "code",
      "execution_count": null,
      "metadata": {
        "id": "zCSPse0ReTGh"
      },
      "outputs": [],
      "source": [
        "news_dataset['content'] = news_dataset['content'].apply(stemming)"
      ]
    },
    {
      "cell_type": "code",
      "execution_count": null,
      "metadata": {
        "id": "NkT3RSjYeVyQ"
      },
      "outputs": [],
      "source": [
        "#separating the data and label\n",
        "X = news_dataset['content'].values\n",
        "Y = news_dataset['label'].values"
      ]
    },
    {
      "cell_type": "code",
      "execution_count": null,
      "metadata": {
        "id": "i2mmxOT3eeGN"
      },
      "outputs": [],
      "source": [
        "# converting the textual data to numerical data\n",
        "vectorizer = TfidfVectorizer()# term frequency inverse documentary freuency vectorizer , Tf;counts the no. of times the particular word is repeated in the paragraph,idf: finds the repeating words which doesnt add much difference\n",
        "vectorizer.fit(X)\n",
        "\n",
        "X = vectorizer.transform(X)"
      ]
    },
    {
      "cell_type": "markdown",
      "metadata": {
        "id": "TxefbVApeg4E"
      },
      "source": [
        "**Splitting the dataset to training and test data**"
      ]
    },
    {
      "cell_type": "code",
      "execution_count": null,
      "metadata": {
        "id": "KujHBqx_eeuJ"
      },
      "outputs": [],
      "source": [
        "X_train,X_test,Y_train,Y_test = train_test_split(X,Y,test_size = 0.2,stratify =Y,random_state =2)# stratify segregates real and fake news in same proportion as that of original X,Y;"
      ]
    },
    {
      "cell_type": "markdown",
      "metadata": {
        "id": "v6DMLUiTepiZ"
      },
      "source": [
        "##**Model_LR**"
      ]
    },
    {
      "cell_type": "code",
      "execution_count": null,
      "metadata": {
        "colab": {
          "base_uri": "https://localhost:8080/"
        },
        "id": "TdXofP_semhi",
        "outputId": "9378ce87-c3cc-4e22-d598-9c598a97873f"
      },
      "outputs": [
        {
          "output_type": "execute_result",
          "data": {
            "text/plain": [
              "LogisticRegression()"
            ]
          },
          "metadata": {},
          "execution_count": 17
        }
      ],
      "source": [
        "model_lr = LogisticRegression()\n",
        "model_lr.fit(X_train,Y_train)"
      ]
    },
    {
      "cell_type": "code",
      "execution_count": null,
      "metadata": {
        "colab": {
          "base_uri": "https://localhost:8080/"
        },
        "id": "38tWmUFGe5W9",
        "outputId": "057f0936-ea46-49d8-b425-296f6a3867c6"
      },
      "outputs": [
        {
          "output_type": "execute_result",
          "data": {
            "text/plain": [
              "{'Accuracy': 0.9486379704720316,\n",
              " 'Precision': 0.943088352348103,\n",
              " 'Recall': 0.9579571486322598,\n",
              " 'f1_score': 0.9504646032488802}"
            ]
          },
          "metadata": {},
          "execution_count": 18
        }
      ],
      "source": [
        "lr_test_prediction = model_lr.predict(X_test)\n",
        "model_lr_results=calculate_metrics(Y_test,lr_test_prediction)\n",
        "model_lr_results"
      ]
    },
    {
      "cell_type": "markdown",
      "metadata": {
        "id": "f-ztYCIJfJiO"
      },
      "source": [
        "##**Model_KNN**"
      ]
    },
    {
      "cell_type": "code",
      "execution_count": null,
      "metadata": {
        "colab": {
          "base_uri": "https://localhost:8080/"
        },
        "id": "fSpZ3SxqfHBV",
        "outputId": "0bc43a40-214f-46a9-8ab8-8c15a0bd2d9d"
      },
      "outputs": [
        {
          "output_type": "execute_result",
          "data": {
            "text/plain": [
              "KNeighborsClassifier()"
            ]
          },
          "metadata": {},
          "execution_count": 24
        }
      ],
      "source": [
        "model_knn = KNeighborsClassifier()\n",
        "model_knn.fit(X_train,Y_train)"
      ]
    },
    {
      "cell_type": "code",
      "execution_count": null,
      "metadata": {
        "colab": {
          "base_uri": "https://localhost:8080/"
        },
        "id": "uLQqf2WdfWeJ",
        "outputId": "88fd4927-5bb5-4930-d82c-3a0595c071c7"
      },
      "outputs": [
        {
          "output_type": "execute_result",
          "data": {
            "text/plain": [
              "{'Accuracy': 0.6894711305191654,\n",
              " 'Precision': 0.6302595446895207,\n",
              " 'Recall': 0.9587656650047164,\n",
              " 'f1_score': 0.760555852485302}"
            ]
          },
          "metadata": {},
          "execution_count": 20
        }
      ],
      "source": [
        "knn_test_prediction = model_knn.predict(X_test)\n",
        "model_knn_results=calculate_metrics(Y_test,knn_test_prediction)\n",
        "model_knn_results"
      ]
    },
    {
      "cell_type": "markdown",
      "metadata": {
        "id": "r-nSZG8yfif0"
      },
      "source": [
        "##**Model_SVM**"
      ]
    },
    {
      "cell_type": "code",
      "execution_count": null,
      "metadata": {
        "colab": {
          "base_uri": "https://localhost:8080/"
        },
        "id": "kX8WpBzTf0oT",
        "outputId": "84f8f354-1b8f-43f3-ab13-14648ff5f4a5"
      },
      "outputs": [
        {
          "output_type": "execute_result",
          "data": {
            "text/plain": [
              "SVC(kernel='linear')"
            ]
          },
          "metadata": {},
          "execution_count": 21
        }
      ],
      "source": [
        "model_svm = svm.SVC(kernel='linear')\n",
        "model_svm.fit(X_train,Y_train)"
      ]
    },
    {
      "cell_type": "code",
      "execution_count": null,
      "metadata": {
        "colab": {
          "base_uri": "https://localhost:8080/"
        },
        "id": "89VvsR2wf9BQ",
        "outputId": "9e65dc03-e672-4a7e-ce7e-190bc62f635f"
      },
      "outputs": [
        {
          "output_type": "execute_result",
          "data": {
            "text/plain": [
              "{'Accuracy': 0.9591737714008456,\n",
              " 'Precision': 0.9569288389513109,\n",
              " 'Recall': 0.9640210214256839,\n",
              " 'f1_score': 0.9604618379539505}"
            ]
          },
          "metadata": {},
          "execution_count": 22
        }
      ],
      "source": [
        "svm_test_prediction = model_svm.predict(X_test)\n",
        "model_svm_results=calculate_metrics(Y_test,svm_test_prediction)\n",
        "model_svm_results"
      ]
    },
    {
      "cell_type": "markdown",
      "metadata": {
        "id": "-Qm4cVzbgLPt"
      },
      "source": [
        "##**Model_DT**"
      ]
    },
    {
      "cell_type": "code",
      "execution_count": null,
      "metadata": {
        "colab": {
          "base_uri": "https://localhost:8080/"
        },
        "id": "h05Gr57RgKo-",
        "outputId": "f0f9d708-4f3a-41d5-8e7d-1319b79bb429"
      },
      "outputs": [
        {
          "output_type": "execute_result",
          "data": {
            "text/plain": [
              "DecisionTreeClassifier(max_depth=64)"
            ]
          },
          "metadata": {},
          "execution_count": 23
        }
      ],
      "source": [
        "model_dt= tree.DecisionTreeClassifier(max_depth = 64)\n",
        "model_dt.fit(X_train, Y_train)"
      ]
    },
    {
      "cell_type": "code",
      "execution_count": null,
      "metadata": {
        "colab": {
          "base_uri": "https://localhost:8080/"
        },
        "id": "ZXG-LriMgkfL",
        "outputId": "be548df2-bd82-4711-c2df-7ce252769b60"
      },
      "outputs": [
        {
          "output_type": "execute_result",
          "data": {
            "text/plain": [
              "{'Accuracy': 0.9373397102654745,\n",
              " 'Precision': 0.9268963710205685,\n",
              " 'Recall': 0.9533755558550061,\n",
              " 'f1_score': 0.9399495150790488}"
            ]
          },
          "metadata": {},
          "execution_count": 24
        }
      ],
      "source": [
        "dt_test_prediction = model_dt.predict(X_test)\n",
        "model_dt_results=calculate_metrics(Y_test,dt_test_prediction)\n",
        "model_dt_results"
      ]
    },
    {
      "cell_type": "markdown",
      "metadata": {
        "id": "9cbGSBWqm51t"
      },
      "source": [
        "## **Model_XGBOOST**"
      ]
    },
    {
      "cell_type": "code",
      "execution_count": null,
      "metadata": {
        "colab": {
          "base_uri": "https://localhost:8080/"
        },
        "id": "gWW8ndh3nJUr",
        "outputId": "7befafe7-e723-4fca-88d1-ee8f3f366e88"
      },
      "outputs": [
        {
          "output_type": "execute_result",
          "data": {
            "text/plain": [
              "XGBClassifier()"
            ]
          },
          "metadata": {},
          "execution_count": 26
        }
      ],
      "source": [
        "model_xgboost = XGBClassifier()\n",
        "model_xgboost.fit(X_train, Y_train)"
      ]
    },
    {
      "cell_type": "code",
      "execution_count": null,
      "metadata": {
        "colab": {
          "base_uri": "https://localhost:8080/"
        },
        "id": "xKHrA3WToIvR",
        "outputId": "52e9d623-35d5-43e0-f89f-bb077b670965"
      },
      "outputs": [
        {
          "output_type": "execute_result",
          "data": {
            "text/plain": [
              "{'Accuracy': 0.9412213211339849,\n",
              " 'Precision': 0.9270955165692008,\n",
              " 'Recall': 0.9613259668508287,\n",
              " 'f1_score': 0.9439005027785128}"
            ]
          },
          "metadata": {},
          "execution_count": 27
        }
      ],
      "source": [
        "xgboost_test_prediction = model_xgboost.predict(X_test)\n",
        "model_xgboost_results=calculate_metrics(Y_test,xgboost_test_prediction)\n",
        "model_xgboost_results"
      ]
    },
    {
      "cell_type": "markdown",
      "metadata": {
        "id": "01VcVY-bvaZw"
      },
      "source": [
        "## **Model_LGBM**"
      ]
    },
    {
      "cell_type": "code",
      "execution_count": null,
      "metadata": {
        "id": "NQsLDgn8vgzX",
        "colab": {
          "base_uri": "https://localhost:8080/"
        },
        "outputId": "a8443963-7187-4fd3-ac2e-c846ec8bf152"
      },
      "outputs": [
        {
          "output_type": "execute_result",
          "data": {
            "text/plain": [
              "LGBMClassifier()"
            ]
          },
          "metadata": {},
          "execution_count": 28
        }
      ],
      "source": [
        "model_lgbm = LGBMClassifier()\n",
        "model_lgbm.fit(X_train, Y_train)"
      ]
    },
    {
      "cell_type": "code",
      "execution_count": null,
      "metadata": {
        "id": "x8iv_ejqvwuh",
        "colab": {
          "base_uri": "https://localhost:8080/"
        },
        "outputId": "d51ba16e-cf70-4581-ee61-1d07a491d07b"
      },
      "outputs": [
        {
          "output_type": "execute_result",
          "data": {
            "text/plain": [
              "{'Accuracy': 0.9645109863450475,\n",
              " 'Precision': 0.956039603960396,\n",
              " 'Recall': 0.9758792615550465,\n",
              " 'f1_score': 0.9658575620165377}"
            ]
          },
          "metadata": {},
          "execution_count": 29
        }
      ],
      "source": [
        "lgbm_test_prediction = model_lgbm.predict(X_test)\n",
        "model_lgbm_results=calculate_metrics(Y_test,lgbm_test_prediction)\n",
        "model_lgbm_results"
      ]
    },
    {
      "cell_type": "markdown",
      "metadata": {
        "id": "yyNervK24PKh"
      },
      "source": [
        "## **Model_RF**"
      ]
    },
    {
      "cell_type": "code",
      "execution_count": null,
      "metadata": {
        "id": "awf1P1fsbbBI",
        "colab": {
          "base_uri": "https://localhost:8080/"
        },
        "outputId": "a5909ea9-3218-45fa-8887-0a7605302bb6"
      },
      "outputs": [
        {
          "output_type": "execute_result",
          "data": {
            "text/plain": [
              "RandomForestClassifier(criterion='entropy', n_estimators=10)"
            ]
          },
          "metadata": {},
          "execution_count": 30
        }
      ],
      "source": [
        "model_rf = RandomForestClassifier(n_estimators= 10, criterion=\"entropy\")\n",
        "model_rf.fit(X_train,Y_train)"
      ]
    },
    {
      "cell_type": "code",
      "execution_count": null,
      "metadata": {
        "id": "atdmMOQtbtGX",
        "colab": {
          "base_uri": "https://localhost:8080/"
        },
        "outputId": "1d8d32c4-f29e-4396-fe36-f5752fcd0436"
      },
      "outputs": [
        {
          "output_type": "execute_result",
          "data": {
            "text/plain": [
              "{'Accuracy': 0.9012961807721633,\n",
              " 'Precision': 0.9153622385371936,\n",
              " 'Recall': 0.8904460315321385,\n",
              " 'f1_score': 0.9027322404371585}"
            ]
          },
          "metadata": {},
          "execution_count": 31
        }
      ],
      "source": [
        "rf_test_prediction = model_rf.predict(X_test)\n",
        "model_rf_results=calculate_metrics(Y_test,rf_test_prediction)\n",
        "model_rf_results"
      ]
    },
    {
      "cell_type": "markdown",
      "metadata": {
        "id": "nAN9A1pKgZvF"
      },
      "source": [
        "## **Model_ENSEMBLE**"
      ]
    },
    {
      "cell_type": "code",
      "source": [
        "def ensemble(predictions):\n",
        "  return np.mean(predictions, axis=0)"
      ],
      "metadata": {
        "id": "wQ4vIQQtibRr"
      },
      "execution_count": null,
      "outputs": []
    },
    {
      "cell_type": "code",
      "source": [
        "predictions = [lr_test_prediction,knn_test_prediction,svm_test_prediction,dt_test_prediction,xgboost_test_prediction,lgbm_test_prediction,rf_test_prediction]\n",
        "ensemble_test_prediction = ensemble(predictions)"
      ],
      "metadata": {
        "id": "DYiCgDuumE6x"
      },
      "execution_count": null,
      "outputs": []
    },
    {
      "cell_type": "code",
      "execution_count": null,
      "metadata": {
        "id": "tKYldNHajNyT",
        "colab": {
          "base_uri": "https://localhost:8080/"
        },
        "outputId": "56605328-29cf-45b2-828e-2cb73f5d5c49"
      },
      "outputs": [
        {
          "output_type": "execute_result",
          "data": {
            "text/plain": [
              "{'Accuracy': 0.9628474388299716,\n",
              " 'Precision': 0.9484173505275498,\n",
              " 'Recall': 0.981134617976014,\n",
              " 'f1_score': 0.9644986090872962}"
            ]
          },
          "metadata": {},
          "execution_count": 88
        }
      ],
      "source": [
        "ensemble_test_prediction  = np.where(ensemble_test_prediction>=0.5,1,0)\n",
        "model_ensemble_results=calculate_metrics(Y_test,ensemble_test_prediction)\n",
        "model_ensemble_results"
      ]
    },
    {
      "cell_type": "markdown",
      "metadata": {
        "id": "lk4kabOmhNqK"
      },
      "source": [
        "##**Conclusion**"
      ]
    },
    {
      "cell_type": "code",
      "execution_count": null,
      "metadata": {
        "id": "zaiBUTg8hV-W",
        "colab": {
          "base_uri": "https://localhost:8080/",
          "height": 300
        },
        "outputId": "4afe1b87-58c1-407b-f4af-79f954440753"
      },
      "outputs": [
        {
          "output_type": "execute_result",
          "data": {
            "text/plain": [
              "                Accuracy  Precision    Recall  f1_score\n",
              "model_LR        0.948638   0.943088  0.957957  0.950465\n",
              "model_KNN       0.689471   0.630260  0.958766  0.760556\n",
              "model_SVM       0.959174   0.956929  0.964021  0.960462\n",
              "model_DT        0.937340   0.926896  0.953376  0.939950\n",
              "model_XGBOOST   0.941221   0.927096  0.961326  0.943901\n",
              "model_LGBM      0.964511   0.956040  0.975879  0.965858\n",
              "model_RF        0.901296   0.915362  0.890446  0.902732\n",
              "model_ENSEMBLE  0.962847   0.948417  0.981135  0.964499"
            ],
            "text/html": [
              "\n",
              "  <div id=\"df-9116e58c-4647-43ef-9b4a-13fbcaf54415\">\n",
              "    <div class=\"colab-df-container\">\n",
              "      <div>\n",
              "<style scoped>\n",
              "    .dataframe tbody tr th:only-of-type {\n",
              "        vertical-align: middle;\n",
              "    }\n",
              "\n",
              "    .dataframe tbody tr th {\n",
              "        vertical-align: top;\n",
              "    }\n",
              "\n",
              "    .dataframe thead th {\n",
              "        text-align: right;\n",
              "    }\n",
              "</style>\n",
              "<table border=\"1\" class=\"dataframe\">\n",
              "  <thead>\n",
              "    <tr style=\"text-align: right;\">\n",
              "      <th></th>\n",
              "      <th>Accuracy</th>\n",
              "      <th>Precision</th>\n",
              "      <th>Recall</th>\n",
              "      <th>f1_score</th>\n",
              "    </tr>\n",
              "  </thead>\n",
              "  <tbody>\n",
              "    <tr>\n",
              "      <th>model_LR</th>\n",
              "      <td>0.948638</td>\n",
              "      <td>0.943088</td>\n",
              "      <td>0.957957</td>\n",
              "      <td>0.950465</td>\n",
              "    </tr>\n",
              "    <tr>\n",
              "      <th>model_KNN</th>\n",
              "      <td>0.689471</td>\n",
              "      <td>0.630260</td>\n",
              "      <td>0.958766</td>\n",
              "      <td>0.760556</td>\n",
              "    </tr>\n",
              "    <tr>\n",
              "      <th>model_SVM</th>\n",
              "      <td>0.959174</td>\n",
              "      <td>0.956929</td>\n",
              "      <td>0.964021</td>\n",
              "      <td>0.960462</td>\n",
              "    </tr>\n",
              "    <tr>\n",
              "      <th>model_DT</th>\n",
              "      <td>0.937340</td>\n",
              "      <td>0.926896</td>\n",
              "      <td>0.953376</td>\n",
              "      <td>0.939950</td>\n",
              "    </tr>\n",
              "    <tr>\n",
              "      <th>model_XGBOOST</th>\n",
              "      <td>0.941221</td>\n",
              "      <td>0.927096</td>\n",
              "      <td>0.961326</td>\n",
              "      <td>0.943901</td>\n",
              "    </tr>\n",
              "    <tr>\n",
              "      <th>model_LGBM</th>\n",
              "      <td>0.964511</td>\n",
              "      <td>0.956040</td>\n",
              "      <td>0.975879</td>\n",
              "      <td>0.965858</td>\n",
              "    </tr>\n",
              "    <tr>\n",
              "      <th>model_RF</th>\n",
              "      <td>0.901296</td>\n",
              "      <td>0.915362</td>\n",
              "      <td>0.890446</td>\n",
              "      <td>0.902732</td>\n",
              "    </tr>\n",
              "    <tr>\n",
              "      <th>model_ENSEMBLE</th>\n",
              "      <td>0.962847</td>\n",
              "      <td>0.948417</td>\n",
              "      <td>0.981135</td>\n",
              "      <td>0.964499</td>\n",
              "    </tr>\n",
              "  </tbody>\n",
              "</table>\n",
              "</div>\n",
              "      <button class=\"colab-df-convert\" onclick=\"convertToInteractive('df-9116e58c-4647-43ef-9b4a-13fbcaf54415')\"\n",
              "              title=\"Convert this dataframe to an interactive table.\"\n",
              "              style=\"display:none;\">\n",
              "        \n",
              "  <svg xmlns=\"http://www.w3.org/2000/svg\" height=\"24px\"viewBox=\"0 0 24 24\"\n",
              "       width=\"24px\">\n",
              "    <path d=\"M0 0h24v24H0V0z\" fill=\"none\"/>\n",
              "    <path d=\"M18.56 5.44l.94 2.06.94-2.06 2.06-.94-2.06-.94-.94-2.06-.94 2.06-2.06.94zm-11 1L8.5 8.5l.94-2.06 2.06-.94-2.06-.94L8.5 2.5l-.94 2.06-2.06.94zm10 10l.94 2.06.94-2.06 2.06-.94-2.06-.94-.94-2.06-.94 2.06-2.06.94z\"/><path d=\"M17.41 7.96l-1.37-1.37c-.4-.4-.92-.59-1.43-.59-.52 0-1.04.2-1.43.59L10.3 9.45l-7.72 7.72c-.78.78-.78 2.05 0 2.83L4 21.41c.39.39.9.59 1.41.59.51 0 1.02-.2 1.41-.59l7.78-7.78 2.81-2.81c.8-.78.8-2.07 0-2.86zM5.41 20L4 18.59l7.72-7.72 1.47 1.35L5.41 20z\"/>\n",
              "  </svg>\n",
              "      </button>\n",
              "      \n",
              "  <style>\n",
              "    .colab-df-container {\n",
              "      display:flex;\n",
              "      flex-wrap:wrap;\n",
              "      gap: 12px;\n",
              "    }\n",
              "\n",
              "    .colab-df-convert {\n",
              "      background-color: #E8F0FE;\n",
              "      border: none;\n",
              "      border-radius: 50%;\n",
              "      cursor: pointer;\n",
              "      display: none;\n",
              "      fill: #1967D2;\n",
              "      height: 32px;\n",
              "      padding: 0 0 0 0;\n",
              "      width: 32px;\n",
              "    }\n",
              "\n",
              "    .colab-df-convert:hover {\n",
              "      background-color: #E2EBFA;\n",
              "      box-shadow: 0px 1px 2px rgba(60, 64, 67, 0.3), 0px 1px 3px 1px rgba(60, 64, 67, 0.15);\n",
              "      fill: #174EA6;\n",
              "    }\n",
              "\n",
              "    [theme=dark] .colab-df-convert {\n",
              "      background-color: #3B4455;\n",
              "      fill: #D2E3FC;\n",
              "    }\n",
              "\n",
              "    [theme=dark] .colab-df-convert:hover {\n",
              "      background-color: #434B5C;\n",
              "      box-shadow: 0px 1px 3px 1px rgba(0, 0, 0, 0.15);\n",
              "      filter: drop-shadow(0px 1px 2px rgba(0, 0, 0, 0.3));\n",
              "      fill: #FFFFFF;\n",
              "    }\n",
              "  </style>\n",
              "\n",
              "      <script>\n",
              "        const buttonEl =\n",
              "          document.querySelector('#df-9116e58c-4647-43ef-9b4a-13fbcaf54415 button.colab-df-convert');\n",
              "        buttonEl.style.display =\n",
              "          google.colab.kernel.accessAllowed ? 'block' : 'none';\n",
              "\n",
              "        async function convertToInteractive(key) {\n",
              "          const element = document.querySelector('#df-9116e58c-4647-43ef-9b4a-13fbcaf54415');\n",
              "          const dataTable =\n",
              "            await google.colab.kernel.invokeFunction('convertToInteractive',\n",
              "                                                     [key], {});\n",
              "          if (!dataTable) return;\n",
              "\n",
              "          const docLinkHtml = 'Like what you see? Visit the ' +\n",
              "            '<a target=\"_blank\" href=https://colab.research.google.com/notebooks/data_table.ipynb>data table notebook</a>'\n",
              "            + ' to learn more about interactive tables.';\n",
              "          element.innerHTML = '';\n",
              "          dataTable['output_type'] = 'display_data';\n",
              "          await google.colab.output.renderOutput(dataTable, element);\n",
              "          const docLink = document.createElement('div');\n",
              "          docLink.innerHTML = docLinkHtml;\n",
              "          element.appendChild(docLink);\n",
              "        }\n",
              "      </script>\n",
              "    </div>\n",
              "  </div>\n",
              "  "
            ]
          },
          "metadata": {},
          "execution_count": 89
        }
      ],
      "source": [
        "results_df= pd.DataFrame({\"model_LR\": model_lr_results,\n",
        "                          \"model_KNN\": model_knn_results,\n",
        "                          \"model_SVM\": model_svm_results,\n",
        "                          \"model_DT\": model_dt_results,\n",
        "                          \"model_XGBOOST\": model_xgboost_results,\n",
        "                          \"model_LGBM\": model_lgbm_results,\n",
        "                          \"model_RF\": model_rf_results,\n",
        "                          \"model_ENSEMBLE\": model_ensemble_results}).T\n",
        "\n",
        "results_df"
      ]
    },
    {
      "cell_type": "code",
      "execution_count": null,
      "metadata": {
        "id": "4Mo45Krlh2DQ",
        "colab": {
          "base_uri": "https://localhost:8080/",
          "height": 361
        },
        "outputId": "7f03b4de-381d-461c-c6cd-bd15613bbe14"
      },
      "outputs": [
        {
          "output_type": "display_data",
          "data": {
            "text/plain": [
              "<Figure size 432x288 with 1 Axes>"
            ],
            "image/png": "[encoded data removed]"
          },
          "metadata": {
            "needs_background": "light"
          }
        }
      ],
      "source": [
        "results_df.plot(kind=\"bar\", title=\"Machine Learning Approach\").legend(bbox_to_anchor=(1,1));"
      ]
    },
    {
      "cell_type": "markdown",
      "metadata": {
        "id": "JMqvhXiIbm2a"
      },
      "source": [
        "#**DL_Aproach**"
      ]
    },
    {
      "cell_type": "markdown",
      "metadata": {
        "id": "5wvxPagV-9FX"
      },
      "source": [
        "##**Model_1**:MLP"
      ]
    },
    {
      "cell_type": "code",
      "execution_count": null,
      "metadata": {
        "id": "KTuANQrz_rEb"
      },
      "outputs": [],
      "source": [
        "import tensorflow as tf\n",
        "import numpy as np"
      ]
    },
    {
      "cell_type": "code",
      "execution_count": null,
      "metadata": {
        "id": "5M2jgGF3WiLP",
        "colab": {
          "base_uri": "https://localhost:8080/",
          "height": 302
        },
        "outputId": "3ba0920f-bdbe-444d-b26c-69695999d692"
      },
      "outputs": [
        {
          "output_type": "execute_result",
          "data": {
            "text/plain": [
              "   Unnamed: 0                                              title  \\\n",
              "0           0  LAW ENFORCEMENT ON HIGH ALERT Following Threat...   \n",
              "1           1                                                      \n",
              "2           2  UNBELIEVABLE! OBAMA’S ATTORNEY GENERAL SAYS MO...   \n",
              "3           3  Bobby Jindal, raised Hindu, uses story of Chri...   \n",
              "4           4  SATAN 2: Russia unvelis an image of its terrif...   \n",
              "\n",
              "                                                text  label  \n",
              "0  No comment is expected from Barack Obama Membe...      1  \n",
              "1     Did they post their votes for Hillary already?      1  \n",
              "2   Now, most of the demonstrators gathered last ...      1  \n",
              "3  A dozen politically active pastors came here f...      0  \n",
              "4  The RS-28 Sarmat missile, dubbed Satan 2, will...      1  "
            ],
            "text/html": [
              "\n",
              "  <div id=\"df-e27adbb4-d1cf-4411-95b8-5dd203213281\">\n",
              "    <div class=\"colab-df-container\">\n",
              "      <div>\n",
              "<style scoped>\n",
              "    .dataframe tbody tr th:only-of-type {\n",
              "        vertical-align: middle;\n",
              "    }\n",
              "\n",
              "    .dataframe tbody tr th {\n",
              "        vertical-align: top;\n",
              "    }\n",
              "\n",
              "    .dataframe thead th {\n",
              "        text-align: right;\n",
              "    }\n",
              "</style>\n",
              "<table border=\"1\" class=\"dataframe\">\n",
              "  <thead>\n",
              "    <tr style=\"text-align: right;\">\n",
              "      <th></th>\n",
              "      <th>Unnamed: 0</th>\n",
              "      <th>title</th>\n",
              "      <th>text</th>\n",
              "      <th>label</th>\n",
              "    </tr>\n",
              "  </thead>\n",
              "  <tbody>\n",
              "    <tr>\n",
              "      <th>0</th>\n",
              "      <td>0</td>\n",
              "      <td>LAW ENFORCEMENT ON HIGH ALERT Following Threat...</td>\n",
              "      <td>No comment is expected from Barack Obama Membe...</td>\n",
              "      <td>1</td>\n",
              "    </tr>\n",
              "    <tr>\n",
              "      <th>1</th>\n",
              "      <td>1</td>\n",
              "      <td></td>\n",
              "      <td>Did they post their votes for Hillary already?</td>\n",
              "      <td>1</td>\n",
              "    </tr>\n",
              "    <tr>\n",
              "      <th>2</th>\n",
              "      <td>2</td>\n",
              "      <td>UNBELIEVABLE! OBAMA’S ATTORNEY GENERAL SAYS MO...</td>\n",
              "      <td>Now, most of the demonstrators gathered last ...</td>\n",
              "      <td>1</td>\n",
              "    </tr>\n",
              "    <tr>\n",
              "      <th>3</th>\n",
              "      <td>3</td>\n",
              "      <td>Bobby Jindal, raised Hindu, uses story of Chri...</td>\n",
              "      <td>A dozen politically active pastors came here f...</td>\n",
              "      <td>0</td>\n",
              "    </tr>\n",
              "    <tr>\n",
              "      <th>4</th>\n",
              "      <td>4</td>\n",
              "      <td>SATAN 2: Russia unvelis an image of its terrif...</td>\n",
              "      <td>The RS-28 Sarmat missile, dubbed Satan 2, will...</td>\n",
              "      <td>1</td>\n",
              "    </tr>\n",
              "  </tbody>\n",
              "</table>\n",
              "</div>\n",
              "      <button class=\"colab-df-convert\" onclick=\"convertToInteractive('df-e27adbb4-d1cf-4411-95b8-5dd203213281')\"\n",
              "              title=\"Convert this dataframe to an interactive table.\"\n",
              "              style=\"display:none;\">\n",
              "        \n",
              "  <svg xmlns=\"http://www.w3.org/2000/svg\" height=\"24px\"viewBox=\"0 0 24 24\"\n",
              "       width=\"24px\">\n",
              "    <path d=\"M0 0h24v24H0V0z\" fill=\"none\"/>\n",
              "    <path d=\"M18.56 5.44l.94 2.06.94-2.06 2.06-.94-2.06-.94-.94-2.06-.94 2.06-2.06.94zm-11 1L8.5 8.5l.94-2.06 2.06-.94-2.06-.94L8.5 2.5l-.94 2.06-2.06.94zm10 10l.94 2.06.94-2.06 2.06-.94-2.06-.94-.94-2.06-.94 2.06-2.06.94z\"/><path d=\"M17.41 7.96l-1.37-1.37c-.4-.4-.92-.59-1.43-.59-.52 0-1.04.2-1.43.59L10.3 9.45l-7.72 7.72c-.78.78-.78 2.05 0 2.83L4 21.41c.39.39.9.59 1.41.59.51 0 1.02-.2 1.41-.59l7.78-7.78 2.81-2.81c.8-.78.8-2.07 0-2.86zM5.41 20L4 18.59l7.72-7.72 1.47 1.35L5.41 20z\"/>\n",
              "  </svg>\n",
              "      </button>\n",
              "      \n",
              "  <style>\n",
              "    .colab-df-container {\n",
              "      display:flex;\n",
              "      flex-wrap:wrap;\n",
              "      gap: 12px;\n",
              "    }\n",
              "\n",
              "    .colab-df-convert {\n",
              "      background-color: #E8F0FE;\n",
              "      border: none;\n",
              "      border-radius: 50%;\n",
              "      cursor: pointer;\n",
              "      display: none;\n",
              "      fill: #1967D2;\n",
              "      height: 32px;\n",
              "      padding: 0 0 0 0;\n",
              "      width: 32px;\n",
              "    }\n",
              "\n",
              "    .colab-df-convert:hover {\n",
              "      background-color: #E2EBFA;\n",
              "      box-shadow: 0px 1px 2px rgba(60, 64, 67, 0.3), 0px 1px 3px 1px rgba(60, 64, 67, 0.15);\n",
              "      fill: #174EA6;\n",
              "    }\n",
              "\n",
              "    [theme=dark] .colab-df-convert {\n",
              "      background-color: #3B4455;\n",
              "      fill: #D2E3FC;\n",
              "    }\n",
              "\n",
              "    [theme=dark] .colab-df-convert:hover {\n",
              "      background-color: #434B5C;\n",
              "      box-shadow: 0px 1px 3px 1px rgba(0, 0, 0, 0.15);\n",
              "      filter: drop-shadow(0px 1px 2px rgba(0, 0, 0, 0.3));\n",
              "      fill: #FFFFFF;\n",
              "    }\n",
              "  </style>\n",
              "\n",
              "      <script>\n",
              "        const buttonEl =\n",
              "          document.querySelector('#df-e27adbb4-d1cf-4411-95b8-5dd203213281 button.colab-df-convert');\n",
              "        buttonEl.style.display =\n",
              "          google.colab.kernel.accessAllowed ? 'block' : 'none';\n",
              "\n",
              "        async function convertToInteractive(key) {\n",
              "          const element = document.querySelector('#df-e27adbb4-d1cf-4411-95b8-5dd203213281');\n",
              "          const dataTable =\n",
              "            await google.colab.kernel.invokeFunction('convertToInteractive',\n",
              "                                                     [key], {});\n",
              "          if (!dataTable) return;\n",
              "\n",
              "          const docLinkHtml = 'Like what you see? Visit the ' +\n",
              "            '<a target=\"_blank\" href=https://colab.research.google.com/notebooks/data_table.ipynb>data table notebook</a>'\n",
              "            + ' to learn more about interactive tables.';\n",
              "          element.innerHTML = '';\n",
              "          dataTable['output_type'] = 'display_data';\n",
              "          await google.colab.output.renderOutput(dataTable, element);\n",
              "          const docLink = document.createElement('div');\n",
              "          docLink.innerHTML = docLinkHtml;\n",
              "          element.appendChild(docLink);\n",
              "        }\n",
              "      </script>\n",
              "    </div>\n",
              "  </div>\n",
              "  "
            ]
          },
          "metadata": {},
          "execution_count": 7
        }
      ],
      "source": [
        "news_dataset.head()"
      ]
    },
    {
      "cell_type": "code",
      "execution_count": null,
      "metadata": {
        "id": "QojwPj0o5kke",
        "colab": {
          "base_uri": "https://localhost:8080/"
        },
        "outputId": "07706f59-b286-4c36-dc89-58ed7e0ffc3e"
      },
      "outputs": [
        {
          "output_type": "execute_result",
          "data": {
            "text/plain": [
              "1994"
            ]
          },
          "metadata": {},
          "execution_count": 8
        }
      ],
      "source": [
        "content=news_dataset[\"text\"]\n",
        "labels=news_dataset[\"label\"]\n",
        "word_arr= [len(row.split()) for row in content]\n",
        "word_98_percentile= int(np.percentile(word_arr, 98))\n",
        "word_98_percentile"
      ]
    },
    {
      "cell_type": "code",
      "execution_count": null,
      "metadata": {
        "id": "4DrJ2zfZ4-jP"
      },
      "outputs": [],
      "source": [
        "word_tokenizer= tf.keras.layers.TextVectorization(max_tokens= 20000,\n",
        "                                                  output_sequence_length=word_98_percentile)\n",
        "\n",
        "word_tokenizer.adapt(content)\n",
        "\n",
        "word_embedding_1=tf.keras.layers.Embedding(input_dim= 20000,\n",
        "                                         output_dim=128,\n",
        "                                         input_length= word_98_percentile)"
      ]
    },
    {
      "cell_type": "code",
      "execution_count": null,
      "metadata": {
        "id": "8XFAOBAg7_id"
      },
      "outputs": [],
      "source": [
        "inputs= tf.keras.layers.Input((1,), dtype=\"string\")\n",
        "x=word_tokenizer(inputs)\n",
        "x=word_embedding_1(x)\n",
        "x= tf.keras.layers.Dense(64, activation=\"relu\")(x)\n",
        "x=tf.keras.layers.GlobalMaxPool1D()(x)\n",
        "x= tf.keras.layers.Dense(32, activation=\"relu\")(x)\n",
        "outputs= tf.keras.layers.Dense(1, activation=\"sigmoid\")(x)\n",
        "\n",
        "model_1=tf.keras.Model(inputs, outputs)\n",
        "\n",
        "model_1.compile(loss=tf.keras.losses.BinaryCrossentropy(),\n",
        "                  optimizer=tf.keras.optimizers.Adam(),\n",
        "                  metrics=[\"accuracy\"])"
      ]
    },
    {
      "cell_type": "code",
      "execution_count": null,
      "metadata": {
        "id": "FyXLMoKy8hep",
        "colab": {
          "base_uri": "https://localhost:8080/"
        },
        "outputId": "fb756de8-15b2-40b8-8b13-7c906d8d7cda"
      },
      "outputs": [
        {
          "output_type": "stream",
          "name": "stdout",
          "text": [
            "Model: \"model\"\n",
            "_________________________________________________________________\n",
            " Layer (type)                Output Shape              Param #   \n",
            "=================================================================\n",
            " input_1 (InputLayer)        [(None, 1)]               0         \n",
            "                                                                 \n",
            " text_vectorization (TextVec  (None, 1994)             0         \n",
            " torization)                                                     \n",
            "                                                                 \n",
            " embedding (Embedding)       (None, 1994, 128)         2560000   \n",
            "                                                                 \n",
            " dense (Dense)               (None, 1994, 64)          8256      \n",
            "                                                                 \n",
            " global_max_pooling1d (Globa  (None, 64)               0         \n",
            " lMaxPooling1D)                                                  \n",
            "                                                                 \n",
            " dense_1 (Dense)             (None, 32)                2080      \n",
            "                                                                 \n",
            " dense_2 (Dense)             (None, 1)                 33        \n",
            "                                                                 \n",
            "=================================================================\n",
            "Total params: 2,570,369\n",
            "Trainable params: 2,570,369\n",
            "Non-trainable params: 0\n",
            "_________________________________________________________________\n"
          ]
        }
      ],
      "source": [
        "model_1.summary()"
      ]
    },
    {
      "cell_type": "markdown",
      "metadata": {
        "id": "yh6ZBuUspbkB"
      },
      "source": [
        "**Splitting the data and fastening the load time**"
      ]
    },
    {
      "cell_type": "code",
      "execution_count": null,
      "metadata": {
        "id": "q8YkGKCJ8qu_"
      },
      "outputs": [],
      "source": [
        "from sklearn.model_selection import train_test_split\n",
        "\n",
        "train_text, test_text, train_labels, test_labels= train_test_split(content, labels)\n",
        "\n",
        "train_dataset=tf.data.Dataset.from_tensor_slices((train_text, train_labels)).batch(32).prefetch(tf.data.AUTOTUNE)\n",
        "test_dataset=tf.data.Dataset.from_tensor_slices((test_text, test_labels)).batch(32).prefetch(tf.data.AUTOTUNE)"
      ]
    },
    {
      "cell_type": "code",
      "execution_count": null,
      "metadata": {
        "id": "y9HcJ8WnAUIG",
        "colab": {
          "base_uri": "https://localhost:8080/"
        },
        "outputId": "968d6730-5022-48e4-e336-8aa30173e5ee"
      },
      "outputs": [
        {
          "output_type": "stream",
          "name": "stdout",
          "text": [
            "Epoch 1/5\n",
            "1691/1691 [==============================] - 207s 119ms/step - loss: 0.1318 - accuracy: 0.9517 - val_loss: 0.0871 - val_accuracy: 0.9692 - lr: 0.0010\n",
            "Epoch 2/5\n",
            "1691/1691 [==============================] - 24s 14ms/step - loss: 0.0623 - accuracy: 0.9785 - val_loss: 0.0742 - val_accuracy: 0.9748 - lr: 0.0010\n",
            "Epoch 3/5\n",
            "1691/1691 [==============================] - 24s 14ms/step - loss: 0.0447 - accuracy: 0.9846 - val_loss: 0.0769 - val_accuracy: 0.9752 - lr: 0.0010\n",
            "Epoch 4/5\n",
            "1691/1691 [==============================] - 23s 14ms/step - loss: 0.0329 - accuracy: 0.9885 - val_loss: 0.0849 - val_accuracy: 0.9744 - lr: 0.0010\n",
            "Epoch 5/5\n",
            "1691/1691 [==============================] - 24s 14ms/step - loss: 0.0257 - accuracy: 0.9912 - val_loss: 0.0868 - val_accuracy: 0.9758 - lr: 0.0010\n"
          ]
        }
      ],
      "source": [
        "history_1=model_1.fit(train_dataset,\n",
        "                          epochs=5,\n",
        "                          callbacks=[tf.keras.callbacks.EarlyStopping(monitor=\"val_accuracy\", patience=5, restore_best_weights=True),\n",
        "                                     tf.keras.callbacks.ReduceLROnPlateau(monitor=\"val_accuracy\", patience=2)],\n",
        "                          validation_data=(test_dataset))"
      ]
    },
    {
      "cell_type": "markdown",
      "metadata": {
        "id": "leXoHhAxtYCp"
      },
      "source": [
        "**Loss curves**"
      ]
    },
    {
      "cell_type": "code",
      "execution_count": null,
      "metadata": {
        "id": "UHw0tNDrtXds",
        "colab": {
          "base_uri": "https://localhost:8080/",
          "height": 265
        },
        "outputId": "129f3247-3c18-48ca-d9d8-1f7644b0d75c"
      },
      "outputs": [
        {
          "output_type": "display_data",
          "data": {
            "text/plain": [
              "<Figure size 432x288 with 1 Axes>"
            ],
            "image/png": "[encoded data removed]"
          },
          "metadata": {
            "needs_background": "light"
          }
        }
      ],
      "source": [
        "pd.DataFrame(history_1.history).plot();"
      ]
    },
    {
      "cell_type": "code",
      "execution_count": null,
      "metadata": {
        "id": "xPIy8G-L8Cwf",
        "colab": {
          "base_uri": "https://localhost:8080/"
        },
        "outputId": "a0491dea-42f5-4af7-8906-988a89fbd974"
      },
      "outputs": [
        {
          "output_type": "stream",
          "name": "stdout",
          "text": [
            "564/564 [==============================] - 4s 7ms/step\n"
          ]
        }
      ],
      "source": [
        "y_preds=model_1.predict(test_dataset)\n",
        "model_1_results= calculate_metrics(test_labels, y_preds.round().squeeze())"
      ]
    },
    {
      "cell_type": "code",
      "execution_count": null,
      "metadata": {
        "id": "2UdhMzOI8osr",
        "colab": {
          "base_uri": "https://localhost:8080/"
        },
        "outputId": "3999c700-812c-4fe3-ef61-70b7d26a4144"
      },
      "outputs": [
        {
          "output_type": "execute_result",
          "data": {
            "text/plain": [
              "{'Accuracy': 0.9757679937895087,\n",
              " 'Precision': 0.9760964678262726,\n",
              " 'Recall': 0.9772435897435897,\n",
              " 'f1_score': 0.9766696919545139}"
            ]
          },
          "metadata": {},
          "execution_count": 16
        }
      ],
      "source": [
        "model_1_results"
      ]
    },
    {
      "cell_type": "markdown",
      "metadata": {
        "id": "Zr-U9Jmrr4IB"
      },
      "source": [
        "##**Model_2**:CNN"
      ]
    },
    {
      "cell_type": "code",
      "execution_count": null,
      "metadata": {
        "id": "PsQh1n3EsgTf"
      },
      "outputs": [],
      "source": [
        "word_embedding_2=tf.keras.layers.Embedding(input_dim= 20000,\n",
        "                                         output_dim=128,\n",
        "                                         input_length= word_98_percentile)"
      ]
    },
    {
      "cell_type": "code",
      "execution_count": null,
      "metadata": {
        "id": "5gzAHLIusLIh"
      },
      "outputs": [],
      "source": [
        "inputs= tf.keras.layers.Input((1,), dtype=\"string\")\n",
        "x=word_tokenizer(inputs)\n",
        "x=word_embedding_2(x)\n",
        "x= tf.keras.layers.Conv1D(64, 3, activation=\"relu\")(x)\n",
        "x= tf.keras.layers.Conv1D(32, 3, activation=\"relu\")(x)\n",
        "x=tf.keras.layers.GlobalMaxPool1D()(x)\n",
        "outputs= tf.keras.layers.Dense(1, activation=\"sigmoid\")(x)\n",
        "\n",
        "model_2=tf.keras.Model(inputs, outputs)\n",
        "\n",
        "model_2.compile(loss=tf.keras.losses.BinaryCrossentropy(),\n",
        "                  optimizer=tf.keras.optimizers.Adam(),\n",
        "                  metrics=[\"accuracy\"])"
      ]
    },
    {
      "cell_type": "code",
      "execution_count": null,
      "metadata": {
        "id": "BCmhdmoTs0yu",
        "colab": {
          "base_uri": "https://localhost:8080/"
        },
        "outputId": "d27281ac-a75b-4d3e-9aad-f5890559de3a"
      },
      "outputs": [
        {
          "output_type": "stream",
          "name": "stdout",
          "text": [
            "Model: \"model_1\"\n",
            "_________________________________________________________________\n",
            " Layer (type)                Output Shape              Param #   \n",
            "=================================================================\n",
            " input_2 (InputLayer)        [(None, 1)]               0         \n",
            "                                                                 \n",
            " text_vectorization (TextVec  (None, 1994)             0         \n",
            " torization)                                                     \n",
            "                                                                 \n",
            " embedding_1 (Embedding)     (None, 1994, 128)         2560000   \n",
            "                                                                 \n",
            " conv1d (Conv1D)             (None, 1992, 64)          24640     \n",
            "                                                                 \n",
            " conv1d_1 (Conv1D)           (None, 1990, 32)          6176      \n",
            "                                                                 \n",
            " global_max_pooling1d_1 (Glo  (None, 32)               0         \n",
            " balMaxPooling1D)                                                \n",
            "                                                                 \n",
            " dense_3 (Dense)             (None, 1)                 33        \n",
            "                                                                 \n",
            "=================================================================\n",
            "Total params: 2,590,849\n",
            "Trainable params: 2,590,849\n",
            "Non-trainable params: 0\n",
            "_________________________________________________________________\n"
          ]
        }
      ],
      "source": [
        "model_2.summary()"
      ]
    },
    {
      "cell_type": "code",
      "execution_count": null,
      "metadata": {
        "id": "PIr-YZritTYu",
        "colab": {
          "base_uri": "https://localhost:8080/"
        },
        "outputId": "389274b7-fc35-4c59-d7ed-9f52f7f0ca48"
      },
      "outputs": [
        {
          "output_type": "stream",
          "name": "stdout",
          "text": [
            "Epoch 1/5\n",
            "1691/1691 [==============================] - 147s 83ms/step - loss: 0.0985 - accuracy: 0.9612 - val_loss: 0.0641 - val_accuracy: 0.9757 - lr: 0.0010\n",
            "Epoch 2/5\n",
            "1691/1691 [==============================] - 31s 18ms/step - loss: 0.0201 - accuracy: 0.9931 - val_loss: 0.0771 - val_accuracy: 0.9746 - lr: 0.0010\n",
            "Epoch 3/5\n",
            "1691/1691 [==============================] - 33s 20ms/step - loss: 0.0054 - accuracy: 0.9983 - val_loss: 0.0631 - val_accuracy: 0.9846 - lr: 0.0010\n",
            "Epoch 4/5\n",
            "1691/1691 [==============================] - 31s 18ms/step - loss: 0.0018 - accuracy: 0.9995 - val_loss: 0.0730 - val_accuracy: 0.9837 - lr: 0.0010\n",
            "Epoch 5/5\n",
            "1691/1691 [==============================] - 30s 18ms/step - loss: 0.0024 - accuracy: 0.9995 - val_loss: 0.1062 - val_accuracy: 0.9790 - lr: 0.0010\n"
          ]
        }
      ],
      "source": [
        "history_2=model_2.fit(train_dataset,\n",
        "                          epochs=5,\n",
        "                          callbacks=[tf.keras.callbacks.EarlyStopping(monitor=\"val_accuracy\", patience=5, restore_best_weights=True),\n",
        "                                     tf.keras.callbacks.ReduceLROnPlateau(monitor=\"val_accuracy\", patience=2)],\n",
        "                          validation_data=(test_dataset))"
      ]
    },
    {
      "cell_type": "markdown",
      "metadata": {
        "id": "BUcOTyequQKX"
      },
      "source": [
        "**Loss curves**"
      ]
    },
    {
      "cell_type": "code",
      "execution_count": null,
      "metadata": {
        "id": "x_9Hph01uTMh",
        "colab": {
          "base_uri": "https://localhost:8080/",
          "height": 265
        },
        "outputId": "222469e2-1934-4091-8c72-8955cfaf90c7"
      },
      "outputs": [
        {
          "output_type": "display_data",
          "data": {
            "text/plain": [
              "<Figure size 432x288 with 1 Axes>"
            ],
            "image/png": "[encoded data removed]"
          },
          "metadata": {
            "needs_background": "light"
          }
        }
      ],
      "source": [
        "pd.DataFrame(history_2.history).plot();"
      ]
    },
    {
      "cell_type": "code",
      "execution_count": null,
      "metadata": {
        "id": "40ixwwyr8zj7",
        "colab": {
          "base_uri": "https://localhost:8080/"
        },
        "outputId": "d1f5b13c-ba2f-452b-8502-4c70997b1950"
      },
      "outputs": [
        {
          "output_type": "stream",
          "name": "stdout",
          "text": [
            "564/564 [==============================] - 4s 7ms/step\n"
          ]
        }
      ],
      "source": [
        "y_preds= model_2.predict(test_dataset)\n",
        "model_2_results= calculate_metrics(test_labels, y_preds.round().squeeze())"
      ]
    },
    {
      "cell_type": "code",
      "execution_count": null,
      "metadata": {
        "id": "ZrEpPCsG9IO9",
        "colab": {
          "base_uri": "https://localhost:8080/"
        },
        "outputId": "d33d3b1a-3899-4995-8545-eb5af31644fc"
      },
      "outputs": [
        {
          "output_type": "execute_result",
          "data": {
            "text/plain": [
              "{'Accuracy': 0.9789841410668737,\n",
              " 'Precision': 0.9733319279013387,\n",
              " 'Recall': 0.9865384615384616,\n",
              " 'f1_score': 0.9798906987849525}"
            ]
          },
          "metadata": {},
          "execution_count": 23
        }
      ],
      "source": [
        "model_2_results"
      ]
    },
    {
      "cell_type": "markdown",
      "metadata": {
        "id": "s_d9JZzouYUl"
      },
      "source": [
        "##**Model_3**: RNN(LSTM, GRU, Bidirectional)"
      ]
    },
    {
      "cell_type": "code",
      "execution_count": null,
      "metadata": {
        "id": "JtTwZTw9vAuw"
      },
      "outputs": [],
      "source": [
        "word_embedding_3=tf.keras.layers.Embedding(input_dim= 20000,\n",
        "                                         output_dim=128,\n",
        "                                         input_length= word_98_percentile)"
      ]
    },
    {
      "cell_type": "code",
      "execution_count": null,
      "metadata": {
        "id": "SgZuleDouXvY"
      },
      "outputs": [],
      "source": [
        "inputs= tf.keras.layers.Input((1,), dtype=\"string\")\n",
        "x=word_tokenizer(inputs)\n",
        "x=word_embedding_3(x)\n",
        "x= tf.keras.layers.LSTM(32, return_sequences=True)(x)\n",
        "x= tf.keras.layers.GRU(32, return_sequences=True)(x)\n",
        "x= tf.keras.layers.Bidirectional(tf.keras.layers.LSTM(16))(x)\n",
        "outputs= tf.keras.layers.Dense(1, activation=\"sigmoid\")(x)\n",
        "\n",
        "model_3=tf.keras.Model(inputs, outputs)\n",
        "\n",
        "model_3.compile(loss=tf.keras.losses.BinaryCrossentropy(),\n",
        "                  optimizer=tf.keras.optimizers.Adam(),\n",
        "                  metrics=[\"accuracy\"])"
      ]
    },
    {
      "cell_type": "code",
      "execution_count": null,
      "metadata": {
        "id": "jr02wfr1wcu5",
        "colab": {
          "base_uri": "https://localhost:8080/"
        },
        "outputId": "54fbbd7e-9874-4238-c0e0-be9bca7e11a7"
      },
      "outputs": [
        {
          "output_type": "stream",
          "name": "stdout",
          "text": [
            "Model: \"model_2\"\n",
            "_________________________________________________________________\n",
            " Layer (type)                Output Shape              Param #   \n",
            "=================================================================\n",
            " input_3 (InputLayer)        [(None, 1)]               0         \n",
            "                                                                 \n",
            " text_vectorization (TextVec  (None, 1994)             0         \n",
            " torization)                                                     \n",
            "                                                                 \n",
            " embedding_2 (Embedding)     (None, 1994, 128)         2560000   \n",
            "                                                                 \n",
            " lstm (LSTM)                 (None, 1994, 32)          20608     \n",
            "                                                                 \n",
            " gru (GRU)                   (None, 1994, 32)          6336      \n",
            "                                                                 \n",
            " bidirectional (Bidirectiona  (None, 32)               6272      \n",
            " l)                                                              \n",
            "                                                                 \n",
            " dense_4 (Dense)             (None, 1)                 33        \n",
            "                                                                 \n",
            "=================================================================\n",
            "Total params: 2,593,249\n",
            "Trainable params: 2,593,249\n",
            "Non-trainable params: 0\n",
            "_________________________________________________________________\n"
          ]
        }
      ],
      "source": [
        "model_3.summary()"
      ]
    },
    {
      "cell_type": "code",
      "execution_count": null,
      "metadata": {
        "id": "U6Cgt2JVwfPJ",
        "colab": {
          "base_uri": "https://localhost:8080/"
        },
        "outputId": "d6ee2c2d-c485-4f23-e974-8949d8d23e91"
      },
      "outputs": [
        {
          "output_type": "stream",
          "name": "stdout",
          "text": [
            "Epoch 1/5\n",
            "1691/1691 [==============================] - 491s 286ms/step - loss: 0.1976 - accuracy: 0.9223 - val_loss: 0.1218 - val_accuracy: 0.9578 - lr: 0.0010\n",
            "Epoch 2/5\n",
            "1691/1691 [==============================] - 344s 203ms/step - loss: 0.1017 - accuracy: 0.9631 - val_loss: 0.1003 - val_accuracy: 0.9642 - lr: 0.0010\n",
            "Epoch 3/5\n",
            "1691/1691 [==============================] - 343s 203ms/step - loss: 0.0584 - accuracy: 0.9814 - val_loss: 0.1559 - val_accuracy: 0.9435 - lr: 0.0010\n",
            "Epoch 4/5\n",
            "1691/1691 [==============================] - 340s 201ms/step - loss: 0.0648 - accuracy: 0.9808 - val_loss: 0.0793 - val_accuracy: 0.9752 - lr: 0.0010\n",
            "Epoch 5/5\n",
            "1691/1691 [==============================] - 339s 201ms/step - loss: 0.0325 - accuracy: 0.9906 - val_loss: 0.0746 - val_accuracy: 0.9777 - lr: 0.0010\n"
          ]
        }
      ],
      "source": [
        "history_3=model_3.fit(train_dataset,\n",
        "                      epochs=5,                         \n",
        "                      callbacks=[tf.keras.callbacks.EarlyStopping(monitor=\"val_accuracy\", patience=5, restore_best_weights=True),\n",
        "                                     tf.keras.callbacks.ReduceLROnPlateau(monitor=\"val_accuracy\", patience=2)],\n",
        "                      validation_data=(test_dataset))"
      ]
    },
    {
      "cell_type": "markdown",
      "metadata": {
        "id": "8_BDrsKz9oiF"
      },
      "source": [
        "**Loss curves**"
      ]
    },
    {
      "cell_type": "code",
      "execution_count": null,
      "metadata": {
        "id": "l_i8sA1JwoeW",
        "colab": {
          "base_uri": "https://localhost:8080/",
          "height": 265
        },
        "outputId": "15ff8b30-7205-4346-ec46-cc59b9c2dd4d"
      },
      "outputs": [
        {
          "output_type": "display_data",
          "data": {
            "text/plain": [
              "<Figure size 432x288 with 1 Axes>"
            ],
            "image/png": "[encoded data removed]"
          },
          "metadata": {
            "needs_background": "light"
          }
        }
      ],
      "source": [
        "pd.DataFrame(history_3.history).plot();"
      ]
    },
    {
      "cell_type": "code",
      "execution_count": null,
      "metadata": {
        "id": "NawlBFEZ9m5X",
        "colab": {
          "base_uri": "https://localhost:8080/"
        },
        "outputId": "77a6ac47-61cb-431d-c71c-90fd5a099dce"
      },
      "outputs": [
        {
          "output_type": "stream",
          "name": "stdout",
          "text": [
            "564/564 [==============================] - 50s 86ms/step\n"
          ]
        }
      ],
      "source": [
        "y_preds= model_3.predict(test_dataset)\n",
        "model_3_results=calculate_metrics(test_labels, y_preds.round().squeeze())"
      ]
    },
    {
      "cell_type": "code",
      "execution_count": null,
      "metadata": {
        "id": "CPNsJ5g9-ONP",
        "colab": {
          "base_uri": "https://localhost:8080/"
        },
        "outputId": "79014894-a64c-403d-e4ad-6146e6a24975"
      },
      "outputs": [
        {
          "output_type": "execute_result",
          "data": {
            "text/plain": [
              "{'Accuracy': 0.9776533215038261,\n",
              " 'Precision': 0.973764942346345,\n",
              " 'Recall': 0.9834401709401709,\n",
              " 'f1_score': 0.9785786424281082}"
            ]
          },
          "metadata": {},
          "execution_count": 30
        }
      ],
      "source": [
        "model_3_results"
      ]
    },
    {
      "cell_type": "markdown",
      "metadata": {
        "id": "ZQ9Ydg1KxCBD"
      },
      "source": [
        "##**Model_4**: Transfer_learning"
      ]
    },
    {
      "cell_type": "code",
      "execution_count": null,
      "metadata": {
        "id": "d6JBJg-E-dfY",
        "colab": {
          "base_uri": "https://localhost:8080/"
        },
        "outputId": "918f78cf-a5fa-4fe9-93c6-40da01a6aeac"
      },
      "outputs": [
        {
          "output_type": "stream",
          "name": "stderr",
          "text": [
            "WARNING:tensorflow:Please fix your imports. Module tensorflow.python.training.tracking.data_structures has been moved to tensorflow.python.trackable.data_structures. The old module will be deleted in version 2.11.\n"
          ]
        }
      ],
      "source": [
        "import tensorflow_hub as hub\n",
        "\n",
        "link=\"https://tfhub.dev/google/universal-sentence-encoder/4\"\n",
        "embedding_layer= hub.KerasLayer(link, trainable=True)"
      ]
    },
    {
      "cell_type": "code",
      "execution_count": null,
      "metadata": {
        "id": "MNywquOuA3wu",
        "colab": {
          "base_uri": "https://localhost:8080/"
        },
        "outputId": "d3a0190f-db77-4034-b014-e8ab9f746a2e"
      },
      "outputs": [
        {
          "output_type": "stream",
          "name": "stderr",
          "text": [
            "WARNING:tensorflow:From /usr/local/lib/python3.8/dist-packages/tensorflow/python/autograph/pyct/static_analysis/liveness.py:83: Analyzer.lamba_check (from tensorflow.python.autograph.pyct.static_analysis.liveness) is deprecated and will be removed after 2023-09-23.\n",
            "Instructions for updating:\n",
            "Lambda fuctions will be no more assumed to be used in the statement where they are used, or at least in the same block. https://github.com/tensorflow/tensorflow/issues/56089\n"
          ]
        }
      ],
      "source": [
        "inputs= tf.keras.layers.Input([], dtype=\"string\")\n",
        "x=embedding_layer(inputs)\n",
        "x= tf.keras.layers.Dense(64, activation=\"relu\")(x)\n",
        "x= tf.keras.layers.Dense(32, activation=\"relu\")(x)\n",
        "outputs= tf.keras.layers.Dense(1, activation=\"sigmoid\")(x)\n",
        "\n",
        "model_4=tf.keras.Model(inputs, outputs)\n",
        "\n",
        "model_4.compile(loss=tf.keras.losses.BinaryCrossentropy(),\n",
        "                  optimizer=tf.keras.optimizers.Adam(),\n",
        "                  metrics=[\"accuracy\"])"
      ]
    },
    {
      "cell_type": "code",
      "execution_count": null,
      "metadata": {
        "id": "bZJcye3BBhq3",
        "colab": {
          "base_uri": "https://localhost:8080/"
        },
        "outputId": "08aa240d-4882-4f11-ff7d-a1fb8f7e8306"
      },
      "outputs": [
        {
          "output_type": "stream",
          "name": "stdout",
          "text": [
            "Model: \"model_3\"\n",
            "_________________________________________________________________\n",
            " Layer (type)                Output Shape              Param #   \n",
            "=================================================================\n",
            " input_4 (InputLayer)        [(None,)]                 0         \n",
            "                                                                 \n",
            " keras_layer (KerasLayer)    (None, 512)               256797824 \n",
            "                                                                 \n",
            " dense_5 (Dense)             (None, 64)                32832     \n",
            "                                                                 \n",
            " dense_6 (Dense)             (None, 32)                2080      \n",
            "                                                                 \n",
            " dense_7 (Dense)             (None, 1)                 33        \n",
            "                                                                 \n",
            "=================================================================\n",
            "Total params: 256,832,769\n",
            "Trainable params: 256,832,769\n",
            "Non-trainable params: 0\n",
            "_________________________________________________________________\n"
          ]
        }
      ],
      "source": [
        "model_4.summary()"
      ]
    },
    {
      "cell_type": "code",
      "execution_count": null,
      "metadata": {
        "id": "-tdxhqnFBlkT",
        "colab": {
          "base_uri": "https://localhost:8080/",
          "height": 269
        },
        "outputId": "86471674-2e82-4787-8c3a-4cba7ed02daf"
      },
      "outputs": [
        {
          "output_type": "error",
          "ename": "NameError",
          "evalue": "ignored",
          "traceback": [
            "\u001b[0;31m---------------------------------------------------------------------------\u001b[0m",
            "\u001b[0;31mNameError\u001b[0m                                 Traceback (most recent call last)",
            "\u001b[0;32m<ipython-input-1-ce8a1d126a73>\u001b[0m in \u001b[0;36m<module>\u001b[0;34m\u001b[0m\n\u001b[0;32m----> 1\u001b[0;31m history_4=model_4.fit(train_dataset,\n\u001b[0m\u001b[1;32m      2\u001b[0m                           \u001b[0mepochs\u001b[0m\u001b[0;34m=\u001b[0m\u001b[0;36m5\u001b[0m\u001b[0;34m,\u001b[0m\u001b[0;34m\u001b[0m\u001b[0;34m\u001b[0m\u001b[0m\n\u001b[1;32m      3\u001b[0m                           callbacks=[tf.keras.callbacks.EarlyStopping(monitor=\"val_accuracy\", patience=5, restore_best_weights=True),\n\u001b[1;32m      4\u001b[0m                                      tf.keras.callbacks.ReduceLROnPlateau(monitor=\"val_accuracy\", patience=2)],\n\u001b[1;32m      5\u001b[0m                           validation_data=(test_dataset))\n",
            "\u001b[0;31mNameError\u001b[0m: name 'model_4' is not defined"
          ]
        }
      ],
      "source": [
        "history_4=model_4.fit(train_dataset,\n",
        "                          epochs=5,\n",
        "                          callbacks=[tf.keras.callbacks.EarlyStopping(monitor=\"val_accuracy\", patience=5, restore_best_weights=True),\n",
        "                                     tf.keras.callbacks.ReduceLROnPlateau(monitor=\"val_accuracy\", patience=2)],\n",
        "                          validation_data=(test_dataset))"
      ]
    },
    {
      "cell_type": "markdown",
      "metadata": {
        "id": "ThHHqP5TIZ0C"
      },
      "source": [
        "**Loss curves**"
      ]
    },
    {
      "cell_type": "code",
      "execution_count": null,
      "metadata": {
        "id": "yK8lKiqtITmV"
      },
      "outputs": [],
      "source": [
        "pd.DataFrame(history_4.history).plot();"
      ]
    },
    {
      "cell_type": "code",
      "execution_count": null,
      "metadata": {
        "id": "OQCjFiW6Ijwd"
      },
      "outputs": [],
      "source": [
        "y_preds= model_4.predict(test_dataset)\n",
        "model_4_results=calculate_metrics(test_labels, y_preds.round().squeeze())"
      ]
    },
    {
      "cell_type": "code",
      "execution_count": null,
      "metadata": {
        "id": "yUDZPxvrIkk9"
      },
      "outputs": [],
      "source": [
        "model_4_results"
      ]
    },
    {
      "cell_type": "markdown",
      "metadata": {
        "id": "5SwnqFcLJE-l"
      },
      "source": [
        "##**Model_5**: custom+transfer_learning"
      ]
    },
    {
      "cell_type": "code",
      "execution_count": null,
      "metadata": {
        "id": "i0OmEV7xKwpt"
      },
      "outputs": [],
      "source": [
        "word_embedding_4=tf.keras.layers.Embedding(input_dim= 20000,\n",
        "                                         output_dim=128,\n",
        "                                         input_length= word_98_percentile)"
      ]
    },
    {
      "cell_type": "code",
      "execution_count": null,
      "metadata": {
        "id": "2Rj3L1APU4Ud"
      },
      "outputs": [],
      "source": [
        "input_custom=tf.keras.layers.Input((1,), dtype=\"string\")\n",
        "x=word_tokenizer(input_custom)\n",
        "x=word_embedding_4(x)\n",
        "output_custom=tf.keras.layers.GlobalMaxPool1D()(x)\n",
        "\n",
        "model_custom=tf.keras.Model(input_custom, output_custom)\n",
        "\n",
        "input_tl=tf.keras.layers.Input([], dtype=\"string\")\n",
        "output_tl=embedding_layer(input_tl)\n",
        "\n",
        "model_tl=tf.keras.Model(input_tl, output_tl)\n",
        "\n",
        "concatenate_layer= tf.keras.layers.Concatenate()([model_custom.output, model_tl.output])\n",
        "\n",
        "x= tf.keras.layers.Dense(64, activation=\"relu\")(concatenate_layer)\n",
        "x= tf.keras.layers.Dense(32, activation=\"relu\")(x)\n",
        "outputs= tf.keras.layers.Dense(1, activation=\"sigmoid\")(x)\n",
        "\n",
        "#model_5\n",
        "model_5= tf.keras.Model(inputs=[model_custom.input, model_tl.input],\n",
        "                        outputs=outputs)\n",
        "\n",
        "model_5.compile(loss=tf.keras.losses.BinaryCrossentropy(),\n",
        "                  optimizer=tf.keras.optimizers.Adam(),\n",
        "                  metrics=[\"accuracy\"])"
      ]
    },
    {
      "cell_type": "markdown",
      "metadata": {
        "id": "HyW5ZVBGdCmF"
      },
      "source": [
        "**Dual input**"
      ]
    },
    {
      "cell_type": "code",
      "execution_count": null,
      "metadata": {
        "id": "dZBA4ImidGd4"
      },
      "outputs": [],
      "source": [
        "train_dataset_dual_inputs=tf.data.Dataset.from_tensor_slices((train_text, train_text))\n",
        "train_dataset_dual_labels=tf.data.Dataset.from_tensor_slices(train_labels)\n",
        "train_dataset_dual=tf.data.Dataset.zip((train_dataset_dual_inputs, train_dataset_dual_labels)).batch(32).prefetch(tf.data.AUTOTUNE)\n",
        "\n",
        "test_dataset_dual_inputs=tf.data.Dataset.from_tensor_slices((test_text, test_text))\n",
        "test_dataset_dual_labels=tf.data.Dataset.from_tensor_slices(test_labels)\n",
        "test_dataset_dual=tf.data.Dataset.zip((test_dataset_dual_inputs, test_dataset_dual_labels)).batch(32).prefetch(tf.data.AUTOTUNE)\n",
        "\n",
        "train_dataset_dual, test_dataset_dual"
      ]
    },
    {
      "cell_type": "code",
      "execution_count": null,
      "metadata": {
        "id": "3g2cNIqea2AU"
      },
      "outputs": [],
      "source": [
        "history_5=model_5.fit(train_dataset_dual,\n",
        "                          epochs=5, \n",
        "                          callbacks=[tf.keras.callbacks.EarlyStopping(monitor=\"val_accuracy\", patience=5, restore_best_weights=True),\n",
        "                                     tf.keras.callbacks.ReduceLROnPlateau(monitor=\"val_accuracy\", patience=2)],\n",
        "                          validation_data=(test_dataset_dual))"
      ]
    },
    {
      "cell_type": "markdown",
      "metadata": {
        "id": "ThG9tH5IbI89"
      },
      "source": [
        "**loss curves**"
      ]
    },
    {
      "cell_type": "code",
      "execution_count": null,
      "metadata": {
        "id": "yySsp5Bma_MY"
      },
      "outputs": [],
      "source": [
        "pd.DataFrame(history_5.history).plot();  "
      ]
    },
    {
      "cell_type": "code",
      "execution_count": null,
      "metadata": {
        "id": "_VevbJ-ibICp"
      },
      "outputs": [],
      "source": [
        "y_preds= model_5.predict(test_dataset_dual)\n",
        "model_5_results=calculate_metrics(test_labels, y_preds.round().squeeze())"
      ]
    },
    {
      "cell_type": "code",
      "execution_count": null,
      "metadata": {
        "id": "__BY5WBhbfkg"
      },
      "outputs": [],
      "source": [
        "model_5_results"
      ]
    },
    {
      "cell_type": "markdown",
      "metadata": {
        "id": "EQ49FibJbi-M"
      },
      "source": [
        "##**model_6**: Ensemble"
      ]
    },
    {
      "cell_type": "code",
      "execution_count": null,
      "metadata": {
        "id": "GlRBS78ttsM_"
      },
      "outputs": [],
      "source": [
        "word_embedding_5=tf.keras.layers.Embedding(input_dim= 20000,\n",
        "                                         output_dim=128,\n",
        "                                         input_length= word_98_percentile)\n",
        "\n",
        "word_embedding_6=tf.keras.layers.Embedding(input_dim= 20000,\n",
        "                                         output_dim=128,\n",
        "                                         input_length= word_98_percentile)"
      ]
    },
    {
      "cell_type": "code",
      "execution_count": null,
      "metadata": {
        "id": "lsEQCaVttzMn"
      },
      "outputs": [],
      "source": [
        "inputs= tf.keras.layers.Input((1,), dtype=\"string\")\n",
        "x=word_tokenizer(inputs)\n",
        "x=word_embedding_5(x)\n",
        "x= tf.keras.layers.Dense(64, activation=\"relu\")(x)\n",
        "x=tf.keras.layers.GlobalMaxPool1D()(x)\n",
        "x= tf.keras.layers.Dense(32, activation=\"relu\")(x)\n",
        "outputs= tf.keras.layers.Dense(1, activation=\"sigmoid\")(x)\n",
        "\n",
        "model_1_ensemble=tf.keras.Model(inputs, outputs)\n",
        "\n",
        "inputs= tf.keras.layers.Input((1,), dtype=\"string\")\n",
        "x=word_tokenizer(inputs)\n",
        "x=word_embedding_6(x)\n",
        "x= tf.keras.layers.Conv1D(64, 3, activation=\"relu\")(x)\n",
        "x= tf.keras.layers.Conv1D(32, 3, activation=\"relu\")(x)\n",
        "x=tf.keras.layers.GlobalMaxPool1D()(x)\n",
        "outputs= tf.keras.layers.Dense(1, activation=\"sigmoid\")(x)\n",
        "\n",
        "model_2_ensemble=tf.keras.Model(inputs, outputs)"
      ]
    },
    {
      "cell_type": "code",
      "execution_count": null,
      "metadata": {
        "id": "Ch2PtT2NuADN"
      },
      "outputs": [],
      "source": [
        "%%time\n",
        "pred_probs=[]\n",
        "\n",
        "for i in range(3):\n",
        "  \n",
        "  model_1_ensemble.compile(loss=tf.keras.losses.BinaryCrossentropy(),\n",
        "                  optimizer=tf.keras.optimizers.Adam(),\n",
        "                  metrics=[\"accuracy\"])\n",
        "  \n",
        "  history_1_ensemble=model_1_ensemble.fit(train_dataset,\n",
        "                            epochs=5,\n",
        "                            callbacks=[tf.keras.callbacks.EarlyStopping(monitor=\"val_accuracy\", patience=5, restore_best_weights=True),\n",
        "                                      tf.keras.callbacks.ReduceLROnPlateau(monitor=\"val_accuracy\", patience=2)],\n",
        "                            validation_data=(test_dataset),\n",
        "                            verbose=0)\n",
        "  y_preds=model_1_ensemble.predict(test_dataset).squeeze()\n",
        "  pred_probs.append(y_preds.tolist())\n",
        "\n",
        "  model_2_ensemble.compile(loss=tf.keras.losses.BinaryCrossentropy(),\n",
        "                  optimizer=tf.keras.optimizers.Adam(),\n",
        "                  metrics=[\"accuracy\"])\n",
        "  \n",
        "  history_2_ensemble=model_2_ensemble.fit(train_dataset,\n",
        "                            epochs=5,\n",
        "                            callbacks=[tf.keras.callbacks.EarlyStopping(monitor=\"val_accuracy\", patience=5, restore_best_weights=True),\n",
        "                                      tf.keras.callbacks.ReduceLROnPlateau(monitor=\"val_accuracy\", patience=2)],\n",
        "                            validation_data=(test_dataset),\n",
        "                            verbose=0)\n",
        "  y_preds=model_2_ensemble.predict(test_dataset).squeeze()\n",
        "  pred_probs.append(y_preds.tolist())"
      ]
    },
    {
      "cell_type": "code",
      "execution_count": null,
      "metadata": {
        "id": "sIPvOhkrye7y"
      },
      "outputs": [],
      "source": [
        "pred_probs_1=np.array(pred_probs)\n",
        "pred_probs_2=pred_probs_1.T\n",
        "ensemble_preds=np.mean(pred_probs_2, axis=1)"
      ]
    },
    {
      "cell_type": "code",
      "execution_count": null,
      "metadata": {
        "id": "7xQOfj2FH32R"
      },
      "outputs": [],
      "source": [
        "model_6_results= calculate_metrics(test_labels, ensemble_preds.round())\n",
        "model_6_results"
      ]
    },
    {
      "cell_type": "markdown",
      "metadata": {
        "id": "1i1AjP_CIPtA"
      },
      "source": [
        "##**Conclusion**"
      ]
    },
    {
      "cell_type": "code",
      "execution_count": null,
      "metadata": {
        "id": "XMZ1y2pyIS4y"
      },
      "outputs": [],
      "source": [
        "results_df= pd.DataFrame({\"model_1: MLP\": model_1_results,\n",
        "                          \"model_2: CNN\": model_2_results,\n",
        "                          \"model_3: RNN\": model_3_results,\n",
        "                          \"model_4: TL\": model_4_results,\n",
        "                          \"model_5: Custom+TL\": model_5_results,\n",
        "                          \"model_6: Ensemble\": model_6_results}).T\n",
        "\n",
        "results_df"
      ]
    },
    {
      "cell_type": "code",
      "execution_count": null,
      "metadata": {
        "id": "XuHK-KFjJJrG"
      },
      "outputs": [],
      "source": [
        "results_df.plot(kind=\"bar\", title=\"Deep Learning Approach\").legend(bbox_to_anchor=(1,1));           "
      ]
    }
  ],
  "metadata": {
    "colab": {
      "provenance": [],
      "include_colab_link": true
    },
    "gpuClass": "standard",
    "kernelspec": {
      "display_name": "Python 3",
      "name": "python3"
    },
    "language_info": {
      "name": "python"
    },
    "accelerator": "GPU"
  },
  "nbformat": 4,
  "nbformat_minor": 0
}