{
  "cells": [
    {
      "cell_type": "markdown",
      "metadata": {
        "id": "sO0SZoLBxt5t"
      },
      "source": [
        "#**Getting the data**"
      ]
    },
    {
      "cell_type": "code",
      "execution_count": null,
      "metadata": {
        "colab": {
          "base_uri": "https://localhost:8080/"
        },
        "id": "VthKRFYxOxQQ",
        "outputId": "3ee52952-8f6c-480e-8be5-fedead25472e"
      },
      "outputs": [
        {
          "output_type": "stream",
          "name": "stdout",
          "text": [
            "--2023-02-15 14:08:52--  https://zenodo.org/record/4561253/files/WELFake_Dataset.csv?download=1\n",
            "Resolving zenodo.org (zenodo.org)... 188.185.124.72\n",
            "Connecting to zenodo.org (zenodo.org)|188.185.124.72|:443... connected.\n",
            "HTTP request sent, awaiting response... 200 OK\n",
            "Length: 245086152 (234M) [text/plain]\n",
            "Saving to: ‘WELFake_Dataset.csv?download=1.1’\n",
            "\n",
            "WELFake_Dataset.csv 100%[===================>] 233.73M   337KB/s    in 12m 42s \n",
            "\n",
            "2023-02-15 14:21:37 (314 KB/s) - ‘WELFake_Dataset.csv?download=1.1’ saved [245086152/245086152]\n",
            "\n"
          ]
        }
      ],
      "source": [
        "!wget https://zenodo.org/record/4561253/files/WELFake_Dataset.csv?download=1"
      ]
    },
    {
      "cell_type": "code",
      "execution_count": null,
      "metadata": {
        "id": "hxalzOSUl966",
        "colab": {
          "base_uri": "https://localhost:8080/"
        },
        "outputId": "1d8442a4-f944-4776-d840-c260e4f74bf9"
      },
      "outputs": [
        {
          "output_type": "stream",
          "name": "stdout",
          "text": [
            "Looking in indexes: https://pypi.org/simple, https://us-python.pkg.dev/colab-wheels/public/simple/\n",
            "Requirement already satisfied: tensorflow-text in /usr/local/lib/python3.8/dist-packages (2.11.0)\n",
            "Requirement already satisfied: tensorflow-hub>=0.8.0 in /usr/local/lib/python3.8/dist-packages (from tensorflow-text) (0.12.0)\n",
            "Requirement already satisfied: tensorflow<2.12,>=2.11.0 in /usr/local/lib/python3.8/dist-packages (from tensorflow-text) (2.11.0)\n",
            "Requirement already satisfied: setuptools in /usr/local/lib/python3.8/dist-packages (from tensorflow<2.12,>=2.11.0->tensorflow-text) (57.4.0)\n",
            "Requirement already satisfied: tensorflow-io-gcs-filesystem>=0.23.1 in /usr/local/lib/python3.8/dist-packages (from tensorflow<2.12,>=2.11.0->tensorflow-text) (0.30.0)\n",
            "Requirement already satisfied: numpy>=1.20 in /usr/local/lib/python3.8/dist-packages (from tensorflow<2.12,>=2.11.0->tensorflow-text) (1.21.6)\n",
            "Requirement already satisfied: h5py>=2.9.0 in /usr/local/lib/python3.8/dist-packages (from tensorflow<2.12,>=2.11.0->tensorflow-text) (3.1.0)\n",
            "Requirement already satisfied: six>=1.12.0 in /usr/local/lib/python3.8/dist-packages (from tensorflow<2.12,>=2.11.0->tensorflow-text) (1.15.0)\n",
            "Requirement already satisfied: libclang>=13.0.0 in /usr/local/lib/python3.8/dist-packages (from tensorflow<2.12,>=2.11.0->tensorflow-text) (15.0.6.1)\n",
            "Requirement already satisfied: termcolor>=1.1.0 in /usr/local/lib/python3.8/dist-packages (from tensorflow<2.12,>=2.11.0->tensorflow-text) (2.2.0)\n",
            "Requirement already satisfied: flatbuffers>=2.0 in /usr/local/lib/python3.8/dist-packages (from tensorflow<2.12,>=2.11.0->tensorflow-text) (23.1.21)\n",
            "Requirement already satisfied: absl-py>=1.0.0 in /usr/local/lib/python3.8/dist-packages (from tensorflow<2.12,>=2.11.0->tensorflow-text) (1.4.0)\n",
            "Requirement already satisfied: grpcio<2.0,>=1.24.3 in /usr/local/lib/python3.8/dist-packages (from tensorflow<2.12,>=2.11.0->tensorflow-text) (1.51.1)\n",
            "Requirement already satisfied: typing-extensions>=3.6.6 in /usr/local/lib/python3.8/dist-packages (from tensorflow<2.12,>=2.11.0->tensorflow-text) (4.4.0)\n",
            "Requirement already satisfied: protobuf<3.20,>=3.9.2 in /usr/local/lib/python3.8/dist-packages (from tensorflow<2.12,>=2.11.0->tensorflow-text) (3.19.6)\n",
            "Requirement already satisfied: packaging in /usr/local/lib/python3.8/dist-packages (from tensorflow<2.12,>=2.11.0->tensorflow-text) (23.0)\n",
            "Requirement already satisfied: google-pasta>=0.1.1 in /usr/local/lib/python3.8/dist-packages (from tensorflow<2.12,>=2.11.0->tensorflow-text) (0.2.0)\n",
            "Requirement already satisfied: tensorboard<2.12,>=2.11 in /usr/local/lib/python3.8/dist-packages (from tensorflow<2.12,>=2.11.0->tensorflow-text) (2.11.2)\n",
            "Requirement already satisfied: astunparse>=1.6.0 in /usr/local/lib/python3.8/dist-packages (from tensorflow<2.12,>=2.11.0->tensorflow-text) (1.6.3)\n",
            "Requirement already satisfied: opt-einsum>=2.3.2 in /usr/local/lib/python3.8/dist-packages (from tensorflow<2.12,>=2.11.0->tensorflow-text) (3.3.0)\n",
            "Requirement already satisfied: keras<2.12,>=2.11.0 in /usr/local/lib/python3.8/dist-packages (from tensorflow<2.12,>=2.11.0->tensorflow-text) (2.11.0)\n",
            "Requirement already satisfied: wrapt>=1.11.0 in /usr/local/lib/python3.8/dist-packages (from tensorflow<2.12,>=2.11.0->tensorflow-text) (1.14.1)\n",
            "Requirement already satisfied: gast<=0.4.0,>=0.2.1 in /usr/local/lib/python3.8/dist-packages (from tensorflow<2.12,>=2.11.0->tensorflow-text) (0.4.0)\n",
            "Requirement already satisfied: tensorflow-estimator<2.12,>=2.11.0 in /usr/local/lib/python3.8/dist-packages (from tensorflow<2.12,>=2.11.0->tensorflow-text) (2.11.0)\n",
            "Requirement already satisfied: wheel<1.0,>=0.23.0 in /usr/local/lib/python3.8/dist-packages (from astunparse>=1.6.0->tensorflow<2.12,>=2.11.0->tensorflow-text) (0.38.4)\n",
            "Requirement already satisfied: tensorboard-plugin-wit>=1.6.0 in /usr/local/lib/python3.8/dist-packages (from tensorboard<2.12,>=2.11->tensorflow<2.12,>=2.11.0->tensorflow-text) (1.8.1)\n",
            "Requirement already satisfied: google-auth-oauthlib<0.5,>=0.4.1 in /usr/local/lib/python3.8/dist-packages (from tensorboard<2.12,>=2.11->tensorflow<2.12,>=2.11.0->tensorflow-text) (0.4.6)\n",
            "Requirement already satisfied: google-auth<3,>=1.6.3 in /usr/local/lib/python3.8/dist-packages (from tensorboard<2.12,>=2.11->tensorflow<2.12,>=2.11.0->tensorflow-text) (2.16.0)\n",
            "Requirement already satisfied: tensorboard-data-server<0.7.0,>=0.6.0 in /usr/local/lib/python3.8/dist-packages (from tensorboard<2.12,>=2.11->tensorflow<2.12,>=2.11.0->tensorflow-text) (0.6.1)\n",
            "Requirement already satisfied: werkzeug>=1.0.1 in /usr/local/lib/python3.8/dist-packages (from tensorboard<2.12,>=2.11->tensorflow<2.12,>=2.11.0->tensorflow-text) (1.0.1)\n",
            "Requirement already satisfied: requests<3,>=2.21.0 in /usr/local/lib/python3.8/dist-packages (from tensorboard<2.12,>=2.11->tensorflow<2.12,>=2.11.0->tensorflow-text) (2.25.1)\n",
            "Requirement already satisfied: markdown>=2.6.8 in /usr/local/lib/python3.8/dist-packages (from tensorboard<2.12,>=2.11->tensorflow<2.12,>=2.11.0->tensorflow-text) (3.4.1)\n",
            "Requirement already satisfied: rsa<5,>=3.1.4 in /usr/local/lib/python3.8/dist-packages (from google-auth<3,>=1.6.3->tensorboard<2.12,>=2.11->tensorflow<2.12,>=2.11.0->tensorflow-text) (4.9)\n",
            "Requirement already satisfied: pyasn1-modules>=0.2.1 in /usr/local/lib/python3.8/dist-packages (from google-auth<3,>=1.6.3->tensorboard<2.12,>=2.11->tensorflow<2.12,>=2.11.0->tensorflow-text) (0.2.8)\n",
            "Requirement already satisfied: cachetools<6.0,>=2.0.0 in /usr/local/lib/python3.8/dist-packages (from google-auth<3,>=1.6.3->tensorboard<2.12,>=2.11->tensorflow<2.12,>=2.11.0->tensorflow-text) (5.3.0)\n",
            "Requirement already satisfied: requests-oauthlib>=0.7.0 in /usr/local/lib/python3.8/dist-packages (from google-auth-oauthlib<0.5,>=0.4.1->tensorboard<2.12,>=2.11->tensorflow<2.12,>=2.11.0->tensorflow-text) (1.3.1)\n",
            "Requirement already satisfied: importlib-metadata>=4.4 in /usr/local/lib/python3.8/dist-packages (from markdown>=2.6.8->tensorboard<2.12,>=2.11->tensorflow<2.12,>=2.11.0->tensorflow-text) (6.0.0)\n",
            "Requirement already satisfied: idna<3,>=2.5 in /usr/local/lib/python3.8/dist-packages (from requests<3,>=2.21.0->tensorboard<2.12,>=2.11->tensorflow<2.12,>=2.11.0->tensorflow-text) (2.10)\n",
            "Requirement already satisfied: certifi>=2017.4.17 in /usr/local/lib/python3.8/dist-packages (from requests<3,>=2.21.0->tensorboard<2.12,>=2.11->tensorflow<2.12,>=2.11.0->tensorflow-text) (2022.12.7)\n",
            "Requirement already satisfied: chardet<5,>=3.0.2 in /usr/local/lib/python3.8/dist-packages (from requests<3,>=2.21.0->tensorboard<2.12,>=2.11->tensorflow<2.12,>=2.11.0->tensorflow-text) (4.0.0)\n",
            "Requirement already satisfied: urllib3<1.27,>=1.21.1 in /usr/local/lib/python3.8/dist-packages (from requests<3,>=2.21.0->tensorboard<2.12,>=2.11->tensorflow<2.12,>=2.11.0->tensorflow-text) (1.24.3)\n",
            "Requirement already satisfied: zipp>=0.5 in /usr/local/lib/python3.8/dist-packages (from importlib-metadata>=4.4->markdown>=2.6.8->tensorboard<2.12,>=2.11->tensorflow<2.12,>=2.11.0->tensorflow-text) (3.12.1)\n",
            "Requirement already satisfied: pyasn1<0.5.0,>=0.4.6 in /usr/local/lib/python3.8/dist-packages (from pyasn1-modules>=0.2.1->google-auth<3,>=1.6.3->tensorboard<2.12,>=2.11->tensorflow<2.12,>=2.11.0->tensorflow-text) (0.4.8)\n",
            "Requirement already satisfied: oauthlib>=3.0.0 in /usr/local/lib/python3.8/dist-packages (from requests-oauthlib>=0.7.0->google-auth-oauthlib<0.5,>=0.4.1->tensorboard<2.12,>=2.11->tensorflow<2.12,>=2.11.0->tensorflow-text) (3.2.2)\n",
            "Looking in indexes: https://pypi.org/simple, https://us-python.pkg.dev/colab-wheels/public/simple/\n",
            "Requirement already satisfied: transformers in /usr/local/lib/python3.8/dist-packages (4.26.1)\n",
            "Requirement already satisfied: tokenizers!=0.11.3,<0.14,>=0.11.1 in /usr/local/lib/python3.8/dist-packages (from transformers) (0.13.2)\n",
            "Requirement already satisfied: requests in /usr/local/lib/python3.8/dist-packages (from transformers) (2.25.1)\n",
            "Requirement already satisfied: packaging>=20.0 in /usr/local/lib/python3.8/dist-packages (from transformers) (23.0)\n",
            "Requirement already satisfied: huggingface-hub<1.0,>=0.11.0 in /usr/local/lib/python3.8/dist-packages (from transformers) (0.12.0)\n",
            "Requirement already satisfied: numpy>=1.17 in /usr/local/lib/python3.8/dist-packages (from transformers) (1.21.6)\n",
            "Requirement already satisfied: tqdm>=4.27 in /usr/local/lib/python3.8/dist-packages (from transformers) (4.64.1)\n",
            "Requirement already satisfied: pyyaml>=5.1 in /usr/local/lib/python3.8/dist-packages (from transformers) (6.0)\n",
            "Requirement already satisfied: filelock in /usr/local/lib/python3.8/dist-packages (from transformers) (3.9.0)\n",
            "Requirement already satisfied: regex!=2019.12.17 in /usr/local/lib/python3.8/dist-packages (from transformers) (2022.6.2)\n",
            "Requirement already satisfied: typing-extensions>=3.7.4.3 in /usr/local/lib/python3.8/dist-packages (from huggingface-hub<1.0,>=0.11.0->transformers) (4.4.0)\n",
            "Requirement already satisfied: idna<3,>=2.5 in /usr/local/lib/python3.8/dist-packages (from requests->transformers) (2.10)\n",
            "Requirement already satisfied: urllib3<1.27,>=1.21.1 in /usr/local/lib/python3.8/dist-packages (from requests->transformers) (1.24.3)\n",
            "Requirement already satisfied: certifi>=2017.4.17 in /usr/local/lib/python3.8/dist-packages (from requests->transformers) (2022.12.7)\n",
            "Requirement already satisfied: chardet<5,>=3.0.2 in /usr/local/lib/python3.8/dist-packages (from requests->transformers) (4.0.0)\n"
          ]
        }
      ],
      "source": [
        "!pip install tensorflow-text\n",
        "!pip install transformers\n",
        "import tensorflow_text"
      ]
    },
    {
      "cell_type": "code",
      "execution_count": null,
      "metadata": {
        "id": "Ipxq_wqha13i",
        "colab": {
          "base_uri": "https://localhost:8080/",
          "height": 206
        },
        "outputId": "514bcac1-b33a-4b63-dff8-25e2a79f5c52"
      },
      "outputs": [
        {
          "output_type": "execute_result",
          "data": {
            "text/plain": [
              "   Unnamed: 0                                              title  \\\n",
              "0           0  LAW ENFORCEMENT ON HIGH ALERT Following Threat...   \n",
              "1           1                                                NaN   \n",
              "2           2  UNBELIEVABLE! OBAMA’S ATTORNEY GENERAL SAYS MO...   \n",
              "3           3  Bobby Jindal, raised Hindu, uses story of Chri...   \n",
              "4           4  SATAN 2: Russia unvelis an image of its terrif...   \n",
              "\n",
              "                                                text  label  \n",
              "0  No comment is expected from Barack Obama Membe...      1  \n",
              "1     Did they post their votes for Hillary already?      1  \n",
              "2   Now, most of the demonstrators gathered last ...      1  \n",
              "3  A dozen politically active pastors came here f...      0  \n",
              "4  The RS-28 Sarmat missile, dubbed Satan 2, will...      1  "
            ],
            "text/html": [
              "\n",
              "  <div id=\"df-8c9bd71f-4396-462b-ae9c-ac36209eada7\">\n",
              "    <div class=\"colab-df-container\">\n",
              "      <div>\n",
              "<style scoped>\n",
              "    .dataframe tbody tr th:only-of-type {\n",
              "        vertical-align: middle;\n",
              "    }\n",
              "\n",
              "    .dataframe tbody tr th {\n",
              "        vertical-align: top;\n",
              "    }\n",
              "\n",
              "    .dataframe thead th {\n",
              "        text-align: right;\n",
              "    }\n",
              "</style>\n",
              "<table border=\"1\" class=\"dataframe\">\n",
              "  <thead>\n",
              "    <tr style=\"text-align: right;\">\n",
              "      <th></th>\n",
              "      <th>Unnamed: 0</th>\n",
              "      <th>title</th>\n",
              "      <th>text</th>\n",
              "      <th>label</th>\n",
              "    </tr>\n",
              "  </thead>\n",
              "  <tbody>\n",
              "    <tr>\n",
              "      <th>0</th>\n",
              "      <td>0</td>\n",
              "      <td>LAW ENFORCEMENT ON HIGH ALERT Following Threat...</td>\n",
              "      <td>No comment is expected from Barack Obama Membe...</td>\n",
              "      <td>1</td>\n",
              "    </tr>\n",
              "    <tr>\n",
              "      <th>1</th>\n",
              "      <td>1</td>\n",
              "      <td>NaN</td>\n",
              "      <td>Did they post their votes for Hillary already?</td>\n",
              "      <td>1</td>\n",
              "    </tr>\n",
              "    <tr>\n",
              "      <th>2</th>\n",
              "      <td>2</td>\n",
              "      <td>UNBELIEVABLE! OBAMA’S ATTORNEY GENERAL SAYS MO...</td>\n",
              "      <td>Now, most of the demonstrators gathered last ...</td>\n",
              "      <td>1</td>\n",
              "    </tr>\n",
              "    <tr>\n",
              "      <th>3</th>\n",
              "      <td>3</td>\n",
              "      <td>Bobby Jindal, raised Hindu, uses story of Chri...</td>\n",
              "      <td>A dozen politically active pastors came here f...</td>\n",
              "      <td>0</td>\n",
              "    </tr>\n",
              "    <tr>\n",
              "      <th>4</th>\n",
              "      <td>4</td>\n",
              "      <td>SATAN 2: Russia unvelis an image of its terrif...</td>\n",
              "      <td>The RS-28 Sarmat missile, dubbed Satan 2, will...</td>\n",
              "      <td>1</td>\n",
              "    </tr>\n",
              "  </tbody>\n",
              "</table>\n",
              "</div>\n",
              "      <button class=\"colab-df-convert\" onclick=\"convertToInteractive('df-8c9bd71f-4396-462b-ae9c-ac36209eada7')\"\n",
              "              title=\"Convert this dataframe to an interactive table.\"\n",
              "              style=\"display:none;\">\n",
              "        \n",
              "  <svg xmlns=\"http://www.w3.org/2000/svg\" height=\"24px\"viewBox=\"0 0 24 24\"\n",
              "       width=\"24px\">\n",
              "    <path d=\"M0 0h24v24H0V0z\" fill=\"none\"/>\n",
              "    <path d=\"M18.56 5.44l.94 2.06.94-2.06 2.06-.94-2.06-.94-.94-2.06-.94 2.06-2.06.94zm-11 1L8.5 8.5l.94-2.06 2.06-.94-2.06-.94L8.5 2.5l-.94 2.06-2.06.94zm10 10l.94 2.06.94-2.06 2.06-.94-2.06-.94-.94-2.06-.94 2.06-2.06.94z\"/><path d=\"M17.41 7.96l-1.37-1.37c-.4-.4-.92-.59-1.43-.59-.52 0-1.04.2-1.43.59L10.3 9.45l-7.72 7.72c-.78.78-.78 2.05 0 2.83L4 21.41c.39.39.9.59 1.41.59.51 0 1.02-.2 1.41-.59l7.78-7.78 2.81-2.81c.8-.78.8-2.07 0-2.86zM5.41 20L4 18.59l7.72-7.72 1.47 1.35L5.41 20z\"/>\n",
              "  </svg>\n",
              "      </button>\n",
              "      \n",
              "  <style>\n",
              "    .colab-df-container {\n",
              "      display:flex;\n",
              "      flex-wrap:wrap;\n",
              "      gap: 12px;\n",
              "    }\n",
              "\n",
              "    .colab-df-convert {\n",
              "      background-color: #E8F0FE;\n",
              "      border: none;\n",
              "      border-radius: 50%;\n",
              "      cursor: pointer;\n",
              "      display: none;\n",
              "      fill: #1967D2;\n",
              "      height: 32px;\n",
              "      padding: 0 0 0 0;\n",
              "      width: 32px;\n",
              "    }\n",
              "\n",
              "    .colab-df-convert:hover {\n",
              "      background-color: #E2EBFA;\n",
              "      box-shadow: 0px 1px 2px rgba(60, 64, 67, 0.3), 0px 1px 3px 1px rgba(60, 64, 67, 0.15);\n",
              "      fill: #174EA6;\n",
              "    }\n",
              "\n",
              "    [theme=dark] .colab-df-convert {\n",
              "      background-color: #3B4455;\n",
              "      fill: #D2E3FC;\n",
              "    }\n",
              "\n",
              "    [theme=dark] .colab-df-convert:hover {\n",
              "      background-color: #434B5C;\n",
              "      box-shadow: 0px 1px 3px 1px rgba(0, 0, 0, 0.15);\n",
              "      filter: drop-shadow(0px 1px 2px rgba(0, 0, 0, 0.3));\n",
              "      fill: #FFFFFF;\n",
              "    }\n",
              "  </style>\n",
              "\n",
              "      <script>\n",
              "        const buttonEl =\n",
              "          document.querySelector('#df-8c9bd71f-4396-462b-ae9c-ac36209eada7 button.colab-df-convert');\n",
              "        buttonEl.style.display =\n",
              "          google.colab.kernel.accessAllowed ? 'block' : 'none';\n",
              "\n",
              "        async function convertToInteractive(key) {\n",
              "          const element = document.querySelector('#df-8c9bd71f-4396-462b-ae9c-ac36209eada7');\n",
              "          const dataTable =\n",
              "            await google.colab.kernel.invokeFunction('convertToInteractive',\n",
              "                                                     [key], {});\n",
              "          if (!dataTable) return;\n",
              "\n",
              "          const docLinkHtml = 'Like what you see? Visit the ' +\n",
              "            '<a target=\"_blank\" href=https://colab.research.google.com/notebooks/data_table.ipynb>data table notebook</a>'\n",
              "            + ' to learn more about interactive tables.';\n",
              "          element.innerHTML = '';\n",
              "          dataTable['output_type'] = 'display_data';\n",
              "          await google.colab.output.renderOutput(dataTable, element);\n",
              "          const docLink = document.createElement('div');\n",
              "          docLink.innerHTML = docLinkHtml;\n",
              "          element.appendChild(docLink);\n",
              "        }\n",
              "      </script>\n",
              "    </div>\n",
              "  </div>\n",
              "  "
            ]
          },
          "metadata": {},
          "execution_count": 6
        }
      ],
      "source": [
        "import pandas as pd\n",
        "\n",
        "# loading the dataset to a pandas DataFrame\n",
        "news_dataset = pd.read_csv('/content/WELFake_Dataset.csv?download=1')\n",
        "# the first 5 rows of the dataframe\n",
        "news_dataset.head()"
      ]
    },
    {
      "cell_type": "code",
      "execution_count": null,
      "metadata": {
        "id": "1Z5Blm0zc_KN",
        "colab": {
          "base_uri": "https://localhost:8080/"
        },
        "outputId": "b77141f0-b972-40b1-9b9a-8fcdf23971fc"
      },
      "outputs": [
        {
          "output_type": "execute_result",
          "data": {
            "text/plain": [
              "Unnamed: 0      0\n",
              "title         558\n",
              "text           39\n",
              "label           0\n",
              "dtype: int64"
            ]
          },
          "metadata": {},
          "execution_count": 7
        }
      ],
      "source": [
        "# counting the number of missing values in the dataset\n",
        "news_dataset.isnull().sum()#count no.of missing value in each column"
      ]
    },
    {
      "cell_type": "code",
      "execution_count": null,
      "metadata": {
        "id": "uJcMPcTndYZJ"
      },
      "outputs": [],
      "source": [
        "# replacing the null values with empty string\n",
        "news_dataset = news_dataset.fillna('')#fillna fills with whatever we mention"
      ]
    },
    {
      "cell_type": "markdown",
      "metadata": {
        "id": "2VmNKdBm6Pcn"
      },
      "source": [
        "#**Helper functions**"
      ]
    },
    {
      "cell_type": "code",
      "execution_count": null,
      "metadata": {
        "id": "zO-WHIib6Sxa"
      },
      "outputs": [],
      "source": [
        "from sklearn.metrics import accuracy_score, f1_score, recall_score, precision_score\n",
        "def calculate_metrics(y_true, y_preds):\n",
        "  model_results={\"Accuracy\": accuracy_score(y_true, y_preds),\n",
        "                 \"Precision\": precision_score(y_true, y_preds),\n",
        "                 \"Recall\": recall_score(y_true, y_preds),\n",
        "                 \"f1_score\": f1_score(y_true, y_preds),\n",
        "                 }\n",
        "  return model_results"
      ]
    },
    {
      "cell_type": "markdown",
      "metadata": {
        "id": "yZsA8CuMbr0e"
      },
      "source": [
        "#**ML_Approach**"
      ]
    },
    {
      "cell_type": "markdown",
      "metadata": {
        "id": "X-0uRKNTb16l"
      },
      "source": [
        "**Importing dependencies**"
      ]
    },
    {
      "cell_type": "code",
      "execution_count": null,
      "metadata": {
        "id": "S0NxQQIKxA_m"
      },
      "outputs": [],
      "source": [
        "import numpy as np\n",
        "import pandas as pd\n",
        "import re#useful for searching the text in the document\n",
        "from nltk.corpus import stopwords# corpus: body of the particular text,nltk natural language tool kit,the text we are going to work,stopwords are those words which doesnt add value to our paragraph or text(the,an,a,..)\n",
        "from nltk.stem.porter import PorterStemmer#stemming takes the word removes prefix and suffix of the word and returns the root of the word/root word\n",
        "from sklearn.feature_extraction.text import TfidfVectorizer# TfidfVectorizer convert text into feature vectors\n",
        "from sklearn.model_selection import train_test_split # splits train and test data\n",
        "from sklearn.linear_model import LogisticRegression\n",
        "from sklearn.neighbors import KNeighborsClassifier\n",
        "from sklearn import svm\n",
        "from sklearn import tree\n",
        "from xgboost import XGBClassifier\n",
        "from sklearn.naive_bayes import GaussianNB\n",
        "import lightgbm\n",
        "from lightgbm import LGBMClassifier\n",
        "from sklearn.ensemble import RandomForestClassifier \n",
        "from sklearn.ensemble import VotingClassifier\n",
        "from sklearn.metrics import accuracy_score"
      ]
    },
    {
      "cell_type": "code",
      "execution_count": null,
      "metadata": {
        "colab": {
          "base_uri": "https://localhost:8080/"
        },
        "id": "enNN3gIocClO",
        "outputId": "efbb1bfa-4d18-4347-a703-36caf42709f6"
      },
      "outputs": [
        {
          "output_type": "stream",
          "name": "stderr",
          "text": [
            "[nltk_data] Downloading package stopwords to /root/nltk_data...\n",
            "[nltk_data]   Unzipping corpora/stopwords.zip.\n"
          ]
        },
        {
          "output_type": "execute_result",
          "data": {
            "text/plain": [
              "True"
            ]
          },
          "metadata": {},
          "execution_count": 8
        }
      ],
      "source": [
        "import nltk\n",
        "nltk.download('stopwords')"
      ]
    },
    {
      "cell_type": "code",
      "execution_count": null,
      "metadata": {
        "id": "G8qxV5gXcDUE"
      },
      "outputs": [],
      "source": [
        "# separating the data & label\n",
        "X = news_dataset.drop(columns='label', axis=1)# axis = 1 represents columns\n",
        "Y = news_dataset['label']"
      ]
    },
    {
      "cell_type": "markdown",
      "metadata": {
        "id": "ymhyv6WCeHgm"
      },
      "source": [
        "Stemming:\n",
        "stemming is the process of reducing a word to its rootword\n",
        "example:\n",
        "actor,actress,acting-->act(rootword)\n",
        "\n",
        "we do this for increasing performance"
      ]
    },
    {
      "cell_type": "code",
      "execution_count": null,
      "metadata": {
        "id": "F1VvHKe5eJaf"
      },
      "outputs": [],
      "source": [
        "port_stem = PorterStemmer()"
      ]
    },
    {
      "cell_type": "code",
      "execution_count": null,
      "metadata": {
        "id": "p7WQFQrFeQ4x"
      },
      "outputs": [],
      "source": [
        "def stemming(content):\n",
        "    stemmed_content = re.sub('[^a-zA-Z]',' ',content)# re :searching paragraph or text, sub :substitute certain values,˄:exclusion (we are taking only alphabets ,excluding other than the  thing which is present in the set) other than alphabets are written as ' '(space)\n",
        "    stemmed_content = stemmed_content.lower()# converting all letters to lower case\n",
        "    stemmed_content = stemmed_content.split()# splitting to converted to list\n",
        "    stemmed_content = [port_stem.stem(word) for word in stemmed_content if not word in stopwords.words('english')] # returning only the rootwords for the words which are not present in the stopwords lib from stemmed content\n",
        "    stemmed_content = ' '.join(stemmed_content)# joining the words\n",
        "    return stemmed_content"
      ]
    },
    {
      "cell_type": "code",
      "execution_count": null,
      "metadata": {
        "id": "0BP0kC_HjhXC"
      },
      "outputs": [],
      "source": [
        "news_dataset['content'] = news_dataset['title']+' '+news_dataset['text']#creating new column called content"
      ]
    },
    {
      "cell_type": "code",
      "execution_count": null,
      "metadata": {
        "id": "zCSPse0ReTGh"
      },
      "outputs": [],
      "source": [
        "news_dataset['content'] = news_dataset['content'].apply(stemming)"
      ]
    },
    {
      "cell_type": "code",
      "execution_count": null,
      "metadata": {
        "id": "NkT3RSjYeVyQ"
      },
      "outputs": [],
      "source": [
        "#separating the data and label\n",
        "X = news_dataset['content'].values\n",
        "Y = news_dataset['label'].values"
      ]
    },
    {
      "cell_type": "code",
      "execution_count": null,
      "metadata": {
        "id": "i2mmxOT3eeGN"
      },
      "outputs": [],
      "source": [
        "# converting the textual data to nummerical data\n",
        "vectorizer = TfidfVectorizer()# term frequency inverse documentary freuency vectorizer , Tf;counts the no. of times the particular word is repeated in the paragraph,idf: finds the repeating words which doesnt add much difference\n",
        "vectorizer.fit(X)\n",
        "\n",
        "X = vectorizer.transform(X)"
      ]
    },
    {
      "cell_type": "markdown",
      "metadata": {
        "id": "TxefbVApeg4E"
      },
      "source": [
        "**Splitting the dataset to training and test data**"
      ]
    },
    {
      "cell_type": "code",
      "execution_count": null,
      "metadata": {
        "id": "KujHBqx_eeuJ"
      },
      "outputs": [],
      "source": [
        "from sklearn.model_selection import train_test_split\n",
        "\n",
        "X_train,X_test,Y_train,Y_test = train_test_split(X,Y,test_size = 0.2,stratify =Y,random_state =2)# stratify segregates real and fake news in same proportion as that of original X,Y;"
      ]
    },
    {
      "cell_type": "markdown",
      "metadata": {
        "id": "v6DMLUiTepiZ"
      },
      "source": [
        "##**Model_LR**"
      ]
    },
    {
      "cell_type": "code",
      "execution_count": null,
      "metadata": {
        "colab": {
          "base_uri": "https://localhost:8080/"
        },
        "id": "TdXofP_semhi",
        "outputId": "9378ce87-c3cc-4e22-d598-9c598a97873f"
      },
      "outputs": [
        {
          "output_type": "execute_result",
          "data": {
            "text/plain": [
              "LogisticRegression()"
            ]
          },
          "metadata": {},
          "execution_count": 17
        }
      ],
      "source": [
        "model_lr = LogisticRegression()\n",
        "model_lr.fit(X_train,Y_train)"
      ]
    },
    {
      "cell_type": "code",
      "execution_count": null,
      "metadata": {
        "colab": {
          "base_uri": "https://localhost:8080/"
        },
        "id": "38tWmUFGe5W9",
        "outputId": "057f0936-ea46-49d8-b425-296f6a3867c6"
      },
      "outputs": [
        {
          "output_type": "execute_result",
          "data": {
            "text/plain": [
              "{'Accuracy': 0.9486379704720316,\n",
              " 'Precision': 0.943088352348103,\n",
              " 'Recall': 0.9579571486322598,\n",
              " 'f1_score': 0.9504646032488802}"
            ]
          },
          "metadata": {},
          "execution_count": 18
        }
      ],
      "source": [
        "lr_test_prediction = model_lr.predict(X_test)\n",
        "model_lr_results=calculate_metrics(Y_test,lr_test_prediction)\n",
        "model_lr_results"
      ]
    },
    {
      "cell_type": "markdown",
      "metadata": {
        "id": "f-ztYCIJfJiO"
      },
      "source": [
        "##**Model_KNN**"
      ]
    },
    {
      "cell_type": "code",
      "execution_count": null,
      "metadata": {
        "colab": {
          "base_uri": "https://localhost:8080/"
        },
        "id": "fSpZ3SxqfHBV",
        "outputId": "0bc43a40-214f-46a9-8ab8-8c15a0bd2d9d"
      },
      "outputs": [
        {
          "output_type": "execute_result",
          "data": {
            "text/plain": [
              "KNeighborsClassifier()"
            ]
          },
          "metadata": {},
          "execution_count": 24
        }
      ],
      "source": [
        "model_knn = KNeighborsClassifier()\n",
        "model_knn.fit(X_train,Y_train)"
      ]
    },
    {
      "cell_type": "code",
      "execution_count": null,
      "metadata": {
        "colab": {
          "base_uri": "https://localhost:8080/"
        },
        "id": "uLQqf2WdfWeJ",
        "outputId": "88fd4927-5bb5-4930-d82c-3a0595c071c7"
      },
      "outputs": [
        {
          "output_type": "execute_result",
          "data": {
            "text/plain": [
              "{'Accuracy': 0.6894711305191654,\n",
              " 'Precision': 0.6302595446895207,\n",
              " 'Recall': 0.9587656650047164,\n",
              " 'f1_score': 0.760555852485302}"
            ]
          },
          "metadata": {},
          "execution_count": 20
        }
      ],
      "source": [
        "knn_test_prediction = model_knn.predict(X_test)\n",
        "model_knn_results=calculate_metrics(Y_test,knn_test_prediction)\n",
        "model_knn_results"
      ]
    },
    {
      "cell_type": "markdown",
      "metadata": {
        "id": "r-nSZG8yfif0"
      },
      "source": [
        "##**Model_SVM**"
      ]
    },
    {
      "cell_type": "code",
      "execution_count": null,
      "metadata": {
        "colab": {
          "base_uri": "https://localhost:8080/"
        },
        "id": "kX8WpBzTf0oT",
        "outputId": "84f8f354-1b8f-43f3-ab13-14648ff5f4a5"
      },
      "outputs": [
        {
          "output_type": "execute_result",
          "data": {
            "text/plain": [
              "SVC(kernel='linear')"
            ]
          },
          "metadata": {},
          "execution_count": 21
        }
      ],
      "source": [
        "model_svm = svm.SVC(kernel='linear')\n",
        "model_svm.fit(X_train,Y_train)"
      ]
    },
    {
      "cell_type": "code",
      "execution_count": null,
      "metadata": {
        "colab": {
          "base_uri": "https://localhost:8080/"
        },
        "id": "89VvsR2wf9BQ",
        "outputId": "9e65dc03-e672-4a7e-ce7e-190bc62f635f"
      },
      "outputs": [
        {
          "output_type": "execute_result",
          "data": {
            "text/plain": [
              "{'Accuracy': 0.9591737714008456,\n",
              " 'Precision': 0.9569288389513109,\n",
              " 'Recall': 0.9640210214256839,\n",
              " 'f1_score': 0.9604618379539505}"
            ]
          },
          "metadata": {},
          "execution_count": 22
        }
      ],
      "source": [
        "svm_test_prediction = model_svm.predict(X_test)\n",
        "model_svm_results=calculate_metrics(Y_test,svm_test_prediction)\n",
        "model_svm_results"
      ]
    },
    {
      "cell_type": "markdown",
      "metadata": {
        "id": "-Qm4cVzbgLPt"
      },
      "source": [
        "##**Model_DT**"
      ]
    },
    {
      "cell_type": "code",
      "execution_count": null,
      "metadata": {
        "colab": {
          "base_uri": "https://localhost:8080/"
        },
        "id": "h05Gr57RgKo-",
        "outputId": "f0f9d708-4f3a-41d5-8e7d-1319b79bb429"
      },
      "outputs": [
        {
          "output_type": "execute_result",
          "data": {
            "text/plain": [
              "DecisionTreeClassifier(max_depth=64)"
            ]
          },
          "metadata": {},
          "execution_count": 23
        }
      ],
      "source": [
        "model_dt= tree.DecisionTreeClassifier(max_depth = 64)\n",
        "model_dt.fit(X_train, Y_train)"
      ]
    },
    {
      "cell_type": "code",
      "execution_count": null,
      "metadata": {
        "colab": {
          "base_uri": "https://localhost:8080/"
        },
        "id": "ZXG-LriMgkfL",
        "outputId": "be548df2-bd82-4711-c2df-7ce252769b60"
      },
      "outputs": [
        {
          "output_type": "execute_result",
          "data": {
            "text/plain": [
              "{'Accuracy': 0.9373397102654745,\n",
              " 'Precision': 0.9268963710205685,\n",
              " 'Recall': 0.9533755558550061,\n",
              " 'f1_score': 0.9399495150790488}"
            ]
          },
          "metadata": {},
          "execution_count": 24
        }
      ],
      "source": [
        "dt_test_prediction = model_dt.predict(X_test)\n",
        "model_dt_results=calculate_metrics(Y_test,dt_test_prediction)\n",
        "model_dt_results"
      ]
    },
    {
      "cell_type": "markdown",
      "source": [
        "##**Model_XGBOOST**"
      ],
      "metadata": {
        "id": "2iV42uGe2aA3"
      }
    },
    {
      "cell_type": "code",
      "execution_count": null,
      "metadata": {
        "colab": {
          "base_uri": "https://localhost:8080/"
        },
        "id": "gWW8ndh3nJUr",
        "outputId": "7befafe7-e723-4fca-88d1-ee8f3f366e88"
      },
      "outputs": [
        {
          "output_type": "execute_result",
          "data": {
            "text/plain": [
              "XGBClassifier()"
            ]
          },
          "metadata": {},
          "execution_count": 26
        }
      ],
      "source": [
        "model_xgboost = XGBClassifier()\n",
        "model_xgboost.fit(X_train, Y_train)"
      ]
    },
    {
      "cell_type": "code",
      "execution_count": null,
      "metadata": {
        "colab": {
          "base_uri": "https://localhost:8080/"
        },
        "id": "xKHrA3WToIvR",
        "outputId": "52e9d623-35d5-43e0-f89f-bb077b670965"
      },
      "outputs": [
        {
          "output_type": "execute_result",
          "data": {
            "text/plain": [
              "{'Accuracy': 0.9412213211339849,\n",
              " 'Precision': 0.9270955165692008,\n",
              " 'Recall': 0.9613259668508287,\n",
              " 'f1_score': 0.9439005027785128}"
            ]
          },
          "metadata": {},
          "execution_count": 27
        }
      ],
      "source": [
        "xgboost_test_prediction = model_xgboost.predict(X_test)\n",
        "model_xgboost_results=calculate_metrics(Y_test,xgboost_test_prediction)\n",
        "model_xgboost_results"
      ]
    },
    {
      "cell_type": "markdown",
      "source": [
        "##**Model_LGBM**"
      ],
      "metadata": {
        "id": "2ARlHzmv2jyH"
      }
    },
    {
      "cell_type": "code",
      "execution_count": null,
      "metadata": {
        "id": "NQsLDgn8vgzX",
        "colab": {
          "base_uri": "https://localhost:8080/"
        },
        "outputId": "a8443963-7187-4fd3-ac2e-c846ec8bf152"
      },
      "outputs": [
        {
          "output_type": "execute_result",
          "data": {
            "text/plain": [
              "LGBMClassifier()"
            ]
          },
          "metadata": {},
          "execution_count": 28
        }
      ],
      "source": [
        "model_lgbm = LGBMClassifier()\n",
        "model_lgbm.fit(X_train, Y_train)"
      ]
    },
    {
      "cell_type": "code",
      "execution_count": null,
      "metadata": {
        "id": "x8iv_ejqvwuh",
        "colab": {
          "base_uri": "https://localhost:8080/"
        },
        "outputId": "d51ba16e-cf70-4581-ee61-1d07a491d07b"
      },
      "outputs": [
        {
          "output_type": "execute_result",
          "data": {
            "text/plain": [
              "{'Accuracy': 0.9645109863450475,\n",
              " 'Precision': 0.956039603960396,\n",
              " 'Recall': 0.9758792615550465,\n",
              " 'f1_score': 0.9658575620165377}"
            ]
          },
          "metadata": {},
          "execution_count": 29
        }
      ],
      "source": [
        "lgbm_test_prediction = model_lgbm.predict(X_test)\n",
        "model_lgbm_results=calculate_metrics(Y_test,lgbm_test_prediction)\n",
        "model_lgbm_results"
      ]
    },
    {
      "cell_type": "markdown",
      "source": [
        "##**Model_RF**"
      ],
      "metadata": {
        "id": "AMSBHsI12w4q"
      }
    },
    {
      "cell_type": "code",
      "execution_count": null,
      "metadata": {
        "id": "awf1P1fsbbBI",
        "colab": {
          "base_uri": "https://localhost:8080/"
        },
        "outputId": "a5909ea9-3218-45fa-8887-0a7605302bb6"
      },
      "outputs": [
        {
          "output_type": "execute_result",
          "data": {
            "text/plain": [
              "RandomForestClassifier(criterion='entropy', n_estimators=10)"
            ]
          },
          "metadata": {},
          "execution_count": 30
        }
      ],
      "source": [
        "model_rf = RandomForestClassifier(n_estimators= 10, criterion=\"entropy\")\n",
        "model_rf.fit(X_train,Y_train)"
      ]
    },
    {
      "cell_type": "code",
      "execution_count": null,
      "metadata": {
        "id": "atdmMOQtbtGX",
        "colab": {
          "base_uri": "https://localhost:8080/"
        },
        "outputId": "1d8d32c4-f29e-4396-fe36-f5752fcd0436"
      },
      "outputs": [
        {
          "output_type": "execute_result",
          "data": {
            "text/plain": [
              "{'Accuracy': 0.9012961807721633,\n",
              " 'Precision': 0.9153622385371936,\n",
              " 'Recall': 0.8904460315321385,\n",
              " 'f1_score': 0.9027322404371585}"
            ]
          },
          "metadata": {},
          "execution_count": 31
        }
      ],
      "source": [
        "rf_test_prediction = model_rf.predict(X_test)\n",
        "model_rf_results=calculate_metrics(Y_test,rf_test_prediction)\n",
        "model_rf_results"
      ]
    },
    {
      "cell_type": "markdown",
      "source": [
        "##**Model_Ensemble**"
      ],
      "metadata": {
        "id": "8TTQDM1p29RQ"
      }
    },
    {
      "cell_type": "code",
      "source": [
        "def ensemble(predictions):\n",
        "  return np.mean(predictions, axis=0)"
      ],
      "metadata": {
        "id": "wQ4vIQQtibRr"
      },
      "execution_count": null,
      "outputs": []
    },
    {
      "cell_type": "code",
      "source": [
        "predictions = [lr_test_prediction,knn_test_prediction,svm_test_prediction,dt_test_prediction,xgboost_test_prediction,lgbm_test_prediction,rf_test_prediction]\n",
        "ensemble_test_prediction = ensemble(predictions)"
      ],
      "metadata": {
        "id": "DYiCgDuumE6x"
      },
      "execution_count": null,
      "outputs": []
    },
    {
      "cell_type": "code",
      "execution_count": null,
      "metadata": {
        "id": "tKYldNHajNyT",
        "colab": {
          "base_uri": "https://localhost:8080/"
        },
        "outputId": "56605328-29cf-45b2-828e-2cb73f5d5c49"
      },
      "outputs": [
        {
          "output_type": "execute_result",
          "data": {
            "text/plain": [
              "{'Accuracy': 0.9628474388299716,\n",
              " 'Precision': 0.9484173505275498,\n",
              " 'Recall': 0.981134617976014,\n",
              " 'f1_score': 0.9644986090872962}"
            ]
          },
          "metadata": {},
          "execution_count": 88
        }
      ],
      "source": [
        "ensemble_test_prediction  = np.where(ensemble_test_prediction>=0.5,1,0)\n",
        "model_ensemble_results=calculate_metrics(Y_test,ensemble_test_prediction)\n",
        "model_ensemble_results"
      ]
    },
    {
      "cell_type": "markdown",
      "metadata": {
        "id": "lk4kabOmhNqK"
      },
      "source": [
        "##**Conclusion**"
      ]
    },
    {
      "cell_type": "code",
      "execution_count": null,
      "metadata": {
        "id": "zaiBUTg8hV-W",
        "colab": {
          "base_uri": "https://localhost:8080/",
          "height": 300
        },
        "outputId": "4afe1b87-58c1-407b-f4af-79f954440753"
      },
      "outputs": [
        {
          "output_type": "execute_result",
          "data": {
            "text/plain": [
              "                Accuracy  Precision    Recall  f1_score\n",
              "model_LR        0.948638   0.943088  0.957957  0.950465\n",
              "model_KNN       0.689471   0.630260  0.958766  0.760556\n",
              "model_SVM       0.959174   0.956929  0.964021  0.960462\n",
              "model_DT        0.937340   0.926896  0.953376  0.939950\n",
              "model_XGBOOST   0.941221   0.927096  0.961326  0.943901\n",
              "model_LGBM      0.964511   0.956040  0.975879  0.965858\n",
              "model_RF        0.901296   0.915362  0.890446  0.902732\n",
              "model_ENSEMBLE  0.962847   0.948417  0.981135  0.964499"
            ],
            "text/html": [
              "\n",
              "  <div id=\"df-9116e58c-4647-43ef-9b4a-13fbcaf54415\">\n",
              "    <div class=\"colab-df-container\">\n",
              "      <div>\n",
              "<style scoped>\n",
              "    .dataframe tbody tr th:only-of-type {\n",
              "        vertical-align: middle;\n",
              "    }\n",
              "\n",
              "    .dataframe tbody tr th {\n",
              "        vertical-align: top;\n",
              "    }\n",
              "\n",
              "    .dataframe thead th {\n",
              "        text-align: right;\n",
              "    }\n",
              "</style>\n",
              "<table border=\"1\" class=\"dataframe\">\n",
              "  <thead>\n",
              "    <tr style=\"text-align: right;\">\n",
              "      <th></th>\n",
              "      <th>Accuracy</th>\n",
              "      <th>Precision</th>\n",
              "      <th>Recall</th>\n",
              "      <th>f1_score</th>\n",
              "    </tr>\n",
              "  </thead>\n",
              "  <tbody>\n",
              "    <tr>\n",
              "      <th>model_LR</th>\n",
              "      <td>0.948638</td>\n",
              "      <td>0.943088</td>\n",
              "      <td>0.957957</td>\n",
              "      <td>0.950465</td>\n",
              "    </tr>\n",
              "    <tr>\n",
              "      <th>model_KNN</th>\n",
              "      <td>0.689471</td>\n",
              "      <td>0.630260</td>\n",
              "      <td>0.958766</td>\n",
              "      <td>0.760556</td>\n",
              "    </tr>\n",
              "    <tr>\n",
              "      <th>model_SVM</th>\n",
              "      <td>0.959174</td>\n",
              "      <td>0.956929</td>\n",
              "      <td>0.964021</td>\n",
              "      <td>0.960462</td>\n",
              "    </tr>\n",
              "    <tr>\n",
              "      <th>model_DT</th>\n",
              "      <td>0.937340</td>\n",
              "      <td>0.926896</td>\n",
              "      <td>0.953376</td>\n",
              "      <td>0.939950</td>\n",
              "    </tr>\n",
              "    <tr>\n",
              "      <th>model_XGBOOST</th>\n",
              "      <td>0.941221</td>\n",
              "      <td>0.927096</td>\n",
              "      <td>0.961326</td>\n",
              "      <td>0.943901</td>\n",
              "    </tr>\n",
              "    <tr>\n",
              "      <th>model_LGBM</th>\n",
              "      <td>0.964511</td>\n",
              "      <td>0.956040</td>\n",
              "      <td>0.975879</td>\n",
              "      <td>0.965858</td>\n",
              "    </tr>\n",
              "    <tr>\n",
              "      <th>model_RF</th>\n",
              "      <td>0.901296</td>\n",
              "      <td>0.915362</td>\n",
              "      <td>0.890446</td>\n",
              "      <td>0.902732</td>\n",
              "    </tr>\n",
              "    <tr>\n",
              "      <th>model_ENSEMBLE</th>\n",
              "      <td>0.962847</td>\n",
              "      <td>0.948417</td>\n",
              "      <td>0.981135</td>\n",
              "      <td>0.964499</td>\n",
              "    </tr>\n",
              "  </tbody>\n",
              "</table>\n",
              "</div>\n",
              "      <button class=\"colab-df-convert\" onclick=\"convertToInteractive('df-9116e58c-4647-43ef-9b4a-13fbcaf54415')\"\n",
              "              title=\"Convert this dataframe to an interactive table.\"\n",
              "              style=\"display:none;\">\n",
              "        \n",
              "  <svg xmlns=\"http://www.w3.org/2000/svg\" height=\"24px\"viewBox=\"0 0 24 24\"\n",
              "       width=\"24px\">\n",
              "    <path d=\"M0 0h24v24H0V0z\" fill=\"none\"/>\n",
              "    <path d=\"M18.56 5.44l.94 2.06.94-2.06 2.06-.94-2.06-.94-.94-2.06-.94 2.06-2.06.94zm-11 1L8.5 8.5l.94-2.06 2.06-.94-2.06-.94L8.5 2.5l-.94 2.06-2.06.94zm10 10l.94 2.06.94-2.06 2.06-.94-2.06-.94-.94-2.06-.94 2.06-2.06.94z\"/><path d=\"M17.41 7.96l-1.37-1.37c-.4-.4-.92-.59-1.43-.59-.52 0-1.04.2-1.43.59L10.3 9.45l-7.72 7.72c-.78.78-.78 2.05 0 2.83L4 21.41c.39.39.9.59 1.41.59.51 0 1.02-.2 1.41-.59l7.78-7.78 2.81-2.81c.8-.78.8-2.07 0-2.86zM5.41 20L4 18.59l7.72-7.72 1.47 1.35L5.41 20z\"/>\n",
              "  </svg>\n",
              "      </button>\n",
              "      \n",
              "  <style>\n",
              "    .colab-df-container {\n",
              "      display:flex;\n",
              "      flex-wrap:wrap;\n",
              "      gap: 12px;\n",
              "    }\n",
              "\n",
              "    .colab-df-convert {\n",
              "      background-color: #E8F0FE;\n",
              "      border: none;\n",
              "      border-radius: 50%;\n",
              "      cursor: pointer;\n",
              "      display: none;\n",
              "      fill: #1967D2;\n",
              "      height: 32px;\n",
              "      padding: 0 0 0 0;\n",
              "      width: 32px;\n",
              "    }\n",
              "\n",
              "    .colab-df-convert:hover {\n",
              "      background-color: #E2EBFA;\n",
              "      box-shadow: 0px 1px 2px rgba(60, 64, 67, 0.3), 0px 1px 3px 1px rgba(60, 64, 67, 0.15);\n",
              "      fill: #174EA6;\n",
              "    }\n",
              "\n",
              "    [theme=dark] .colab-df-convert {\n",
              "      background-color: #3B4455;\n",
              "      fill: #D2E3FC;\n",
              "    }\n",
              "\n",
              "    [theme=dark] .colab-df-convert:hover {\n",
              "      background-color: #434B5C;\n",
              "      box-shadow: 0px 1px 3px 1px rgba(0, 0, 0, 0.15);\n",
              "      filter: drop-shadow(0px 1px 2px rgba(0, 0, 0, 0.3));\n",
              "      fill: #FFFFFF;\n",
              "    }\n",
              "  </style>\n",
              "\n",
              "      <script>\n",
              "        const buttonEl =\n",
              "          document.querySelector('#df-9116e58c-4647-43ef-9b4a-13fbcaf54415 button.colab-df-convert');\n",
              "        buttonEl.style.display =\n",
              "          google.colab.kernel.accessAllowed ? 'block' : 'none';\n",
              "\n",
              "        async function convertToInteractive(key) {\n",
              "          const element = document.querySelector('#df-9116e58c-4647-43ef-9b4a-13fbcaf54415');\n",
              "          const dataTable =\n",
              "            await google.colab.kernel.invokeFunction('convertToInteractive',\n",
              "                                                     [key], {});\n",
              "          if (!dataTable) return;\n",
              "\n",
              "          const docLinkHtml = 'Like what you see? Visit the ' +\n",
              "            '<a target=\"_blank\" href=https://colab.research.google.com/notebooks/data_table.ipynb>data table notebook</a>'\n",
              "            + ' to learn more about interactive tables.';\n",
              "          element.innerHTML = '';\n",
              "          dataTable['output_type'] = 'display_data';\n",
              "          await google.colab.output.renderOutput(dataTable, element);\n",
              "          const docLink = document.createElement('div');\n",
              "          docLink.innerHTML = docLinkHtml;\n",
              "          element.appendChild(docLink);\n",
              "        }\n",
              "      </script>\n",
              "    </div>\n",
              "  </div>\n",
              "  "
            ]
          },
          "metadata": {},
          "execution_count": 89
        }
      ],
      "source": [
        "results_df= pd.DataFrame({\"model_LR\": model_lr_results,\n",
        "                          \"model_KNN\": model_knn_results,\n",
        "                          \"model_SVM\": model_svm_results,\n",
        "                          \"model_DT\": model_dt_results,\n",
        "                          \"model_XGBOOST\": model_xgboost_results,\n",
        "                          \"model_LGBM\": model_lgbm_results,\n",
        "                          \"model_RF\": model_rf_results,\n",
        "                          \"model_ENSEMBLE\": model_ensemble_results}).T\n",
        "\n",
        "results_df"
      ]
    },
    {
      "cell_type": "code",
      "execution_count": null,
      "metadata": {
        "id": "4Mo45Krlh2DQ",
        "colab": {
          "base_uri": "https://localhost:8080/",
          "height": 361
        },
        "outputId": "7f03b4de-381d-461c-c6cd-bd15613bbe14"
      },
      "outputs": [
        {
          "output_type": "display_data",
          "data": {
            "text/plain": [
              "<Figure size 432x288 with 1 Axes>"
            ],
            "image/png": "[encoded data removed]"
          },
          "metadata": {
            "needs_background": "light"
          }
        }
      ],
      "source": [
        "results_df.plot(kind=\"bar\", title=\"Machine Learning Approach\").legend(bbox_to_anchor=(1,1));"
      ]
    },
    {
      "cell_type": "markdown",
      "metadata": {
        "id": "JMqvhXiIbm2a"
      },
      "source": [
        "#**DL_Aproach**"
      ]
    },
    {
      "cell_type": "code",
      "execution_count": null,
      "metadata": {
        "id": "ocKIzELinYN2"
      },
      "outputs": [],
      "source": [
        "from tensorflow.keras import mixed_precision\n",
        "mixed_precision.set_global_policy(policy=\"mixed_float16\")"
      ]
    },
    {
      "cell_type": "code",
      "execution_count": null,
      "metadata": {
        "id": "KTuANQrz_rEb"
      },
      "outputs": [],
      "source": [
        "import tensorflow as tf\n",
        "import numpy as np"
      ]
    },
    {
      "cell_type": "markdown",
      "metadata": {
        "id": "5wvxPagV-9FX"
      },
      "source": [
        "##**Model_1**:MLP"
      ]
    },
    {
      "cell_type": "code",
      "execution_count": null,
      "metadata": {
        "id": "5M2jgGF3WiLP",
        "colab": {
          "base_uri": "https://localhost:8080/",
          "height": 206
        },
        "outputId": "8ab76d01-5fac-4d68-e7b9-14df572107a4"
      },
      "outputs": [
        {
          "output_type": "execute_result",
          "data": {
            "text/plain": [
              "   Unnamed: 0                                              title  \\\n",
              "0           0  LAW ENFORCEMENT ON HIGH ALERT Following Threat...   \n",
              "1           1                                                      \n",
              "2           2  UNBELIEVABLE! OBAMA’S ATTORNEY GENERAL SAYS MO...   \n",
              "3           3  Bobby Jindal, raised Hindu, uses story of Chri...   \n",
              "4           4  SATAN 2: Russia unvelis an image of its terrif...   \n",
              "\n",
              "                                                text  label  \n",
              "0  No comment is expected from Barack Obama Membe...      1  \n",
              "1     Did they post their votes for Hillary already?      1  \n",
              "2   Now, most of the demonstrators gathered last ...      1  \n",
              "3  A dozen politically active pastors came here f...      0  \n",
              "4  The RS-28 Sarmat missile, dubbed Satan 2, will...      1  "
            ],
            "text/html": [
              "\n",
              "  <div id=\"df-79c699a6-cfe6-4743-8905-fae0fa531033\">\n",
              "    <div class=\"colab-df-container\">\n",
              "      <div>\n",
              "<style scoped>\n",
              "    .dataframe tbody tr th:only-of-type {\n",
              "        vertical-align: middle;\n",
              "    }\n",
              "\n",
              "    .dataframe tbody tr th {\n",
              "        vertical-align: top;\n",
              "    }\n",
              "\n",
              "    .dataframe thead th {\n",
              "        text-align: right;\n",
              "    }\n",
              "</style>\n",
              "<table border=\"1\" class=\"dataframe\">\n",
              "  <thead>\n",
              "    <tr style=\"text-align: right;\">\n",
              "      <th></th>\n",
              "      <th>Unnamed: 0</th>\n",
              "      <th>title</th>\n",
              "      <th>text</th>\n",
              "      <th>label</th>\n",
              "    </tr>\n",
              "  </thead>\n",
              "  <tbody>\n",
              "    <tr>\n",
              "      <th>0</th>\n",
              "      <td>0</td>\n",
              "      <td>LAW ENFORCEMENT ON HIGH ALERT Following Threat...</td>\n",
              "      <td>No comment is expected from Barack Obama Membe...</td>\n",
              "      <td>1</td>\n",
              "    </tr>\n",
              "    <tr>\n",
              "      <th>1</th>\n",
              "      <td>1</td>\n",
              "      <td></td>\n",
              "      <td>Did they post their votes for Hillary already?</td>\n",
              "      <td>1</td>\n",
              "    </tr>\n",
              "    <tr>\n",
              "      <th>2</th>\n",
              "      <td>2</td>\n",
              "      <td>UNBELIEVABLE! OBAMA’S ATTORNEY GENERAL SAYS MO...</td>\n",
              "      <td>Now, most of the demonstrators gathered last ...</td>\n",
              "      <td>1</td>\n",
              "    </tr>\n",
              "    <tr>\n",
              "      <th>3</th>\n",
              "      <td>3</td>\n",
              "      <td>Bobby Jindal, raised Hindu, uses story of Chri...</td>\n",
              "      <td>A dozen politically active pastors came here f...</td>\n",
              "      <td>0</td>\n",
              "    </tr>\n",
              "    <tr>\n",
              "      <th>4</th>\n",
              "      <td>4</td>\n",
              "      <td>SATAN 2: Russia unvelis an image of its terrif...</td>\n",
              "      <td>The RS-28 Sarmat missile, dubbed Satan 2, will...</td>\n",
              "      <td>1</td>\n",
              "    </tr>\n",
              "  </tbody>\n",
              "</table>\n",
              "</div>\n",
              "      <button class=\"colab-df-convert\" onclick=\"convertToInteractive('df-79c699a6-cfe6-4743-8905-fae0fa531033')\"\n",
              "              title=\"Convert this dataframe to an interactive table.\"\n",
              "              style=\"display:none;\">\n",
              "        \n",
              "  <svg xmlns=\"http://www.w3.org/2000/svg\" height=\"24px\"viewBox=\"0 0 24 24\"\n",
              "       width=\"24px\">\n",
              "    <path d=\"M0 0h24v24H0V0z\" fill=\"none\"/>\n",
              "    <path d=\"M18.56 5.44l.94 2.06.94-2.06 2.06-.94-2.06-.94-.94-2.06-.94 2.06-2.06.94zm-11 1L8.5 8.5l.94-2.06 2.06-.94-2.06-.94L8.5 2.5l-.94 2.06-2.06.94zm10 10l.94 2.06.94-2.06 2.06-.94-2.06-.94-.94-2.06-.94 2.06-2.06.94z\"/><path d=\"M17.41 7.96l-1.37-1.37c-.4-.4-.92-.59-1.43-.59-.52 0-1.04.2-1.43.59L10.3 9.45l-7.72 7.72c-.78.78-.78 2.05 0 2.83L4 21.41c.39.39.9.59 1.41.59.51 0 1.02-.2 1.41-.59l7.78-7.78 2.81-2.81c.8-.78.8-2.07 0-2.86zM5.41 20L4 18.59l7.72-7.72 1.47 1.35L5.41 20z\"/>\n",
              "  </svg>\n",
              "      </button>\n",
              "      \n",
              "  <style>\n",
              "    .colab-df-container {\n",
              "      display:flex;\n",
              "      flex-wrap:wrap;\n",
              "      gap: 12px;\n",
              "    }\n",
              "\n",
              "    .colab-df-convert {\n",
              "      background-color: #E8F0FE;\n",
              "      border: none;\n",
              "      border-radius: 50%;\n",
              "      cursor: pointer;\n",
              "      display: none;\n",
              "      fill: #1967D2;\n",
              "      height: 32px;\n",
              "      padding: 0 0 0 0;\n",
              "      width: 32px;\n",
              "    }\n",
              "\n",
              "    .colab-df-convert:hover {\n",
              "      background-color: #E2EBFA;\n",
              "      box-shadow: 0px 1px 2px rgba(60, 64, 67, 0.3), 0px 1px 3px 1px rgba(60, 64, 67, 0.15);\n",
              "      fill: #174EA6;\n",
              "    }\n",
              "\n",
              "    [theme=dark] .colab-df-convert {\n",
              "      background-color: #3B4455;\n",
              "      fill: #D2E3FC;\n",
              "    }\n",
              "\n",
              "    [theme=dark] .colab-df-convert:hover {\n",
              "      background-color: #434B5C;\n",
              "      box-shadow: 0px 1px 3px 1px rgba(0, 0, 0, 0.15);\n",
              "      filter: drop-shadow(0px 1px 2px rgba(0, 0, 0, 0.3));\n",
              "      fill: #FFFFFF;\n",
              "    }\n",
              "  </style>\n",
              "\n",
              "      <script>\n",
              "        const buttonEl =\n",
              "          document.querySelector('#df-79c699a6-cfe6-4743-8905-fae0fa531033 button.colab-df-convert');\n",
              "        buttonEl.style.display =\n",
              "          google.colab.kernel.accessAllowed ? 'block' : 'none';\n",
              "\n",
              "        async function convertToInteractive(key) {\n",
              "          const element = document.querySelector('#df-79c699a6-cfe6-4743-8905-fae0fa531033');\n",
              "          const dataTable =\n",
              "            await google.colab.kernel.invokeFunction('convertToInteractive',\n",
              "                                                     [key], {});\n",
              "          if (!dataTable) return;\n",
              "\n",
              "          const docLinkHtml = 'Like what you see? Visit the ' +\n",
              "            '<a target=\"_blank\" href=https://colab.research.google.com/notebooks/data_table.ipynb>data table notebook</a>'\n",
              "            + ' to learn more about interactive tables.';\n",
              "          element.innerHTML = '';\n",
              "          dataTable['output_type'] = 'display_data';\n",
              "          await google.colab.output.renderOutput(dataTable, element);\n",
              "          const docLink = document.createElement('div');\n",
              "          docLink.innerHTML = docLinkHtml;\n",
              "          element.appendChild(docLink);\n",
              "        }\n",
              "      </script>\n",
              "    </div>\n",
              "  </div>\n",
              "  "
            ]
          },
          "metadata": {},
          "execution_count": 24
        }
      ],
      "source": [
        "news_dataset.head()"
      ]
    },
    {
      "cell_type": "code",
      "execution_count": null,
      "metadata": {
        "id": "22U7nMvKcgYq",
        "colab": {
          "base_uri": "https://localhost:8080/"
        },
        "outputId": "602dbadf-e122-4ce2-a235-c3ddc1de2b3d"
      },
      "outputs": [
        {
          "output_type": "execute_result",
          "data": {
            "text/plain": [
              "1    37106\n",
              "0    35028\n",
              "Name: label, dtype: int64"
            ]
          },
          "metadata": {},
          "execution_count": 25
        }
      ],
      "source": [
        "news_dataset.label.value_counts() #balanced dataset"
      ]
    },
    {
      "cell_type": "code",
      "execution_count": null,
      "metadata": {
        "id": "QojwPj0o5kke",
        "colab": {
          "base_uri": "https://localhost:8080/"
        },
        "outputId": "4210b6e6-d3b6-495b-bf29-5e255df19298"
      },
      "outputs": [
        {
          "output_type": "execute_result",
          "data": {
            "text/plain": [
              "1994"
            ]
          },
          "metadata": {},
          "execution_count": 26
        }
      ],
      "source": [
        "content=news_dataset[\"text\"]\n",
        "labels=news_dataset[\"label\"]\n",
        "word_arr= [len(row.split()) for row in content]\n",
        "word_98_percentile= int(np.percentile(word_arr, 98))\n",
        "word_98_percentile"
      ]
    },
    {
      "cell_type": "code",
      "execution_count": null,
      "metadata": {
        "id": "4DrJ2zfZ4-jP"
      },
      "outputs": [],
      "source": [
        "word_tokenizer= tf.keras.layers.TextVectorization(max_tokens= 20000,\n",
        "                                                  output_sequence_length=word_98_percentile)\n",
        "\n",
        "word_tokenizer.adapt(content)\n",
        "\n",
        "word_embedding_1=tf.keras.layers.Embedding(input_dim= 20000,\n",
        "                                         output_dim=128,\n",
        "                                         input_length= word_98_percentile)"
      ]
    },
    {
      "cell_type": "code",
      "execution_count": null,
      "metadata": {
        "id": "8XFAOBAg7_id"
      },
      "outputs": [],
      "source": [
        "inputs= tf.keras.layers.Input((1,), dtype=\"string\")\n",
        "x=word_tokenizer(inputs)\n",
        "x=word_embedding_1(x)\n",
        "x= tf.keras.layers.Dense(64, activation=\"relu\")(x)\n",
        "x=tf.keras.layers.GlobalMaxPool1D()(x)\n",
        "x= tf.keras.layers.Dense(32, activation=\"relu\")(x)\n",
        "outputs= tf.keras.layers.Dense(1, activation=\"sigmoid\")(x)\n",
        "\n",
        "model_1=tf.keras.Model(inputs, outputs)\n",
        "\n",
        "model_1.compile(loss=tf.keras.losses.BinaryCrossentropy(),\n",
        "                  optimizer=tf.keras.optimizers.Adam(),\n",
        "                  metrics=[\"accuracy\"])"
      ]
    },
    {
      "cell_type": "code",
      "execution_count": null,
      "metadata": {
        "id": "FyXLMoKy8hep",
        "colab": {
          "base_uri": "https://localhost:8080/"
        },
        "outputId": "f0ebc1e0-c775-4ff6-9e7e-f1cd1e68ec6e"
      },
      "outputs": [
        {
          "output_type": "stream",
          "name": "stdout",
          "text": [
            "Model: \"model\"\n",
            "_________________________________________________________________\n",
            " Layer (type)                Output Shape              Param #   \n",
            "=================================================================\n",
            " input_1 (InputLayer)        [(None, 1)]               0         \n",
            "                                                                 \n",
            " text_vectorization (TextVec  (None, 1994)             0         \n",
            " torization)                                                     \n",
            "                                                                 \n",
            " embedding (Embedding)       (None, 1994, 128)         2560000   \n",
            "                                                                 \n",
            " dense (Dense)               (None, 1994, 64)          8256      \n",
            "                                                                 \n",
            " global_max_pooling1d (Globa  (None, 64)               0         \n",
            " lMaxPooling1D)                                                  \n",
            "                                                                 \n",
            " dense_1 (Dense)             (None, 32)                2080      \n",
            "                                                                 \n",
            " dense_2 (Dense)             (None, 1)                 33        \n",
            "                                                                 \n",
            "=================================================================\n",
            "Total params: 2,570,369\n",
            "Trainable params: 2,570,369\n",
            "Non-trainable params: 0\n",
            "_________________________________________________________________\n"
          ]
        }
      ],
      "source": [
        "model_1.summary()"
      ]
    },
    {
      "cell_type": "markdown",
      "metadata": {
        "id": "yh6ZBuUspbkB"
      },
      "source": [
        "**Splitting the data and fastening the load time**"
      ]
    },
    {
      "cell_type": "code",
      "execution_count": null,
      "metadata": {
        "id": "q8YkGKCJ8qu_"
      },
      "outputs": [],
      "source": [
        "from sklearn.model_selection import train_test_split\n",
        "\n",
        "train_text, test_text, train_labels, test_labels= train_test_split(content, labels)\n",
        "\n",
        "train_dataset=tf.data.Dataset.from_tensor_slices((train_text, train_labels)).batch(32).prefetch(tf.data.AUTOTUNE)\n",
        "test_dataset=tf.data.Dataset.from_tensor_slices((test_text, test_labels)).batch(32).prefetch(tf.data.AUTOTUNE)"
      ]
    },
    {
      "cell_type": "code",
      "execution_count": null,
      "metadata": {
        "id": "bR-ybyiVdiLg",
        "colab": {
          "base_uri": "https://localhost:8080/"
        },
        "outputId": "5a2d3e00-2e7e-4136-d7e4-c64c25e0ff66"
      },
      "outputs": [
        {
          "output_type": "execute_result",
          "data": {
            "text/plain": [
              "<PrefetchDataset element_spec=(TensorSpec(shape=(None,), dtype=tf.string, name=None), TensorSpec(shape=(None,), dtype=tf.int64, name=None))>"
            ]
          },
          "metadata": {},
          "execution_count": 16
        }
      ],
      "source": [
        "train_dataset"
      ]
    },
    {
      "cell_type": "code",
      "execution_count": null,
      "metadata": {
        "id": "y9HcJ8WnAUIG",
        "colab": {
          "base_uri": "https://localhost:8080/"
        },
        "outputId": "40e13496-3ac9-4c56-dd07-ba4425b3c37f"
      },
      "outputs": [
        {
          "output_type": "stream",
          "name": "stdout",
          "text": [
            "Epoch 1/5\n",
            "1691/1691 [==============================] - 185s 106ms/step - loss: 0.1246 - accuracy: 0.9554 - val_loss: 0.0735 - val_accuracy: 0.9749 - lr: 0.0010\n",
            "Epoch 2/5\n",
            "1691/1691 [==============================] - 21s 12ms/step - loss: 0.0588 - accuracy: 0.9790 - val_loss: 0.0640 - val_accuracy: 0.9794 - lr: 0.0010\n",
            "Epoch 3/5\n",
            "1691/1691 [==============================] - 22s 13ms/step - loss: 0.0405 - accuracy: 0.9856 - val_loss: 0.0653 - val_accuracy: 0.9782 - lr: 0.0010\n",
            "Epoch 4/5\n",
            "1691/1691 [==============================] - 21s 12ms/step - loss: 0.0199 - accuracy: 0.9935 - val_loss: 0.0657 - val_accuracy: 0.9771 - lr: 1.0000e-04\n"
          ]
        }
      ],
      "source": [
        "history_1=model_1.fit(train_dataset,\n",
        "                      epochs=5,\n",
        "                      callbacks=[tf.keras.callbacks.EarlyStopping(monitor=\"val_accuracy\", patience=2, restore_best_weights=True),\n",
        "                                 tf.keras.callbacks.ReduceLROnPlateau(monitor=\"val_accuracy\", patience=1),\n",
        "                                 tf.keras.callbacks.TensorBoard(log_dir=\"tensorboard/model_MLP\")],\n",
        "                      validation_data=(test_dataset),\n",
        "                      validation_steps=int(0.1*len(test_dataset)))"
      ]
    },
    {
      "cell_type": "markdown",
      "metadata": {
        "id": "leXoHhAxtYCp"
      },
      "source": [
        "**Loss curves**"
      ]
    },
    {
      "cell_type": "code",
      "execution_count": null,
      "metadata": {
        "id": "UHw0tNDrtXds",
        "colab": {
          "base_uri": "https://localhost:8080/",
          "height": 265
        },
        "outputId": "ddc8a1b3-be16-4ad6-8c6c-e7ab915faca4"
      },
      "outputs": [
        {
          "output_type": "display_data",
          "data": {
            "text/plain": [
              "<Figure size 432x288 with 1 Axes>"
            ],
            "image/png": "[encoded data removed]"
          },
          "metadata": {
            "needs_background": "light"
          }
        }
      ],
      "source": [
        "pd.DataFrame(history_1.history).plot();"
      ]
    },
    {
      "cell_type": "code",
      "execution_count": null,
      "metadata": {
        "id": "xPIy8G-L8Cwf",
        "colab": {
          "base_uri": "https://localhost:8080/"
        },
        "outputId": "b09a2db5-4277-4c90-cccd-df849ac1ac06"
      },
      "outputs": [
        {
          "output_type": "stream",
          "name": "stdout",
          "text": [
            "564/564 [==============================] - 4s 6ms/step\n"
          ]
        }
      ],
      "source": [
        "y_preds=model_1.predict(test_dataset)\n",
        "model_1_results= calculate_metrics(test_labels, y_preds.round().squeeze())"
      ]
    },
    {
      "cell_type": "code",
      "execution_count": null,
      "metadata": {
        "id": "2UdhMzOI8osr",
        "colab": {
          "base_uri": "https://localhost:8080/"
        },
        "outputId": "1392df96-5d3d-4fe6-86b3-3525b1cebf44"
      },
      "outputs": [
        {
          "output_type": "execute_result",
          "data": {
            "text/plain": [
              "{'Accuracy': 0.9767106576466674,\n",
              " 'Precision': 0.9716403480502739,\n",
              " 'Recall': 0.9830453211607434,\n",
              " 'f1_score': 0.9773095623987034}"
            ]
          },
          "metadata": {},
          "execution_count": 20
        }
      ],
      "source": [
        "model_1_results"
      ]
    },
    {
      "cell_type": "markdown",
      "metadata": {
        "id": "Zr-U9Jmrr4IB"
      },
      "source": [
        "##**Model_2**:CNN"
      ]
    },
    {
      "cell_type": "code",
      "execution_count": null,
      "metadata": {
        "id": "PsQh1n3EsgTf"
      },
      "outputs": [],
      "source": [
        "word_embedding_2=tf.keras.layers.Embedding(input_dim= 20000,\n",
        "                                         output_dim=128,\n",
        "                                         input_length= word_98_percentile)"
      ]
    },
    {
      "cell_type": "code",
      "execution_count": null,
      "metadata": {
        "id": "5gzAHLIusLIh"
      },
      "outputs": [],
      "source": [
        "inputs= tf.keras.layers.Input((1,), dtype=\"string\")\n",
        "x=word_tokenizer(inputs)\n",
        "x=word_embedding_2(x)\n",
        "x= tf.keras.layers.Conv1D(64, 3, activation=\"relu\")(x)\n",
        "x= tf.keras.layers.Conv1D(32, 3, activation=\"relu\")(x)\n",
        "x=tf.keras.layers.GlobalMaxPool1D()(x)\n",
        "outputs= tf.keras.layers.Dense(1, activation=\"sigmoid\", dtype=tf.float32)(x)\n",
        "\n",
        "model_2=tf.keras.Model(inputs, outputs)\n",
        "\n",
        "model_2.compile(loss=tf.keras.losses.BinaryCrossentropy(),\n",
        "                  optimizer=tf.keras.optimizers.Adam(),\n",
        "                  metrics=[\"accuracy\"])"
      ]
    },
    {
      "cell_type": "code",
      "execution_count": null,
      "metadata": {
        "id": "BCmhdmoTs0yu",
        "colab": {
          "base_uri": "https://localhost:8080/"
        },
        "outputId": "e7e23c3d-0fbd-4e5a-fffc-b2acc462bc03"
      },
      "outputs": [
        {
          "output_type": "stream",
          "name": "stdout",
          "text": [
            "Model: \"model_1\"\n",
            "_________________________________________________________________\n",
            " Layer (type)                Output Shape              Param #   \n",
            "=================================================================\n",
            " input_2 (InputLayer)        [(None, 1)]               0         \n",
            "                                                                 \n",
            " text_vectorization (TextVec  (None, 1994)             0         \n",
            " torization)                                                     \n",
            "                                                                 \n",
            " embedding_1 (Embedding)     (None, 1994, 128)         2560000   \n",
            "                                                                 \n",
            " conv1d (Conv1D)             (None, 1992, 64)          24640     \n",
            "                                                                 \n",
            " conv1d_1 (Conv1D)           (None, 1990, 32)          6176      \n",
            "                                                                 \n",
            " global_max_pooling1d_1 (Glo  (None, 32)               0         \n",
            " balMaxPooling1D)                                                \n",
            "                                                                 \n",
            " dense_3 (Dense)             (None, 1)                 33        \n",
            "                                                                 \n",
            "=================================================================\n",
            "Total params: 2,590,849\n",
            "Trainable params: 2,590,849\n",
            "Non-trainable params: 0\n",
            "_________________________________________________________________\n"
          ]
        }
      ],
      "source": [
        "model_2.summary()"
      ]
    },
    {
      "cell_type": "code",
      "execution_count": null,
      "metadata": {
        "id": "PIr-YZritTYu",
        "colab": {
          "base_uri": "https://localhost:8080/"
        },
        "outputId": "fe63d6ea-5ad6-47e4-a7e4-7523ff51744f"
      },
      "outputs": [
        {
          "output_type": "stream",
          "name": "stdout",
          "text": [
            "Epoch 1/5\n",
            "1691/1691 [==============================] - 134s 76ms/step - loss: 0.1026 - accuracy: 0.9583 - val_loss: 0.0589 - val_accuracy: 0.9788 - lr: 0.0010\n",
            "Epoch 2/5\n",
            "1691/1691 [==============================] - 21s 12ms/step - loss: 0.0218 - accuracy: 0.9926 - val_loss: 0.0517 - val_accuracy: 0.9844 - lr: 0.0010\n",
            "Epoch 3/5\n",
            "1691/1691 [==============================] - 22s 13ms/step - loss: 0.0044 - accuracy: 0.9987 - val_loss: 0.0645 - val_accuracy: 0.9833 - lr: 0.0010\n",
            "Epoch 4/5\n",
            "1691/1691 [==============================] - 22s 13ms/step - loss: 0.0010 - accuracy: 0.9997 - val_loss: 0.0616 - val_accuracy: 0.9849 - lr: 1.0000e-04\n",
            "Epoch 5/5\n",
            "1691/1691 [==============================] - 22s 13ms/step - loss: 4.5132e-04 - accuracy: 1.0000 - val_loss: 0.0622 - val_accuracy: 0.9849 - lr: 1.0000e-04\n"
          ]
        }
      ],
      "source": [
        "history_2=model_2.fit(train_dataset,\n",
        "                          epochs=5,\n",
        "                          callbacks=[tf.keras.callbacks.EarlyStopping(monitor=\"val_accuracy\", patience=2, restore_best_weights=True),\n",
        "                                     tf.keras.callbacks.ReduceLROnPlateau(monitor=\"val_accuracy\", patience=1),\n",
        "                                     tf.keras.callbacks.TensorBoard(log_dir=\"tensorboard/model_CNN\")],\n",
        "                          validation_data=(test_dataset),\n",
        "                      validation_steps=int(0.1*len(test_dataset)))"
      ]
    },
    {
      "cell_type": "markdown",
      "metadata": {
        "id": "BUcOTyequQKX"
      },
      "source": [
        "**Loss curves**"
      ]
    },
    {
      "cell_type": "code",
      "execution_count": null,
      "metadata": {
        "id": "x_9Hph01uTMh",
        "colab": {
          "base_uri": "https://localhost:8080/",
          "height": 265
        },
        "outputId": "af3e76ab-d457-4ba3-a871-cf03c9cbecd0"
      },
      "outputs": [
        {
          "output_type": "display_data",
          "data": {
            "text/plain": [
              "<Figure size 432x288 with 1 Axes>"
            ],
            "image/png": "[encoded data removed]"
          },
          "metadata": {
            "needs_background": "light"
          }
        }
      ],
      "source": [
        "pd.DataFrame(history_2.history).plot();"
      ]
    },
    {
      "cell_type": "code",
      "execution_count": null,
      "metadata": {
        "id": "40ixwwyr8zj7",
        "colab": {
          "base_uri": "https://localhost:8080/"
        },
        "outputId": "e4a83bb5-5a73-44f2-d653-0589c8a82dbe"
      },
      "outputs": [
        {
          "output_type": "stream",
          "name": "stdout",
          "text": [
            "564/564 [==============================] - 3s 6ms/step\n"
          ]
        }
      ],
      "source": [
        "y_preds= model_2.predict(test_dataset)\n",
        "model_2_results= calculate_metrics(test_labels, y_preds.round().squeeze())"
      ]
    },
    {
      "cell_type": "code",
      "execution_count": null,
      "metadata": {
        "id": "ZrEpPCsG9IO9",
        "colab": {
          "base_uri": "https://localhost:8080/"
        },
        "outputId": "ec22849a-4204-4e80-e2ef-5bf8ea82c955"
      },
      "outputs": [
        {
          "output_type": "execute_result",
          "data": {
            "text/plain": [
              "{'Accuracy': 0.9861372962182544,\n",
              " 'Precision': 0.9862031504617056,\n",
              " 'Recall': 0.9866318878382785,\n",
              " 'f1_score': 0.9864174725632946}"
            ]
          },
          "metadata": {},
          "execution_count": 27
        }
      ],
      "source": [
        "model_2_results"
      ]
    },
    {
      "cell_type": "markdown",
      "metadata": {
        "id": "s_d9JZzouYUl"
      },
      "source": [
        "##**Model_3**: RNN(LSTM, GRU, Bidirectional)"
      ]
    },
    {
      "cell_type": "code",
      "execution_count": null,
      "metadata": {
        "id": "JtTwZTw9vAuw"
      },
      "outputs": [],
      "source": [
        "word_embedding_3=tf.keras.layers.Embedding(input_dim= 20000,\n",
        "                                         output_dim=128,\n",
        "                                         input_length= word_98_percentile)"
      ]
    },
    {
      "cell_type": "code",
      "execution_count": null,
      "metadata": {
        "id": "SgZuleDouXvY"
      },
      "outputs": [],
      "source": [
        "inputs= tf.keras.layers.Input((1,), dtype=\"string\")\n",
        "x=word_tokenizer(inputs)\n",
        "x=word_embedding_3(x)\n",
        "x= tf.keras.layers.LSTM(32, return_sequences=True)(x)\n",
        "x= tf.keras.layers.GRU(32, return_sequences=True)(x)\n",
        "x= tf.keras.layers.Bidirectional(tf.keras.layers.LSTM(16))(x)\n",
        "outputs= tf.keras.layers.Dense(1, activation=\"sigmoid\")(x)\n",
        "\n",
        "model_3=tf.keras.Model(inputs, outputs)\n",
        "\n",
        "model_3.compile(loss=tf.keras.losses.BinaryCrossentropy(),\n",
        "                  optimizer=tf.keras.optimizers.Adam(),\n",
        "                  metrics=[\"accuracy\"])"
      ]
    },
    {
      "cell_type": "code",
      "execution_count": null,
      "metadata": {
        "id": "jr02wfr1wcu5",
        "colab": {
          "base_uri": "https://localhost:8080/"
        },
        "outputId": "d3f87a6b-ef4a-4773-e06d-d1d116f61afa"
      },
      "outputs": [
        {
          "output_type": "stream",
          "name": "stdout",
          "text": [
            "Model: \"model_2\"\n",
            "_________________________________________________________________\n",
            " Layer (type)                Output Shape              Param #   \n",
            "=================================================================\n",
            " input_3 (InputLayer)        [(None, 1)]               0         \n",
            "                                                                 \n",
            " text_vectorization (TextVec  (None, 1994)             0         \n",
            " torization)                                                     \n",
            "                                                                 \n",
            " embedding_2 (Embedding)     (None, 1994, 128)         2560000   \n",
            "                                                                 \n",
            " lstm (LSTM)                 (None, 1994, 32)          20608     \n",
            "                                                                 \n",
            " gru (GRU)                   (None, 1994, 32)          6336      \n",
            "                                                                 \n",
            " bidirectional (Bidirectiona  (None, 32)               6272      \n",
            " l)                                                              \n",
            "                                                                 \n",
            " dense_4 (Dense)             (None, 1)                 33        \n",
            "                                                                 \n",
            "=================================================================\n",
            "Total params: 2,593,249\n",
            "Trainable params: 2,593,249\n",
            "Non-trainable params: 0\n",
            "_________________________________________________________________\n"
          ]
        }
      ],
      "source": [
        "model_3.summary()"
      ]
    },
    {
      "cell_type": "code",
      "execution_count": null,
      "metadata": {
        "id": "U6Cgt2JVwfPJ",
        "colab": {
          "base_uri": "https://localhost:8080/"
        },
        "outputId": "f074de5a-65e4-45fb-f5d9-ad95972f2dd3"
      },
      "outputs": [
        {
          "output_type": "stream",
          "name": "stdout",
          "text": [
            "Epoch 1/5\n",
            "1691/1691 [==============================] - 457s 265ms/step - loss: 0.1766 - accuracy: 0.9349 - val_loss: 0.1071 - val_accuracy: 0.9665 - lr: 0.0010\n",
            "Epoch 2/5\n",
            "1691/1691 [==============================] - 340s 201ms/step - loss: 0.0828 - accuracy: 0.9706 - val_loss: 0.0748 - val_accuracy: 0.9699 - lr: 0.0010\n",
            "Epoch 3/5\n",
            "1691/1691 [==============================] - 337s 199ms/step - loss: 0.0562 - accuracy: 0.9818 - val_loss: 0.0816 - val_accuracy: 0.9777 - lr: 0.0010\n",
            "Epoch 4/5\n",
            "1691/1691 [==============================] - 337s 199ms/step - loss: 0.0369 - accuracy: 0.9887 - val_loss: 0.0667 - val_accuracy: 0.9799 - lr: 0.0010\n",
            "Epoch 5/5\n",
            "1691/1691 [==============================] - 341s 202ms/step - loss: 0.0178 - accuracy: 0.9952 - val_loss: 0.0800 - val_accuracy: 0.9805 - lr: 0.0010\n"
          ]
        }
      ],
      "source": [
        "history_3=model_3.fit(train_dataset,\n",
        "                      epochs=5,                         \n",
        "                      callbacks=[tf.keras.callbacks.EarlyStopping(monitor=\"val_accuracy\", patience=2, restore_best_weights=True),\n",
        "                                     tf.keras.callbacks.ReduceLROnPlateau(monitor=\"val_accuracy\", patience=1),\n",
        "                                 tf.keras.callbacks.TensorBoard(log_dir=\"tensorboard/model_RNN\")],\n",
        "                      validation_data=(test_dataset),\n",
        "                      validation_steps=int(0.1*len(test_dataset)))"
      ]
    },
    {
      "cell_type": "markdown",
      "metadata": {
        "id": "8_BDrsKz9oiF"
      },
      "source": [
        "**Loss curves**"
      ]
    },
    {
      "cell_type": "code",
      "execution_count": null,
      "metadata": {
        "id": "l_i8sA1JwoeW",
        "colab": {
          "base_uri": "https://localhost:8080/",
          "height": 265
        },
        "outputId": "45c5df84-d64d-4ff5-96a1-1f5390604d46"
      },
      "outputs": [
        {
          "output_type": "display_data",
          "data": {
            "text/plain": [
              "<Figure size 432x288 with 1 Axes>"
            ],
            "image/png": "[encoded data removed]"
          },
          "metadata": {
            "needs_background": "light"
          }
        }
      ],
      "source": [
        "pd.DataFrame(history_3.history).plot();"
      ]
    },
    {
      "cell_type": "code",
      "execution_count": null,
      "metadata": {
        "id": "NawlBFEZ9m5X",
        "colab": {
          "base_uri": "https://localhost:8080/"
        },
        "outputId": "0c438ff7-6a09-4d5b-c06e-662aa68ab844"
      },
      "outputs": [
        {
          "output_type": "stream",
          "name": "stdout",
          "text": [
            "564/564 [==============================] - 59s 102ms/step\n"
          ]
        }
      ],
      "source": [
        "y_preds= model_3.predict(test_dataset)\n",
        "model_3_results=calculate_metrics(test_labels, y_preds.round().squeeze())"
      ]
    },
    {
      "cell_type": "code",
      "execution_count": null,
      "metadata": {
        "id": "CPNsJ5g9-ONP",
        "colab": {
          "base_uri": "https://localhost:8080/"
        },
        "outputId": "d47b2540-01e7-4d4d-b18a-bbc1770e1598"
      },
      "outputs": [
        {
          "output_type": "execute_result",
          "data": {
            "text/plain": [
              "{'Accuracy': 0.9793168459576356,\n",
              " 'Precision': 0.9767768416504644,\n",
              " 'Recall': 0.9828279534833171,\n",
              " 'f1_score': 0.9797930548783791}"
            ]
          },
          "metadata": {},
          "execution_count": 34
        }
      ],
      "source": [
        "model_3_results"
      ]
    },
    {
      "cell_type": "markdown",
      "metadata": {
        "id": "ZQ9Ydg1KxCBD"
      },
      "source": [
        "##**Model_4**: Transfer_learning"
      ]
    },
    {
      "cell_type": "code",
      "execution_count": null,
      "metadata": {
        "id": "d6JBJg-E-dfY",
        "colab": {
          "base_uri": "https://localhost:8080/"
        },
        "outputId": "c7d5387a-e635-4aa3-acf3-f2bc5a45aebb"
      },
      "outputs": [
        {
          "output_type": "stream",
          "name": "stderr",
          "text": [
            "WARNING:tensorflow:Please fix your imports. Module tensorflow.python.training.tracking.data_structures has been moved to tensorflow.python.trackable.data_structures. The old module will be deleted in version 2.11.\n"
          ]
        }
      ],
      "source": [
        "import tensorflow_hub as hub\n",
        "\n",
        "link=\"https://tfhub.dev/google/universal-sentence-encoder/4\"\n",
        "embedding_layer= hub.KerasLayer(link)"
      ]
    },
    {
      "cell_type": "code",
      "execution_count": null,
      "metadata": {
        "id": "MNywquOuA3wu",
        "colab": {
          "base_uri": "https://localhost:8080/"
        },
        "outputId": "c9a54eee-b28e-452d-9a3b-4e11ead9d847"
      },
      "outputs": [
        {
          "output_type": "stream",
          "name": "stderr",
          "text": [
            "WARNING:tensorflow:From /usr/local/lib/python3.8/dist-packages/tensorflow/python/autograph/pyct/static_analysis/liveness.py:83: Analyzer.lamba_check (from tensorflow.python.autograph.pyct.static_analysis.liveness) is deprecated and will be removed after 2023-09-23.\n",
            "Instructions for updating:\n",
            "Lambda fuctions will be no more assumed to be used in the statement where they are used, or at least in the same block. https://github.com/tensorflow/tensorflow/issues/56089\n"
          ]
        }
      ],
      "source": [
        "inputs= tf.keras.layers.Input([], dtype=\"string\")\n",
        "x=embedding_layer(inputs)\n",
        "x= tf.keras.layers.Dense(64, activation=\"relu\")(x)\n",
        "x= tf.keras.layers.Dense(32, activation=\"relu\")(x)\n",
        "outputs= tf.keras.layers.Dense(1, activation=\"sigmoid\")(x)\n",
        "\n",
        "model_4=tf.keras.Model(inputs, outputs)\n",
        "\n",
        "model_4.compile(loss=tf.keras.losses.BinaryCrossentropy(),\n",
        "                  optimizer=tf.keras.optimizers.Adam(),\n",
        "                  metrics=[\"accuracy\"])"
      ]
    },
    {
      "cell_type": "code",
      "execution_count": null,
      "metadata": {
        "id": "bZJcye3BBhq3",
        "colab": {
          "base_uri": "https://localhost:8080/"
        },
        "outputId": "607d0063-197b-4431-f949-73670bc47767"
      },
      "outputs": [
        {
          "output_type": "stream",
          "name": "stdout",
          "text": [
            "Model: \"model_3\"\n",
            "_________________________________________________________________\n",
            " Layer (type)                Output Shape              Param #   \n",
            "=================================================================\n",
            " input_4 (InputLayer)        [(None,)]                 0         \n",
            "                                                                 \n",
            " keras_layer (KerasLayer)    (None, 512)               256797824 \n",
            "                                                                 \n",
            " dense_5 (Dense)             (None, 64)                32832     \n",
            "                                                                 \n",
            " dense_6 (Dense)             (None, 32)                2080      \n",
            "                                                                 \n",
            " dense_7 (Dense)             (None, 1)                 33        \n",
            "                                                                 \n",
            "=================================================================\n",
            "Total params: 256,832,769\n",
            "Trainable params: 34,945\n",
            "Non-trainable params: 256,797,824\n",
            "_________________________________________________________________\n"
          ]
        }
      ],
      "source": [
        "model_4.summary()"
      ]
    },
    {
      "cell_type": "code",
      "execution_count": null,
      "metadata": {
        "id": "-tdxhqnFBlkT",
        "colab": {
          "base_uri": "https://localhost:8080/"
        },
        "outputId": "02025c13-28f2-427c-da49-7089678d4827"
      },
      "outputs": [
        {
          "output_type": "stream",
          "name": "stdout",
          "text": [
            "Epoch 1/5\n",
            "1691/1691 [==============================] - 170s 97ms/step - loss: 0.3059 - accuracy: 0.8716 - val_loss: 0.2447 - val_accuracy: 0.8934 - lr: 0.0010\n",
            "Epoch 2/5\n",
            "1691/1691 [==============================] - 163s 97ms/step - loss: 0.2284 - accuracy: 0.9070 - val_loss: 0.2142 - val_accuracy: 0.9085 - lr: 0.0010\n",
            "Epoch 3/5\n",
            "1691/1691 [==============================] - 164s 97ms/step - loss: 0.1962 - accuracy: 0.9212 - val_loss: 0.2022 - val_accuracy: 0.9152 - lr: 0.0010\n",
            "Epoch 4/5\n",
            "1691/1691 [==============================] - 167s 99ms/step - loss: 0.1734 - accuracy: 0.9309 - val_loss: 0.2023 - val_accuracy: 0.9163 - lr: 0.0010\n",
            "Epoch 5/5\n",
            "1691/1691 [==============================] - 161s 95ms/step - loss: 0.1559 - accuracy: 0.9393 - val_loss: 0.2000 - val_accuracy: 0.9157 - lr: 0.0010\n"
          ]
        }
      ],
      "source": [
        "history_4=model_4.fit(train_dataset,\n",
        "                          epochs=5,\n",
        "                          callbacks=[tf.keras.callbacks.EarlyStopping(monitor=\"val_accuracy\", patience=2, restore_best_weights=True),\n",
        "                                     tf.keras.callbacks.ReduceLROnPlateau(monitor=\"val_accuracy\", patience=1),\n",
        "                                     tf.keras.callbacks.TensorBoard(log_dir=\"tensorboard/model_TL\")],\n",
        "                          validation_data=(test_dataset),\n",
        "                      validation_steps=int(0.1*len(test_dataset)))"
      ]
    },
    {
      "cell_type": "markdown",
      "metadata": {
        "id": "ThHHqP5TIZ0C"
      },
      "source": [
        "**Loss curves**"
      ]
    },
    {
      "cell_type": "code",
      "execution_count": null,
      "metadata": {
        "id": "yK8lKiqtITmV",
        "colab": {
          "base_uri": "https://localhost:8080/",
          "height": 265
        },
        "outputId": "bf366218-853b-4f78-9c5e-3f0e46268682"
      },
      "outputs": [
        {
          "output_type": "display_data",
          "data": {
            "text/plain": [
              "<Figure size 432x288 with 1 Axes>"
            ],
            "image/png": "[encoded data removed]"
          },
          "metadata": {
            "needs_background": "light"
          }
        }
      ],
      "source": [
        "pd.DataFrame(history_4.history).plot();"
      ]
    },
    {
      "cell_type": "code",
      "execution_count": null,
      "metadata": {
        "id": "OQCjFiW6Ijwd",
        "colab": {
          "base_uri": "https://localhost:8080/"
        },
        "outputId": "069ed9cf-d937-498b-da35-0dcf90aa166b"
      },
      "outputs": [
        {
          "output_type": "stream",
          "name": "stdout",
          "text": [
            "564/564 [==============================] - 50s 88ms/step\n"
          ]
        }
      ],
      "source": [
        "y_preds= model_4.predict(test_dataset)\n",
        "model_4_results=calculate_metrics(test_labels, y_preds.round().squeeze())"
      ]
    },
    {
      "cell_type": "code",
      "execution_count": null,
      "metadata": {
        "id": "yUDZPxvrIkk9",
        "colab": {
          "base_uri": "https://localhost:8080/"
        },
        "outputId": "d76ac0f4-a6f9-421d-eaf3-dc09d185dcb9"
      },
      "outputs": [
        {
          "output_type": "execute_result",
          "data": {
            "text/plain": [
              "{'Accuracy': 0.9122768104691139,\n",
              " 'Precision': 0.8857721518987342,\n",
              " 'Recall': 0.9506575372242148,\n",
              " 'f1_score': 0.9170685678339275}"
            ]
          },
          "metadata": {},
          "execution_count": 41
        }
      ],
      "source": [
        "model_4_results"
      ]
    },
    {
      "cell_type": "markdown",
      "metadata": {
        "id": "5SwnqFcLJE-l"
      },
      "source": [
        "##**Model_5**: custom+transfer_learning"
      ]
    },
    {
      "cell_type": "code",
      "execution_count": null,
      "metadata": {
        "id": "i0OmEV7xKwpt"
      },
      "outputs": [],
      "source": [
        "word_embedding_4=tf.keras.layers.Embedding(input_dim= 20000,\n",
        "                                         output_dim=128,\n",
        "                                         input_length= word_98_percentile)"
      ]
    },
    {
      "cell_type": "code",
      "execution_count": null,
      "metadata": {
        "id": "2Rj3L1APU4Ud"
      },
      "outputs": [],
      "source": [
        "input_custom=tf.keras.layers.Input((1,), dtype=\"string\")\n",
        "x=word_tokenizer(input_custom)\n",
        "x=word_embedding_4(x)\n",
        "output_custom=tf.keras.layers.GlobalMaxPool1D()(x)\n",
        "\n",
        "model_custom=tf.keras.Model(input_custom, output_custom)\n",
        "\n",
        "input_tl=tf.keras.layers.Input([], dtype=\"string\")\n",
        "output_tl=embedding_layer(input_tl)\n",
        "\n",
        "model_tl=tf.keras.Model(input_tl, output_tl)\n",
        "\n",
        "concatenate_layer= tf.keras.layers.Concatenate()([model_custom.output, model_tl.output])\n",
        "\n",
        "x= tf.keras.layers.Dense(64, activation=\"relu\")(concatenate_layer)\n",
        "x= tf.keras.layers.Dense(32, activation=\"relu\")(x)\n",
        "outputs= tf.keras.layers.Dense(1, activation=\"sigmoid\")(x)\n",
        "\n",
        "#model_5\n",
        "model_5= tf.keras.Model(inputs=[model_custom.input, model_tl.input],\n",
        "                        outputs=outputs)\n",
        "\n",
        "model_5.compile(loss=tf.keras.losses.BinaryCrossentropy(),\n",
        "                  optimizer=tf.keras.optimizers.Adam(),\n",
        "                  metrics=[\"accuracy\"])"
      ]
    },
    {
      "cell_type": "code",
      "source": [
        "model_5.summary()"
      ],
      "metadata": {
        "id": "rubY7wqzGtz4",
        "colab": {
          "base_uri": "https://localhost:8080/"
        },
        "outputId": "ed1fecb8-0452-4c76-e444-50257cdaa458"
      },
      "execution_count": null,
      "outputs": [
        {
          "output_type": "stream",
          "name": "stdout",
          "text": [
            "Model: \"model_6\"\n",
            "__________________________________________________________________________________________________\n",
            " Layer (type)                   Output Shape         Param #     Connected to                     \n",
            "==================================================================================================\n",
            " input_5 (InputLayer)           [(None, 1)]          0           []                               \n",
            "                                                                                                  \n",
            " text_vectorization (TextVector  (None, 1994)        0           ['input_5[0][0]']                \n",
            " ization)                                                                                         \n",
            "                                                                                                  \n",
            " embedding_3 (Embedding)        (None, 1994, 128)    2560000     ['text_vectorization[3][0]']     \n",
            "                                                                                                  \n",
            " input_6 (InputLayer)           [(None,)]            0           []                               \n",
            "                                                                                                  \n",
            " global_max_pooling1d_2 (Global  (None, 128)         0           ['embedding_3[0][0]']            \n",
            " MaxPooling1D)                                                                                    \n",
            "                                                                                                  \n",
            " keras_layer (KerasLayer)       (None, 512)          256797824   ['input_6[0][0]']                \n",
            "                                                                                                  \n",
            " concatenate (Concatenate)      (None, 640)          0           ['global_max_pooling1d_2[0][0]', \n",
            "                                                                  'keras_layer[1][0]']            \n",
            "                                                                                                  \n",
            " dense_8 (Dense)                (None, 64)           41024       ['concatenate[0][0]']            \n",
            "                                                                                                  \n",
            " dense_9 (Dense)                (None, 32)           2080        ['dense_8[0][0]']                \n",
            "                                                                                                  \n",
            " dense_10 (Dense)               (None, 1)            33          ['dense_9[0][0]']                \n",
            "                                                                                                  \n",
            "==================================================================================================\n",
            "Total params: 259,400,961\n",
            "Trainable params: 2,603,137\n",
            "Non-trainable params: 256,797,824\n",
            "__________________________________________________________________________________________________\n"
          ]
        }
      ]
    },
    {
      "cell_type": "markdown",
      "metadata": {
        "id": "HyW5ZVBGdCmF"
      },
      "source": [
        "**Dual input**"
      ]
    },
    {
      "cell_type": "code",
      "execution_count": null,
      "metadata": {
        "id": "dZBA4ImidGd4",
        "colab": {
          "base_uri": "https://localhost:8080/"
        },
        "outputId": "b5e2264a-1fae-4f9d-f888-8c55c4b0a573"
      },
      "outputs": [
        {
          "output_type": "execute_result",
          "data": {
            "text/plain": [
              "(<PrefetchDataset element_spec=((TensorSpec(shape=(None,), dtype=tf.string, name=None), TensorSpec(shape=(None,), dtype=tf.string, name=None)), TensorSpec(shape=(None,), dtype=tf.int64, name=None))>,\n",
              " <PrefetchDataset element_spec=((TensorSpec(shape=(None,), dtype=tf.string, name=None), TensorSpec(shape=(None,), dtype=tf.string, name=None)), TensorSpec(shape=(None,), dtype=tf.int64, name=None))>)"
            ]
          },
          "metadata": {},
          "execution_count": 45
        }
      ],
      "source": [
        "train_dataset_dual_inputs=tf.data.Dataset.from_tensor_slices((train_text, train_text))\n",
        "train_dataset_dual_labels=tf.data.Dataset.from_tensor_slices(train_labels)\n",
        "train_dataset_dual=tf.data.Dataset.zip((train_dataset_dual_inputs, train_dataset_dual_labels)).batch(32).prefetch(tf.data.AUTOTUNE)\n",
        "\n",
        "test_dataset_dual_inputs=tf.data.Dataset.from_tensor_slices((test_text, test_text))\n",
        "test_dataset_dual_labels=tf.data.Dataset.from_tensor_slices(test_labels)\n",
        "test_dataset_dual=tf.data.Dataset.zip((test_dataset_dual_inputs, test_dataset_dual_labels)).batch(32).prefetch(tf.data.AUTOTUNE)\n",
        "\n",
        "train_dataset_dual, test_dataset_dual"
      ]
    },
    {
      "cell_type": "code",
      "execution_count": null,
      "metadata": {
        "id": "3g2cNIqea2AU",
        "colab": {
          "base_uri": "https://localhost:8080/"
        },
        "outputId": "835031e6-a4c0-432a-f7f7-263d596520b4"
      },
      "outputs": [
        {
          "output_type": "stream",
          "name": "stdout",
          "text": [
            "Epoch 1/5\n",
            "1691/1691 [==============================] - 303s 178ms/step - loss: 0.1145 - accuracy: 0.9565 - val_loss: 0.0492 - val_accuracy: 0.9838 - lr: 0.0010\n",
            "Epoch 2/5\n",
            "1691/1691 [==============================] - 177s 105ms/step - loss: 0.0414 - accuracy: 0.9855 - val_loss: 0.0455 - val_accuracy: 0.9799 - lr: 0.0010\n",
            "Epoch 3/5\n",
            "1691/1691 [==============================] - 174s 103ms/step - loss: 0.0140 - accuracy: 0.9960 - val_loss: 0.0440 - val_accuracy: 0.9816 - lr: 1.0000e-04\n"
          ]
        }
      ],
      "source": [
        "history_5=model_5.fit(train_dataset_dual,\n",
        "                          epochs=5, \n",
        "                          callbacks=[tf.keras.callbacks.EarlyStopping(monitor=\"val_accuracy\", patience=2, restore_best_weights=True),\n",
        "                                     tf.keras.callbacks.ReduceLROnPlateau(monitor=\"val_accuracy\", patience=1),\n",
        "                                     tf.keras.callbacks.TensorBoard(log_dir=\"tensorboard/model_Custom+TL\")],\n",
        "                          validation_data=(test_dataset_dual),\n",
        "                      validation_steps=int(0.1*len(test_dataset)))"
      ]
    },
    {
      "cell_type": "markdown",
      "metadata": {
        "id": "ThG9tH5IbI89"
      },
      "source": [
        "**loss curves**"
      ]
    },
    {
      "cell_type": "code",
      "execution_count": null,
      "metadata": {
        "id": "yySsp5Bma_MY",
        "colab": {
          "base_uri": "https://localhost:8080/",
          "height": 265
        },
        "outputId": "69bf0842-25a0-45e8-c8e3-f87145522c52"
      },
      "outputs": [
        {
          "output_type": "display_data",
          "data": {
            "text/plain": [
              "<Figure size 432x288 with 1 Axes>"
            ],
            "image/png": "[encoded data removed]"
          },
          "metadata": {
            "needs_background": "light"
          }
        }
      ],
      "source": [
        "pd.DataFrame(history_5.history).plot();"
      ]
    },
    {
      "cell_type": "code",
      "execution_count": null,
      "metadata": {
        "id": "_VevbJ-ibICp",
        "colab": {
          "base_uri": "https://localhost:8080/"
        },
        "outputId": "05cad088-ca75-4689-9102-c00445d4860e"
      },
      "outputs": [
        {
          "output_type": "stream",
          "name": "stdout",
          "text": [
            "564/564 [==============================] - 52s 91ms/step\n"
          ]
        }
      ],
      "source": [
        "y_preds= model_5.predict(test_dataset_dual)\n",
        "model_5_results=calculate_metrics(test_labels, y_preds.round().squeeze())"
      ]
    },
    {
      "cell_type": "code",
      "execution_count": null,
      "metadata": {
        "id": "__BY5WBhbfkg",
        "colab": {
          "base_uri": "https://localhost:8080/"
        },
        "outputId": "07721905-394c-4041-ec68-882393fe1d84"
      },
      "outputs": [
        {
          "output_type": "execute_result",
          "data": {
            "text/plain": [
              "{'Accuracy': 0.9808694687811911,\n",
              " 'Precision': 0.9822478762796776,\n",
              " 'Recall': 0.9802195413542006,\n",
              " 'f1_score': 0.9812326606103464}"
            ]
          },
          "metadata": {},
          "execution_count": 49
        }
      ],
      "source": [
        "model_5_results"
      ]
    },
    {
      "cell_type": "markdown",
      "metadata": {
        "id": "EQ49FibJbi-M"
      },
      "source": [
        "##**model_6**: Ensemble"
      ]
    },
    {
      "cell_type": "code",
      "execution_count": null,
      "metadata": {
        "id": "GlRBS78ttsM_"
      },
      "outputs": [],
      "source": [
        "word_embedding_5=tf.keras.layers.Embedding(input_dim= 20000,\n",
        "                                         output_dim=128,\n",
        "                                         input_length= word_98_percentile)\n",
        "\n",
        "word_embedding_6=tf.keras.layers.Embedding(input_dim= 20000,\n",
        "                                         output_dim=128,\n",
        "                                         input_length= word_98_percentile)"
      ]
    },
    {
      "cell_type": "code",
      "execution_count": null,
      "metadata": {
        "id": "lsEQCaVttzMn"
      },
      "outputs": [],
      "source": [
        "inputs= tf.keras.layers.Input((1,), dtype=\"string\")\n",
        "x=word_tokenizer(inputs)\n",
        "x=word_embedding_5(x)\n",
        "x= tf.keras.layers.Dense(64, activation=\"relu\")(x)\n",
        "x=tf.keras.layers.GlobalMaxPool1D()(x)\n",
        "x= tf.keras.layers.Dense(32, activation=\"relu\")(x)\n",
        "outputs= tf.keras.layers.Dense(1, activation=\"sigmoid\")(x)\n",
        "\n",
        "model_1_ensemble=tf.keras.Model(inputs, outputs)\n",
        "\n",
        "inputs= tf.keras.layers.Input((1,), dtype=\"string\")\n",
        "x=word_tokenizer(inputs)\n",
        "x=word_embedding_6(x)\n",
        "x= tf.keras.layers.Conv1D(64, 3, activation=\"relu\")(x)\n",
        "x= tf.keras.layers.Conv1D(32, 3, activation=\"relu\")(x)\n",
        "x=tf.keras.layers.GlobalMaxPool1D()(x)\n",
        "outputs= tf.keras.layers.Dense(1, activation=\"sigmoid\")(x)\n",
        "\n",
        "model_2_ensemble=tf.keras.Model(inputs, outputs)"
      ]
    },
    {
      "cell_type": "code",
      "execution_count": null,
      "metadata": {
        "id": "Ch2PtT2NuADN",
        "colab": {
          "base_uri": "https://localhost:8080/"
        },
        "outputId": "2ec526d9-0e37-4e9c-bcd8-324d854b2c75"
      },
      "outputs": [
        {
          "output_type": "stream",
          "name": "stdout",
          "text": [
            "564/564 [==============================] - 4s 6ms/step\n",
            "564/564 [==============================] - 4s 7ms/step\n",
            "564/564 [==============================] - 4s 6ms/step\n",
            "564/564 [==============================] - 3s 6ms/step\n",
            "564/564 [==============================] - 4s 6ms/step\n",
            "564/564 [==============================] - 4s 6ms/step\n",
            "CPU times: user 16min 54s, sys: 1min 3s, total: 17min 58s\n",
            "Wall time: 18min 39s\n"
          ]
        }
      ],
      "source": [
        "%%time\n",
        "pred_probs=[]\n",
        "\n",
        "for i in range(3):\n",
        "  \n",
        "  model_1_ensemble.compile(loss=tf.keras.losses.BinaryCrossentropy(),\n",
        "                  optimizer=tf.keras.optimizers.Adam(),\n",
        "                  metrics=[\"accuracy\"])\n",
        "  \n",
        "  history_1_ensemble=model_1_ensemble.fit(train_dataset,\n",
        "                            epochs=3,\n",
        "                            callbacks=[tf.keras.callbacks.EarlyStopping(monitor=\"val_accuracy\", patience=5, restore_best_weights=True),\n",
        "                                      tf.keras.callbacks.ReduceLROnPlateau(monitor=\"val_accuracy\", patience=2)],\n",
        "                            validation_data=(test_dataset),\n",
        "                            verbose=0,\n",
        "                            validation_steps=int(0.1*len(test_dataset)))\n",
        "  y_preds=model_1_ensemble.predict(test_dataset).squeeze()\n",
        "  pred_probs.append(y_preds.tolist())\n",
        "\n",
        "  model_2_ensemble.compile(loss=tf.keras.losses.BinaryCrossentropy(),\n",
        "                  optimizer=tf.keras.optimizers.Adam(),\n",
        "                  metrics=[\"accuracy\"])\n",
        "  \n",
        "  history_2_ensemble=model_2_ensemble.fit(train_dataset,\n",
        "                            epochs=3,\n",
        "                            callbacks=[tf.keras.callbacks.EarlyStopping(monitor=\"val_accuracy\", patience=2, restore_best_weights=True),\n",
        "                                      tf.keras.callbacks.ReduceLROnPlateau(monitor=\"val_accuracy\", patience=1)],\n",
        "                            validation_data=(test_dataset),\n",
        "                            verbose=0,\n",
        "                            validation_steps=int(0.1*len(test_dataset)))\n",
        "  y_preds=model_2_ensemble.predict(test_dataset).squeeze()\n",
        "  pred_probs.append(y_preds.tolist())"
      ]
    },
    {
      "cell_type": "code",
      "execution_count": null,
      "metadata": {
        "id": "sIPvOhkrye7y"
      },
      "outputs": [],
      "source": [
        "pred_probs_1=np.array(pred_probs)\n",
        "pred_probs_2=pred_probs_1.T\n",
        "ensemble_preds=np.mean(pred_probs_2, axis=1)"
      ]
    },
    {
      "cell_type": "code",
      "execution_count": null,
      "metadata": {
        "id": "7xQOfj2FH32R",
        "colab": {
          "base_uri": "https://localhost:8080/"
        },
        "outputId": "8a0f6c74-ce73-4493-c66d-273b640a9880"
      },
      "outputs": [
        {
          "output_type": "execute_result",
          "data": {
            "text/plain": [
              "{'Accuracy': 0.9865254519241433,\n",
              " 'Precision': 0.9793450342465754,\n",
              " 'Recall': 0.9945658080643408,\n",
              " 'f1_score': 0.9868967376651389}"
            ]
          },
          "metadata": {},
          "execution_count": 54
        }
      ],
      "source": [
        "model_6_results= calculate_metrics(test_labels, ensemble_preds.round())\n",
        "model_6_results"
      ]
    },
    {
      "cell_type": "markdown",
      "metadata": {
        "id": "1MSpgNPHkaWb"
      },
      "source": [
        "##**Model_7**:BERT"
      ]
    },
    {
      "cell_type": "code",
      "source": [
        "import tensorflow_hub as hub"
      ],
      "metadata": {
        "id": "7mGgeXVJbXyk"
      },
      "execution_count": null,
      "outputs": []
    },
    {
      "cell_type": "code",
      "execution_count": null,
      "metadata": {
        "id": "O-ZEGXvIKhwC"
      },
      "outputs": [],
      "source": [
        "preprocess_link=\"https://tfhub.dev/tensorflow/bert_en_uncased_preprocess/3\"\n",
        "bert=\"https://tfhub.dev/tensorflow/bert_en_uncased_L-12_H-768_A-12/4\""
      ]
    },
    {
      "cell_type": "code",
      "execution_count": null,
      "metadata": {
        "id": "OKakN2mLI988"
      },
      "outputs": [],
      "source": [
        "inputs= tf.keras.layers.Input((), dtype=\"string\")\n",
        "preprocess=hub.KerasLayer(preprocess_link)\n",
        "x=preprocess(inputs)\n",
        "bert=hub.KerasLayer(bert)\n",
        "x=bert(x)\n",
        "x=x[\"pooled_output\"]\n",
        "x=tf.keras.layers.Dense(64, activation=\"relu\")(x)\n",
        "x=tf.keras.layers.Dense(32, activation=\"relu\")(x)\n",
        "output=tf.keras.layers.Dense(1, activation=\"sigmoid\")(x)\n",
        "\n",
        "model_bert=tf.keras.Model(inputs, output)"
      ]
    },
    {
      "cell_type": "code",
      "source": [
        "model_bert.summary()"
      ],
      "metadata": {
        "id": "aGckJLs6GGyM",
        "outputId": "a89537f8-99d4-4cd3-931e-e46054287666",
        "colab": {
          "base_uri": "https://localhost:8080/"
        }
      },
      "execution_count": null,
      "outputs": [
        {
          "output_type": "stream",
          "name": "stdout",
          "text": [
            "Model: \"model_1\"\n",
            "__________________________________________________________________________________________________\n",
            " Layer (type)                   Output Shape         Param #     Connected to                     \n",
            "==================================================================================================\n",
            " input_2 (InputLayer)           [(None,)]            0           []                               \n",
            "                                                                                                  \n",
            " keras_layer_2 (KerasLayer)     {'input_mask': (Non  0           ['input_2[0][0]']                \n",
            "                                e, 128),                                                          \n",
            "                                 'input_type_ids':                                                \n",
            "                                (None, 128),                                                      \n",
            "                                 'input_word_ids':                                                \n",
            "                                (None, 128)}                                                      \n",
            "                                                                                                  \n",
            " keras_layer_3 (KerasLayer)     {'default': (None,   109482241   ['keras_layer_2[0][0]',          \n",
            "                                768),                             'keras_layer_2[0][1]',          \n",
            "                                 'pooled_output': (               'keras_layer_2[0][2]']          \n",
            "                                None, 768),                                                       \n",
            "                                 'encoder_outputs':                                               \n",
            "                                 [(None, 128, 768),                                               \n",
            "                                 (None, 128, 768),                                                \n",
            "                                 (None, 128, 768),                                                \n",
            "                                 (None, 128, 768),                                                \n",
            "                                 (None, 128, 768),                                                \n",
            "                                 (None, 128, 768),                                                \n",
            "                                 (None, 128, 768),                                                \n",
            "                                 (None, 128, 768),                                                \n",
            "                                 (None, 128, 768),                                                \n",
            "                                 (None, 128, 768),                                                \n",
            "                                 (None, 128, 768),                                                \n",
            "                                 (None, 128, 768)],                                               \n",
            "                                 'sequence_output':                                               \n",
            "                                 (None, 128, 768)}                                                \n",
            "                                                                                                  \n",
            " dense_3 (Dense)                (None, 64)           49216       ['keras_layer_3[0][13]']         \n",
            "                                                                                                  \n",
            " dense_4 (Dense)                (None, 32)           2080        ['dense_3[0][0]']                \n",
            "                                                                                                  \n",
            " dense_5 (Dense)                (None, 1)            33          ['dense_4[0][0]']                \n",
            "                                                                                                  \n",
            "==================================================================================================\n",
            "Total params: 109,533,570\n",
            "Trainable params: 51,329\n",
            "Non-trainable params: 109,482,241\n",
            "__________________________________________________________________________________________________\n"
          ]
        }
      ]
    },
    {
      "cell_type": "code",
      "execution_count": null,
      "metadata": {
        "id": "PGDCvK0ELnkO"
      },
      "outputs": [],
      "source": [
        "model_bert.compile(loss= tf.keras.losses.BinaryCrossentropy(),\n",
        "                   optimizer=tf.keras.optimizers.Adam(),\n",
        "                   metrics=[\"accuracy\"])"
      ]
    },
    {
      "cell_type": "code",
      "source": [
        "history_bert=model_bert.fit(train_dataset,\n",
        "               epochs=5,\n",
        "               batch_size=32,\n",
        "               callbacks=[tf.keras.callbacks.EarlyStopping(monitor=\"val_accuracy\", patience=2, restore_best_weights=True),\n",
        "                                     tf.keras.callbacks.ReduceLROnPlateau(monitor=\"val_accuracy\", patience=1),\n",
        "                                     tf.keras.callbacks.TensorBoard(log_dir=\"tensorboard/model_bert\")],\n",
        "               validation_data=(test_dataset),\n",
        "               validation_steps=int(0.1*len(test_dataset)))"
      ],
      "metadata": {
        "id": "dBIw9xUPJUQZ",
        "outputId": "4a0dcb10-c05c-476e-babe-4a7dd1618c59",
        "colab": {
          "base_uri": "https://localhost:8080/"
        }
      },
      "execution_count": null,
      "outputs": [
        {
          "output_type": "stream",
          "name": "stdout",
          "text": [
            "Epoch 1/5\n",
            "1691/1691 [==============================] - 668s 389ms/step - loss: 0.3319 - accuracy: 0.8554 - val_loss: 0.2772 - val_accuracy: 0.8795 - lr: 0.0010\n",
            "Epoch 2/5\n",
            "1691/1691 [==============================] - 685s 405ms/step - loss: 0.2589 - accuracy: 0.8925 - val_loss: 0.2611 - val_accuracy: 0.8850 - lr: 0.0010\n",
            "Epoch 3/5\n",
            "1691/1691 [==============================] - 691s 409ms/step - loss: 0.2400 - accuracy: 0.8998 - val_loss: 0.2394 - val_accuracy: 0.8912 - lr: 0.0010\n",
            "Epoch 4/5\n",
            "1691/1691 [==============================] - 668s 395ms/step - loss: 0.2293 - accuracy: 0.9051 - val_loss: 0.2391 - val_accuracy: 0.9018 - lr: 0.0010\n",
            "Epoch 5/5\n",
            "1691/1691 [==============================] - 686s 406ms/step - loss: 0.2234 - accuracy: 0.9079 - val_loss: 0.2564 - val_accuracy: 0.8940 - lr: 0.0010\n"
          ]
        }
      ]
    },
    {
      "cell_type": "markdown",
      "source": [
        "**Loss curves**"
      ],
      "metadata": {
        "id": "6l_-0MRqF4z3"
      }
    },
    {
      "cell_type": "code",
      "source": [
        "pd.DataFrame(history_bert.history).plot();"
      ],
      "metadata": {
        "id": "mQOScqd6F7R8",
        "outputId": "a0331f6a-b3f3-4ea3-8afa-293bad4bec11",
        "colab": {
          "base_uri": "https://localhost:8080/",
          "height": 265
        }
      },
      "execution_count": null,
      "outputs": [
        {
          "output_type": "display_data",
          "data": {
            "text/plain": [
              "<Figure size 432x288 with 1 Axes>"
            ],
            "image/png": "[encoded data removed]"
          },
          "metadata": {
            "needs_background": "light"
          }
        }
      ]
    },
    {
      "cell_type": "code",
      "source": [
        "y_preds=model_bert.predict(test_dataset).squeeze()"
      ],
      "metadata": {
        "id": "3MuP0tYvsdZI",
        "outputId": "cacd2072-43c4-435b-ac08-00a8f1aca5a5",
        "colab": {
          "base_uri": "https://localhost:8080/"
        }
      },
      "execution_count": null,
      "outputs": [
        {
          "output_type": "stream",
          "name": "stdout",
          "text": [
            "564/564 [==============================] - 214s 377ms/step\n"
          ]
        }
      ]
    },
    {
      "cell_type": "code",
      "source": [
        "model_bert_results= calculate_metrics(test_labels, y_preds.round())\n",
        "model_bert_results"
      ],
      "metadata": {
        "id": "GqkZDCBJsyW9",
        "outputId": "3860677c-808d-40d9-f6ca-7a8c6c876f4f",
        "colab": {
          "base_uri": "https://localhost:8080/"
        }
      },
      "execution_count": null,
      "outputs": [
        {
          "output_type": "execute_result",
          "data": {
            "text/plain": [
              "{'Accuracy': 0.8945325496284795,\n",
              " 'Precision': 0.9408103347034644,\n",
              " 'Recall': 0.8514188542884472,\n",
              " 'f1_score': 0.8938852934612809}"
            ]
          },
          "metadata": {},
          "execution_count": 37
        }
      ]
    },
    {
      "cell_type": "markdown",
      "metadata": {
        "id": "1i1AjP_CIPtA"
      },
      "source": [
        "##**Conclusion**"
      ]
    },
    {
      "cell_type": "markdown",
      "source": [
        "**Note**: These results are from our earlier run times, we exhausted our GPU and due to the time restraint we aren't able to do much about it. These results are from the same exact models.\n",
        "\n",
        "Please run it on your personal laptop to verify the results."
      ],
      "metadata": {
        "id": "2SKSv9TPurpX"
      }
    },
    {
      "cell_type": "code",
      "execution_count": null,
      "metadata": {
        "id": "XMZ1y2pyIS4y"
      },
      "outputs": [],
      "source": [
        "results_df= pd.DataFrame({\"model_1: MLP\": model_1_results,\n",
        "                          \"model_2: CNN\": model_2_results,\n",
        "                          \"model_3: RNN\": model_3_results,\n",
        "                          \"model_4: TL\": model_4_results,\n",
        "                          \"model_5: Custom+TL\": model_5_results,\n",
        "                          \"model_6: Ensemble\": model_6_results,\n",
        "                          \"model_bert: BERT\": model_bert_results}).T\n",
        "\n",
        "results_df"
      ]
    },
    {
      "cell_type": "markdown",
      "source": [
        "![image.png](data:image/png;base64,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)"
      ],
      "metadata": {
        "id": "KbobC0EYtlw7"
      }
    },
    {
      "cell_type": "code",
      "execution_count": null,
      "metadata": {
        "id": "XuHK-KFjJJrG"
      },
      "outputs": [],
      "source": [
        "results_df.plot(kind=\"bar\", title=\"Deep Learning Approach\").legend(bbox_to_anchor=(1,1)); "
      ]
    },
    {
      "cell_type": "markdown",
      "source": [
        "![image.png](data:image/png;base64,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)"
      ],
      "metadata": {
        "id": "B7MjZrBNtm7z"
      }
    },
    {
      "cell_type": "markdown",
      "metadata": {
        "id": "JrvEs0kmboHH"
      },
      "source": [
        "##**Tensorboard_Results**: [link](https://tensorboard.dev/experiment/XhmSJZTnRMSyWN817ksOaw/#scalars&runSelectionState=eyJtb2RlbF9DTk4vdHJhaW4iOmZhbHNlLCJtb2RlbF9DdXN0b20rVEwvdHJhaW4iOmZhbHNlLCJtb2RlbF9UTC90cmFpbiI6ZmFsc2UsIm1vZGVsX01MUC90cmFpbiI6ZmFsc2UsIm1vZGVsX1JOTi90cmFpbiI6ZmFsc2V9)"
      ]
    },
    {
      "cell_type": "code",
      "execution_count": null,
      "metadata": {
        "id": "mW8hCdAtbulW"
      },
      "outputs": [],
      "source": [
        "! tensorboard dev upload --logdir ./tensorboard\\\n",
        "--name \"DL_model_results\"\\\n",
        "--description \"modelling results from https://colab.research.google.com/drive/1iw_0giqGcukPX14qCv16lSBbij5_3MFo?usp=sharing\"\\\n",
        "--one_shot"
      ]
    }
  ],
  "metadata": {
    "accelerator": "GPU",
    "colab": {
      "provenance": []
    },
    "gpuClass": "standard",
    "kernelspec": {
      "display_name": "Python 3",
      "name": "python3"
    },
    "language_info": {
      "name": "python"
    }
  },
  "nbformat": 4,
  "nbformat_minor": 0
}